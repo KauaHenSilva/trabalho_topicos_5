{
 "cells": [
  {
   "cell_type": "code",
   "execution_count": 148,
   "id": "0335afb4",
   "metadata": {},
   "outputs": [
    {
     "name": "stdout",
     "output_type": "stream",
     "text": [
      "Note: you may need to restart the kernel to use updated packages.\n"
     ]
    },
    {
     "name": "stderr",
     "output_type": "stream",
     "text": [
      "WARNING: You are using pip version 21.2.3; however, version 25.2 is available.\n",
      "You should consider upgrading via the 'c:\\projetos\\kaua\\trabalho_topicos_5\\.venv\\Scripts\\python.exe -m pip install --upgrade pip' command.\n"
     ]
    }
   ],
   "source": [
    "%pip install -r requirements.txt -q"
   ]
  },
  {
   "cell_type": "code",
   "execution_count": 149,
   "id": "47642d9e",
   "metadata": {},
   "outputs": [],
   "source": [
    "import os\n",
    "import zipfile\n",
    "import pandas as pd\n",
    "import plotly.express as px\n",
    "import plotly.graph_objects as go\n",
    "from plotly.subplots import make_subplots"
   ]
  },
  {
   "cell_type": "code",
   "execution_count": 150,
   "id": "675bc935",
   "metadata": {},
   "outputs": [],
   "source": [
    "path_database = './database'\n",
    "path_database_zip = f'{path_database}/breast-cancer-dataset.zip'\n",
    "path_database_csv = f'{path_database}/breast-cancer.csv'\n",
    "os.makedirs(path_database, exist_ok=True)"
   ]
  },
  {
   "cell_type": "code",
   "execution_count": 151,
   "id": "73150fd5",
   "metadata": {},
   "outputs": [],
   "source": [
    "if not os.path.exists(path_database_zip):\n",
    "    !curl -L -o {path_database_zip} https://www.kaggle.com/api/v1/datasets/download/yasserh/breast-cancer-dataset\n",
    "zipfile.ZipFile(path_database_zip, 'r').extractall(path_database)"
   ]
  },
  {
   "cell_type": "code",
   "execution_count": 152,
   "id": "f67ed5ce",
   "metadata": {},
   "outputs": [
    {
     "data": {
      "application/vnd.microsoft.datawrangler.viewer.v0+json": {
       "columns": [
        {
         "name": "index",
         "rawType": "int64",
         "type": "integer"
        },
        {
         "name": "id",
         "rawType": "int64",
         "type": "integer"
        },
        {
         "name": "diagnosis",
         "rawType": "object",
         "type": "string"
        },
        {
         "name": "radius_mean",
         "rawType": "float64",
         "type": "float"
        },
        {
         "name": "texture_mean",
         "rawType": "float64",
         "type": "float"
        },
        {
         "name": "perimeter_mean",
         "rawType": "float64",
         "type": "float"
        },
        {
         "name": "area_mean",
         "rawType": "float64",
         "type": "float"
        },
        {
         "name": "smoothness_mean",
         "rawType": "float64",
         "type": "float"
        },
        {
         "name": "compactness_mean",
         "rawType": "float64",
         "type": "float"
        },
        {
         "name": "concavity_mean",
         "rawType": "float64",
         "type": "float"
        },
        {
         "name": "concave points_mean",
         "rawType": "float64",
         "type": "float"
        },
        {
         "name": "symmetry_mean",
         "rawType": "float64",
         "type": "float"
        },
        {
         "name": "fractal_dimension_mean",
         "rawType": "float64",
         "type": "float"
        },
        {
         "name": "radius_se",
         "rawType": "float64",
         "type": "float"
        },
        {
         "name": "texture_se",
         "rawType": "float64",
         "type": "float"
        },
        {
         "name": "perimeter_se",
         "rawType": "float64",
         "type": "float"
        },
        {
         "name": "area_se",
         "rawType": "float64",
         "type": "float"
        },
        {
         "name": "smoothness_se",
         "rawType": "float64",
         "type": "float"
        },
        {
         "name": "compactness_se",
         "rawType": "float64",
         "type": "float"
        },
        {
         "name": "concavity_se",
         "rawType": "float64",
         "type": "float"
        },
        {
         "name": "concave points_se",
         "rawType": "float64",
         "type": "float"
        },
        {
         "name": "symmetry_se",
         "rawType": "float64",
         "type": "float"
        },
        {
         "name": "fractal_dimension_se",
         "rawType": "float64",
         "type": "float"
        },
        {
         "name": "radius_worst",
         "rawType": "float64",
         "type": "float"
        },
        {
         "name": "texture_worst",
         "rawType": "float64",
         "type": "float"
        },
        {
         "name": "perimeter_worst",
         "rawType": "float64",
         "type": "float"
        },
        {
         "name": "area_worst",
         "rawType": "float64",
         "type": "float"
        },
        {
         "name": "smoothness_worst",
         "rawType": "float64",
         "type": "float"
        },
        {
         "name": "compactness_worst",
         "rawType": "float64",
         "type": "float"
        },
        {
         "name": "concavity_worst",
         "rawType": "float64",
         "type": "float"
        },
        {
         "name": "concave points_worst",
         "rawType": "float64",
         "type": "float"
        },
        {
         "name": "symmetry_worst",
         "rawType": "float64",
         "type": "float"
        },
        {
         "name": "fractal_dimension_worst",
         "rawType": "float64",
         "type": "float"
        }
       ],
       "ref": "a1e0ec5b-9110-4c66-83ca-2d5d590d0ec3",
       "rows": [
        [
         "0",
         "842302",
         "Maligno",
         "17.99",
         "10.38",
         "122.8",
         "1001.0",
         "0.1184",
         "0.2776",
         "0.3001",
         "0.1471",
         "0.2419",
         "0.07871",
         "1.095",
         "0.9053",
         "8.589",
         "153.4",
         "0.006399",
         "0.04904",
         "0.05373",
         "0.01587",
         "0.03003",
         "0.006193",
         "25.38",
         "17.33",
         "184.6",
         "2019.0",
         "0.1622",
         "0.6656",
         "0.7119",
         "0.2654",
         "0.4601",
         "0.1189"
        ],
        [
         "1",
         "842517",
         "Maligno",
         "20.57",
         "17.77",
         "132.9",
         "1326.0",
         "0.08474",
         "0.07864",
         "0.0869",
         "0.07017",
         "0.1812",
         "0.05667",
         "0.5435",
         "0.7339",
         "3.398",
         "74.08",
         "0.005225",
         "0.01308",
         "0.0186",
         "0.0134",
         "0.01389",
         "0.003532",
         "24.99",
         "23.41",
         "158.8",
         "1956.0",
         "0.1238",
         "0.1866",
         "0.2416",
         "0.186",
         "0.275",
         "0.08902"
        ],
        [
         "2",
         "84300903",
         "Maligno",
         "19.69",
         "21.25",
         "130.0",
         "1203.0",
         "0.1096",
         "0.1599",
         "0.1974",
         "0.1279",
         "0.2069",
         "0.05999",
         "0.7456",
         "0.7869",
         "4.585",
         "94.03",
         "0.00615",
         "0.04006",
         "0.03832",
         "0.02058",
         "0.0225",
         "0.004571",
         "23.57",
         "25.53",
         "152.5",
         "1709.0",
         "0.1444",
         "0.4245",
         "0.4504",
         "0.243",
         "0.3613",
         "0.08758"
        ],
        [
         "3",
         "84348301",
         "Maligno",
         "11.42",
         "20.38",
         "77.58",
         "386.1",
         "0.1425",
         "0.2839",
         "0.2414",
         "0.1052",
         "0.2597",
         "0.09744",
         "0.4956",
         "1.156",
         "3.445",
         "27.23",
         "0.00911",
         "0.07458",
         "0.05661",
         "0.01867",
         "0.05963",
         "0.009208",
         "14.91",
         "26.5",
         "98.87",
         "567.7",
         "0.2098",
         "0.8663",
         "0.6869",
         "0.2575",
         "0.6638",
         "0.173"
        ],
        [
         "4",
         "84358402",
         "Maligno",
         "20.29",
         "14.34",
         "135.1",
         "1297.0",
         "0.1003",
         "0.1328",
         "0.198",
         "0.1043",
         "0.1809",
         "0.05883",
         "0.7572",
         "0.7813",
         "5.438",
         "94.44",
         "0.01149",
         "0.02461",
         "0.05688",
         "0.01885",
         "0.01756",
         "0.005115",
         "22.54",
         "16.67",
         "152.2",
         "1575.0",
         "0.1374",
         "0.205",
         "0.4",
         "0.1625",
         "0.2364",
         "0.07678"
        ]
       ],
       "shape": {
        "columns": 32,
        "rows": 5
       }
      },
      "text/html": [
       "<div>\n",
       "<style scoped>\n",
       "    .dataframe tbody tr th:only-of-type {\n",
       "        vertical-align: middle;\n",
       "    }\n",
       "\n",
       "    .dataframe tbody tr th {\n",
       "        vertical-align: top;\n",
       "    }\n",
       "\n",
       "    .dataframe thead th {\n",
       "        text-align: right;\n",
       "    }\n",
       "</style>\n",
       "<table border=\"1\" class=\"dataframe\">\n",
       "  <thead>\n",
       "    <tr style=\"text-align: right;\">\n",
       "      <th></th>\n",
       "      <th>id</th>\n",
       "      <th>diagnosis</th>\n",
       "      <th>radius_mean</th>\n",
       "      <th>texture_mean</th>\n",
       "      <th>perimeter_mean</th>\n",
       "      <th>area_mean</th>\n",
       "      <th>smoothness_mean</th>\n",
       "      <th>compactness_mean</th>\n",
       "      <th>concavity_mean</th>\n",
       "      <th>concave points_mean</th>\n",
       "      <th>...</th>\n",
       "      <th>radius_worst</th>\n",
       "      <th>texture_worst</th>\n",
       "      <th>perimeter_worst</th>\n",
       "      <th>area_worst</th>\n",
       "      <th>smoothness_worst</th>\n",
       "      <th>compactness_worst</th>\n",
       "      <th>concavity_worst</th>\n",
       "      <th>concave points_worst</th>\n",
       "      <th>symmetry_worst</th>\n",
       "      <th>fractal_dimension_worst</th>\n",
       "    </tr>\n",
       "  </thead>\n",
       "  <tbody>\n",
       "    <tr>\n",
       "      <th>0</th>\n",
       "      <td>842302</td>\n",
       "      <td>Maligno</td>\n",
       "      <td>17.99</td>\n",
       "      <td>10.38</td>\n",
       "      <td>122.80</td>\n",
       "      <td>1001.0</td>\n",
       "      <td>0.11840</td>\n",
       "      <td>0.27760</td>\n",
       "      <td>0.3001</td>\n",
       "      <td>0.14710</td>\n",
       "      <td>...</td>\n",
       "      <td>25.38</td>\n",
       "      <td>17.33</td>\n",
       "      <td>184.60</td>\n",
       "      <td>2019.0</td>\n",
       "      <td>0.1622</td>\n",
       "      <td>0.6656</td>\n",
       "      <td>0.7119</td>\n",
       "      <td>0.2654</td>\n",
       "      <td>0.4601</td>\n",
       "      <td>0.11890</td>\n",
       "    </tr>\n",
       "    <tr>\n",
       "      <th>1</th>\n",
       "      <td>842517</td>\n",
       "      <td>Maligno</td>\n",
       "      <td>20.57</td>\n",
       "      <td>17.77</td>\n",
       "      <td>132.90</td>\n",
       "      <td>1326.0</td>\n",
       "      <td>0.08474</td>\n",
       "      <td>0.07864</td>\n",
       "      <td>0.0869</td>\n",
       "      <td>0.07017</td>\n",
       "      <td>...</td>\n",
       "      <td>24.99</td>\n",
       "      <td>23.41</td>\n",
       "      <td>158.80</td>\n",
       "      <td>1956.0</td>\n",
       "      <td>0.1238</td>\n",
       "      <td>0.1866</td>\n",
       "      <td>0.2416</td>\n",
       "      <td>0.1860</td>\n",
       "      <td>0.2750</td>\n",
       "      <td>0.08902</td>\n",
       "    </tr>\n",
       "    <tr>\n",
       "      <th>2</th>\n",
       "      <td>84300903</td>\n",
       "      <td>Maligno</td>\n",
       "      <td>19.69</td>\n",
       "      <td>21.25</td>\n",
       "      <td>130.00</td>\n",
       "      <td>1203.0</td>\n",
       "      <td>0.10960</td>\n",
       "      <td>0.15990</td>\n",
       "      <td>0.1974</td>\n",
       "      <td>0.12790</td>\n",
       "      <td>...</td>\n",
       "      <td>23.57</td>\n",
       "      <td>25.53</td>\n",
       "      <td>152.50</td>\n",
       "      <td>1709.0</td>\n",
       "      <td>0.1444</td>\n",
       "      <td>0.4245</td>\n",
       "      <td>0.4504</td>\n",
       "      <td>0.2430</td>\n",
       "      <td>0.3613</td>\n",
       "      <td>0.08758</td>\n",
       "    </tr>\n",
       "    <tr>\n",
       "      <th>3</th>\n",
       "      <td>84348301</td>\n",
       "      <td>Maligno</td>\n",
       "      <td>11.42</td>\n",
       "      <td>20.38</td>\n",
       "      <td>77.58</td>\n",
       "      <td>386.1</td>\n",
       "      <td>0.14250</td>\n",
       "      <td>0.28390</td>\n",
       "      <td>0.2414</td>\n",
       "      <td>0.10520</td>\n",
       "      <td>...</td>\n",
       "      <td>14.91</td>\n",
       "      <td>26.50</td>\n",
       "      <td>98.87</td>\n",
       "      <td>567.7</td>\n",
       "      <td>0.2098</td>\n",
       "      <td>0.8663</td>\n",
       "      <td>0.6869</td>\n",
       "      <td>0.2575</td>\n",
       "      <td>0.6638</td>\n",
       "      <td>0.17300</td>\n",
       "    </tr>\n",
       "    <tr>\n",
       "      <th>4</th>\n",
       "      <td>84358402</td>\n",
       "      <td>Maligno</td>\n",
       "      <td>20.29</td>\n",
       "      <td>14.34</td>\n",
       "      <td>135.10</td>\n",
       "      <td>1297.0</td>\n",
       "      <td>0.10030</td>\n",
       "      <td>0.13280</td>\n",
       "      <td>0.1980</td>\n",
       "      <td>0.10430</td>\n",
       "      <td>...</td>\n",
       "      <td>22.54</td>\n",
       "      <td>16.67</td>\n",
       "      <td>152.20</td>\n",
       "      <td>1575.0</td>\n",
       "      <td>0.1374</td>\n",
       "      <td>0.2050</td>\n",
       "      <td>0.4000</td>\n",
       "      <td>0.1625</td>\n",
       "      <td>0.2364</td>\n",
       "      <td>0.07678</td>\n",
       "    </tr>\n",
       "  </tbody>\n",
       "</table>\n",
       "<p>5 rows × 32 columns</p>\n",
       "</div>"
      ],
      "text/plain": [
       "         id diagnosis  radius_mean  texture_mean  perimeter_mean  area_mean  \\\n",
       "0    842302   Maligno        17.99         10.38          122.80     1001.0   \n",
       "1    842517   Maligno        20.57         17.77          132.90     1326.0   \n",
       "2  84300903   Maligno        19.69         21.25          130.00     1203.0   \n",
       "3  84348301   Maligno        11.42         20.38           77.58      386.1   \n",
       "4  84358402   Maligno        20.29         14.34          135.10     1297.0   \n",
       "\n",
       "   smoothness_mean  compactness_mean  concavity_mean  concave points_mean  \\\n",
       "0          0.11840           0.27760          0.3001              0.14710   \n",
       "1          0.08474           0.07864          0.0869              0.07017   \n",
       "2          0.10960           0.15990          0.1974              0.12790   \n",
       "3          0.14250           0.28390          0.2414              0.10520   \n",
       "4          0.10030           0.13280          0.1980              0.10430   \n",
       "\n",
       "   ...  radius_worst  texture_worst  perimeter_worst  area_worst  \\\n",
       "0  ...         25.38          17.33           184.60      2019.0   \n",
       "1  ...         24.99          23.41           158.80      1956.0   \n",
       "2  ...         23.57          25.53           152.50      1709.0   \n",
       "3  ...         14.91          26.50            98.87       567.7   \n",
       "4  ...         22.54          16.67           152.20      1575.0   \n",
       "\n",
       "   smoothness_worst  compactness_worst  concavity_worst  concave points_worst  \\\n",
       "0            0.1622             0.6656           0.7119                0.2654   \n",
       "1            0.1238             0.1866           0.2416                0.1860   \n",
       "2            0.1444             0.4245           0.4504                0.2430   \n",
       "3            0.2098             0.8663           0.6869                0.2575   \n",
       "4            0.1374             0.2050           0.4000                0.1625   \n",
       "\n",
       "   symmetry_worst  fractal_dimension_worst  \n",
       "0          0.4601                  0.11890  \n",
       "1          0.2750                  0.08902  \n",
       "2          0.3613                  0.08758  \n",
       "3          0.6638                  0.17300  \n",
       "4          0.2364                  0.07678  \n",
       "\n",
       "[5 rows x 32 columns]"
      ]
     },
     "execution_count": 152,
     "metadata": {},
     "output_type": "execute_result"
    }
   ],
   "source": [
    "df_dataset = pd.read_csv(path_database_csv)\n",
    "df_dataset['diagnosis'] = df_dataset['diagnosis'].map({'M': 'Maligno', 'B': 'Benigno'})\n",
    "df_dataset.head()"
   ]
  },
  {
   "cell_type": "code",
   "execution_count": 153,
   "id": "07566c24",
   "metadata": {},
   "outputs": [
    {
     "data": {
      "application/vnd.plotly.v1+json": {
       "config": {
        "plotlyServerURL": "https://plot.ly"
       },
       "data": [
        {
         "bingroup": "x",
         "hovertemplate": "diagnosis=%{x}<br>count=%{y}<extra></extra>",
         "legendgroup": "",
         "marker": {
          "color": "#636efa",
          "pattern": {
           "shape": ""
          }
         },
         "name": "",
         "orientation": "v",
         "showlegend": false,
         "type": "histogram",
         "x": [
          "Maligno",
          "Maligno",
          "Maligno",
          "Maligno",
          "Maligno",
          "Maligno",
          "Maligno",
          "Maligno",
          "Maligno",
          "Maligno",
          "Maligno",
          "Maligno",
          "Maligno",
          "Maligno",
          "Maligno",
          "Maligno",
          "Maligno",
          "Maligno",
          "Maligno",
          "Benigno",
          "Benigno",
          "Benigno",
          "Maligno",
          "Maligno",
          "Maligno",
          "Maligno",
          "Maligno",
          "Maligno",
          "Maligno",
          "Maligno",
          "Maligno",
          "Maligno",
          "Maligno",
          "Maligno",
          "Maligno",
          "Maligno",
          "Maligno",
          "Benigno",
          "Maligno",
          "Maligno",
          "Maligno",
          "Maligno",
          "Maligno",
          "Maligno",
          "Maligno",
          "Maligno",
          "Benigno",
          "Maligno",
          "Benigno",
          "Benigno",
          "Benigno",
          "Benigno",
          "Benigno",
          "Maligno",
          "Maligno",
          "Benigno",
          "Maligno",
          "Maligno",
          "Benigno",
          "Benigno",
          "Benigno",
          "Benigno",
          "Maligno",
          "Benigno",
          "Maligno",
          "Maligno",
          "Benigno",
          "Benigno",
          "Benigno",
          "Benigno",
          "Maligno",
          "Benigno",
          "Maligno",
          "Maligno",
          "Benigno",
          "Maligno",
          "Benigno",
          "Maligno",
          "Maligno",
          "Benigno",
          "Benigno",
          "Benigno",
          "Maligno",
          "Maligno",
          "Benigno",
          "Maligno",
          "Maligno",
          "Maligno",
          "Benigno",
          "Benigno",
          "Benigno",
          "Maligno",
          "Benigno",
          "Benigno",
          "Maligno",
          "Maligno",
          "Benigno",
          "Benigno",
          "Benigno",
          "Maligno",
          "Maligno",
          "Benigno",
          "Benigno",
          "Benigno",
          "Benigno",
          "Maligno",
          "Benigno",
          "Benigno",
          "Maligno",
          "Benigno",
          "Benigno",
          "Benigno",
          "Benigno",
          "Benigno",
          "Benigno",
          "Benigno",
          "Benigno",
          "Maligno",
          "Maligno",
          "Maligno",
          "Benigno",
          "Maligno",
          "Maligno",
          "Benigno",
          "Benigno",
          "Benigno",
          "Maligno",
          "Maligno",
          "Benigno",
          "Maligno",
          "Benigno",
          "Maligno",
          "Maligno",
          "Benigno",
          "Maligno",
          "Maligno",
          "Benigno",
          "Benigno",
          "Maligno",
          "Benigno",
          "Benigno",
          "Maligno",
          "Benigno",
          "Benigno",
          "Benigno",
          "Benigno",
          "Maligno",
          "Benigno",
          "Benigno",
          "Benigno",
          "Benigno",
          "Benigno",
          "Benigno",
          "Benigno",
          "Benigno",
          "Benigno",
          "Maligno",
          "Benigno",
          "Benigno",
          "Benigno",
          "Benigno",
          "Maligno",
          "Maligno",
          "Benigno",
          "Maligno",
          "Benigno",
          "Benigno",
          "Maligno",
          "Maligno",
          "Benigno",
          "Benigno",
          "Maligno",
          "Maligno",
          "Benigno",
          "Benigno",
          "Benigno",
          "Benigno",
          "Maligno",
          "Benigno",
          "Benigno",
          "Maligno",
          "Maligno",
          "Maligno",
          "Benigno",
          "Maligno",
          "Benigno",
          "Maligno",
          "Benigno",
          "Benigno",
          "Benigno",
          "Maligno",
          "Benigno",
          "Benigno",
          "Maligno",
          "Maligno",
          "Benigno",
          "Maligno",
          "Maligno",
          "Maligno",
          "Maligno",
          "Benigno",
          "Maligno",
          "Maligno",
          "Maligno",
          "Benigno",
          "Maligno",
          "Benigno",
          "Maligno",
          "Benigno",
          "Benigno",
          "Maligno",
          "Benigno",
          "Maligno",
          "Maligno",
          "Maligno",
          "Maligno",
          "Benigno",
          "Benigno",
          "Maligno",
          "Maligno",
          "Benigno",
          "Benigno",
          "Benigno",
          "Maligno",
          "Benigno",
          "Benigno",
          "Benigno",
          "Benigno",
          "Benigno",
          "Maligno",
          "Maligno",
          "Benigno",
          "Benigno",
          "Maligno",
          "Benigno",
          "Benigno",
          "Maligno",
          "Maligno",
          "Benigno",
          "Maligno",
          "Benigno",
          "Benigno",
          "Benigno",
          "Benigno",
          "Maligno",
          "Benigno",
          "Benigno",
          "Benigno",
          "Benigno",
          "Benigno",
          "Maligno",
          "Benigno",
          "Maligno",
          "Maligno",
          "Maligno",
          "Maligno",
          "Maligno",
          "Maligno",
          "Maligno",
          "Maligno",
          "Maligno",
          "Maligno",
          "Maligno",
          "Maligno",
          "Maligno",
          "Maligno",
          "Benigno",
          "Benigno",
          "Benigno",
          "Benigno",
          "Benigno",
          "Benigno",
          "Maligno",
          "Benigno",
          "Maligno",
          "Benigno",
          "Benigno",
          "Maligno",
          "Benigno",
          "Benigno",
          "Maligno",
          "Benigno",
          "Maligno",
          "Maligno",
          "Benigno",
          "Benigno",
          "Benigno",
          "Benigno",
          "Benigno",
          "Benigno",
          "Benigno",
          "Benigno",
          "Benigno",
          "Benigno",
          "Benigno",
          "Benigno",
          "Benigno",
          "Maligno",
          "Benigno",
          "Benigno",
          "Maligno",
          "Benigno",
          "Maligno",
          "Benigno",
          "Benigno",
          "Benigno",
          "Benigno",
          "Benigno",
          "Benigno",
          "Benigno",
          "Benigno",
          "Benigno",
          "Benigno",
          "Benigno",
          "Benigno",
          "Benigno",
          "Benigno",
          "Maligno",
          "Benigno",
          "Benigno",
          "Benigno",
          "Maligno",
          "Benigno",
          "Maligno",
          "Benigno",
          "Benigno",
          "Benigno",
          "Benigno",
          "Maligno",
          "Maligno",
          "Maligno",
          "Benigno",
          "Benigno",
          "Benigno",
          "Benigno",
          "Maligno",
          "Benigno",
          "Maligno",
          "Benigno",
          "Maligno",
          "Benigno",
          "Benigno",
          "Benigno",
          "Maligno",
          "Benigno",
          "Benigno",
          "Benigno",
          "Benigno",
          "Benigno",
          "Benigno",
          "Benigno",
          "Maligno",
          "Maligno",
          "Maligno",
          "Benigno",
          "Benigno",
          "Benigno",
          "Benigno",
          "Benigno",
          "Benigno",
          "Benigno",
          "Benigno",
          "Benigno",
          "Benigno",
          "Benigno",
          "Maligno",
          "Maligno",
          "Benigno",
          "Maligno",
          "Maligno",
          "Maligno",
          "Benigno",
          "Maligno",
          "Maligno",
          "Benigno",
          "Benigno",
          "Benigno",
          "Benigno",
          "Benigno",
          "Maligno",
          "Benigno",
          "Benigno",
          "Benigno",
          "Benigno",
          "Benigno",
          "Maligno",
          "Benigno",
          "Benigno",
          "Benigno",
          "Maligno",
          "Benigno",
          "Benigno",
          "Maligno",
          "Maligno",
          "Benigno",
          "Benigno",
          "Benigno",
          "Benigno",
          "Benigno",
          "Benigno",
          "Maligno",
          "Benigno",
          "Benigno",
          "Benigno",
          "Benigno",
          "Benigno",
          "Benigno",
          "Benigno",
          "Maligno",
          "Benigno",
          "Benigno",
          "Benigno",
          "Benigno",
          "Benigno",
          "Maligno",
          "Benigno",
          "Benigno",
          "Maligno",
          "Benigno",
          "Benigno",
          "Benigno",
          "Benigno",
          "Benigno",
          "Benigno",
          "Benigno",
          "Benigno",
          "Benigno",
          "Benigno",
          "Benigno",
          "Benigno",
          "Maligno",
          "Benigno",
          "Maligno",
          "Maligno",
          "Benigno",
          "Maligno",
          "Benigno",
          "Benigno",
          "Benigno",
          "Benigno",
          "Benigno",
          "Maligno",
          "Benigno",
          "Benigno",
          "Maligno",
          "Benigno",
          "Maligno",
          "Benigno",
          "Benigno",
          "Maligno",
          "Benigno",
          "Maligno",
          "Benigno",
          "Benigno",
          "Benigno",
          "Benigno",
          "Benigno",
          "Benigno",
          "Benigno",
          "Benigno",
          "Maligno",
          "Maligno",
          "Benigno",
          "Benigno",
          "Benigno",
          "Benigno",
          "Benigno",
          "Benigno",
          "Maligno",
          "Benigno",
          "Benigno",
          "Benigno",
          "Benigno",
          "Benigno",
          "Benigno",
          "Benigno",
          "Benigno",
          "Benigno",
          "Benigno",
          "Maligno",
          "Benigno",
          "Benigno",
          "Benigno",
          "Benigno",
          "Benigno",
          "Benigno",
          "Benigno",
          "Maligno",
          "Benigno",
          "Maligno",
          "Benigno",
          "Benigno",
          "Maligno",
          "Benigno",
          "Benigno",
          "Benigno",
          "Benigno",
          "Benigno",
          "Maligno",
          "Maligno",
          "Benigno",
          "Maligno",
          "Benigno",
          "Maligno",
          "Benigno",
          "Benigno",
          "Benigno",
          "Benigno",
          "Benigno",
          "Maligno",
          "Benigno",
          "Benigno",
          "Maligno",
          "Benigno",
          "Maligno",
          "Benigno",
          "Maligno",
          "Maligno",
          "Benigno",
          "Benigno",
          "Benigno",
          "Maligno",
          "Benigno",
          "Benigno",
          "Benigno",
          "Benigno",
          "Benigno",
          "Benigno",
          "Benigno",
          "Benigno",
          "Benigno",
          "Benigno",
          "Benigno",
          "Maligno",
          "Benigno",
          "Maligno",
          "Maligno",
          "Benigno",
          "Benigno",
          "Benigno",
          "Benigno",
          "Benigno",
          "Benigno",
          "Benigno",
          "Benigno",
          "Benigno",
          "Benigno",
          "Benigno",
          "Benigno",
          "Benigno",
          "Benigno",
          "Benigno",
          "Benigno",
          "Benigno",
          "Benigno",
          "Benigno",
          "Benigno",
          "Benigno",
          "Benigno",
          "Benigno",
          "Benigno",
          "Benigno",
          "Maligno",
          "Maligno",
          "Maligno",
          "Maligno",
          "Maligno",
          "Maligno",
          "Benigno"
         ],
         "xaxis": "x",
         "yaxis": "y"
        }
       ],
       "layout": {
        "barmode": "relative",
        "legend": {
         "tracegroupgap": 0
        },
        "template": {
         "data": {
          "bar": [
           {
            "error_x": {
             "color": "#2a3f5f"
            },
            "error_y": {
             "color": "#2a3f5f"
            },
            "marker": {
             "line": {
              "color": "#E5ECF6",
              "width": 0.5
             },
             "pattern": {
              "fillmode": "overlay",
              "size": 10,
              "solidity": 0.2
             }
            },
            "type": "bar"
           }
          ],
          "barpolar": [
           {
            "marker": {
             "line": {
              "color": "#E5ECF6",
              "width": 0.5
             },
             "pattern": {
              "fillmode": "overlay",
              "size": 10,
              "solidity": 0.2
             }
            },
            "type": "barpolar"
           }
          ],
          "carpet": [
           {
            "aaxis": {
             "endlinecolor": "#2a3f5f",
             "gridcolor": "white",
             "linecolor": "white",
             "minorgridcolor": "white",
             "startlinecolor": "#2a3f5f"
            },
            "baxis": {
             "endlinecolor": "#2a3f5f",
             "gridcolor": "white",
             "linecolor": "white",
             "minorgridcolor": "white",
             "startlinecolor": "#2a3f5f"
            },
            "type": "carpet"
           }
          ],
          "choropleth": [
           {
            "colorbar": {
             "outlinewidth": 0,
             "ticks": ""
            },
            "type": "choropleth"
           }
          ],
          "contour": [
           {
            "colorbar": {
             "outlinewidth": 0,
             "ticks": ""
            },
            "colorscale": [
             [
              0,
              "#0d0887"
             ],
             [
              0.1111111111111111,
              "#46039f"
             ],
             [
              0.2222222222222222,
              "#7201a8"
             ],
             [
              0.3333333333333333,
              "#9c179e"
             ],
             [
              0.4444444444444444,
              "#bd3786"
             ],
             [
              0.5555555555555556,
              "#d8576b"
             ],
             [
              0.6666666666666666,
              "#ed7953"
             ],
             [
              0.7777777777777778,
              "#fb9f3a"
             ],
             [
              0.8888888888888888,
              "#fdca26"
             ],
             [
              1,
              "#f0f921"
             ]
            ],
            "type": "contour"
           }
          ],
          "contourcarpet": [
           {
            "colorbar": {
             "outlinewidth": 0,
             "ticks": ""
            },
            "type": "contourcarpet"
           }
          ],
          "heatmap": [
           {
            "colorbar": {
             "outlinewidth": 0,
             "ticks": ""
            },
            "colorscale": [
             [
              0,
              "#0d0887"
             ],
             [
              0.1111111111111111,
              "#46039f"
             ],
             [
              0.2222222222222222,
              "#7201a8"
             ],
             [
              0.3333333333333333,
              "#9c179e"
             ],
             [
              0.4444444444444444,
              "#bd3786"
             ],
             [
              0.5555555555555556,
              "#d8576b"
             ],
             [
              0.6666666666666666,
              "#ed7953"
             ],
             [
              0.7777777777777778,
              "#fb9f3a"
             ],
             [
              0.8888888888888888,
              "#fdca26"
             ],
             [
              1,
              "#f0f921"
             ]
            ],
            "type": "heatmap"
           }
          ],
          "histogram": [
           {
            "marker": {
             "pattern": {
              "fillmode": "overlay",
              "size": 10,
              "solidity": 0.2
             }
            },
            "type": "histogram"
           }
          ],
          "histogram2d": [
           {
            "colorbar": {
             "outlinewidth": 0,
             "ticks": ""
            },
            "colorscale": [
             [
              0,
              "#0d0887"
             ],
             [
              0.1111111111111111,
              "#46039f"
             ],
             [
              0.2222222222222222,
              "#7201a8"
             ],
             [
              0.3333333333333333,
              "#9c179e"
             ],
             [
              0.4444444444444444,
              "#bd3786"
             ],
             [
              0.5555555555555556,
              "#d8576b"
             ],
             [
              0.6666666666666666,
              "#ed7953"
             ],
             [
              0.7777777777777778,
              "#fb9f3a"
             ],
             [
              0.8888888888888888,
              "#fdca26"
             ],
             [
              1,
              "#f0f921"
             ]
            ],
            "type": "histogram2d"
           }
          ],
          "histogram2dcontour": [
           {
            "colorbar": {
             "outlinewidth": 0,
             "ticks": ""
            },
            "colorscale": [
             [
              0,
              "#0d0887"
             ],
             [
              0.1111111111111111,
              "#46039f"
             ],
             [
              0.2222222222222222,
              "#7201a8"
             ],
             [
              0.3333333333333333,
              "#9c179e"
             ],
             [
              0.4444444444444444,
              "#bd3786"
             ],
             [
              0.5555555555555556,
              "#d8576b"
             ],
             [
              0.6666666666666666,
              "#ed7953"
             ],
             [
              0.7777777777777778,
              "#fb9f3a"
             ],
             [
              0.8888888888888888,
              "#fdca26"
             ],
             [
              1,
              "#f0f921"
             ]
            ],
            "type": "histogram2dcontour"
           }
          ],
          "mesh3d": [
           {
            "colorbar": {
             "outlinewidth": 0,
             "ticks": ""
            },
            "type": "mesh3d"
           }
          ],
          "parcoords": [
           {
            "line": {
             "colorbar": {
              "outlinewidth": 0,
              "ticks": ""
             }
            },
            "type": "parcoords"
           }
          ],
          "pie": [
           {
            "automargin": true,
            "type": "pie"
           }
          ],
          "scatter": [
           {
            "fillpattern": {
             "fillmode": "overlay",
             "size": 10,
             "solidity": 0.2
            },
            "type": "scatter"
           }
          ],
          "scatter3d": [
           {
            "line": {
             "colorbar": {
              "outlinewidth": 0,
              "ticks": ""
             }
            },
            "marker": {
             "colorbar": {
              "outlinewidth": 0,
              "ticks": ""
             }
            },
            "type": "scatter3d"
           }
          ],
          "scattercarpet": [
           {
            "marker": {
             "colorbar": {
              "outlinewidth": 0,
              "ticks": ""
             }
            },
            "type": "scattercarpet"
           }
          ],
          "scattergeo": [
           {
            "marker": {
             "colorbar": {
              "outlinewidth": 0,
              "ticks": ""
             }
            },
            "type": "scattergeo"
           }
          ],
          "scattergl": [
           {
            "marker": {
             "colorbar": {
              "outlinewidth": 0,
              "ticks": ""
             }
            },
            "type": "scattergl"
           }
          ],
          "scattermap": [
           {
            "marker": {
             "colorbar": {
              "outlinewidth": 0,
              "ticks": ""
             }
            },
            "type": "scattermap"
           }
          ],
          "scattermapbox": [
           {
            "marker": {
             "colorbar": {
              "outlinewidth": 0,
              "ticks": ""
             }
            },
            "type": "scattermapbox"
           }
          ],
          "scatterpolar": [
           {
            "marker": {
             "colorbar": {
              "outlinewidth": 0,
              "ticks": ""
             }
            },
            "type": "scatterpolar"
           }
          ],
          "scatterpolargl": [
           {
            "marker": {
             "colorbar": {
              "outlinewidth": 0,
              "ticks": ""
             }
            },
            "type": "scatterpolargl"
           }
          ],
          "scatterternary": [
           {
            "marker": {
             "colorbar": {
              "outlinewidth": 0,
              "ticks": ""
             }
            },
            "type": "scatterternary"
           }
          ],
          "surface": [
           {
            "colorbar": {
             "outlinewidth": 0,
             "ticks": ""
            },
            "colorscale": [
             [
              0,
              "#0d0887"
             ],
             [
              0.1111111111111111,
              "#46039f"
             ],
             [
              0.2222222222222222,
              "#7201a8"
             ],
             [
              0.3333333333333333,
              "#9c179e"
             ],
             [
              0.4444444444444444,
              "#bd3786"
             ],
             [
              0.5555555555555556,
              "#d8576b"
             ],
             [
              0.6666666666666666,
              "#ed7953"
             ],
             [
              0.7777777777777778,
              "#fb9f3a"
             ],
             [
              0.8888888888888888,
              "#fdca26"
             ],
             [
              1,
              "#f0f921"
             ]
            ],
            "type": "surface"
           }
          ],
          "table": [
           {
            "cells": {
             "fill": {
              "color": "#EBF0F8"
             },
             "line": {
              "color": "white"
             }
            },
            "header": {
             "fill": {
              "color": "#C8D4E3"
             },
             "line": {
              "color": "white"
             }
            },
            "type": "table"
           }
          ]
         },
         "layout": {
          "annotationdefaults": {
           "arrowcolor": "#2a3f5f",
           "arrowhead": 0,
           "arrowwidth": 1
          },
          "autotypenumbers": "strict",
          "coloraxis": {
           "colorbar": {
            "outlinewidth": 0,
            "ticks": ""
           }
          },
          "colorscale": {
           "diverging": [
            [
             0,
             "#8e0152"
            ],
            [
             0.1,
             "#c51b7d"
            ],
            [
             0.2,
             "#de77ae"
            ],
            [
             0.3,
             "#f1b6da"
            ],
            [
             0.4,
             "#fde0ef"
            ],
            [
             0.5,
             "#f7f7f7"
            ],
            [
             0.6,
             "#e6f5d0"
            ],
            [
             0.7,
             "#b8e186"
            ],
            [
             0.8,
             "#7fbc41"
            ],
            [
             0.9,
             "#4d9221"
            ],
            [
             1,
             "#276419"
            ]
           ],
           "sequential": [
            [
             0,
             "#0d0887"
            ],
            [
             0.1111111111111111,
             "#46039f"
            ],
            [
             0.2222222222222222,
             "#7201a8"
            ],
            [
             0.3333333333333333,
             "#9c179e"
            ],
            [
             0.4444444444444444,
             "#bd3786"
            ],
            [
             0.5555555555555556,
             "#d8576b"
            ],
            [
             0.6666666666666666,
             "#ed7953"
            ],
            [
             0.7777777777777778,
             "#fb9f3a"
            ],
            [
             0.8888888888888888,
             "#fdca26"
            ],
            [
             1,
             "#f0f921"
            ]
           ],
           "sequentialminus": [
            [
             0,
             "#0d0887"
            ],
            [
             0.1111111111111111,
             "#46039f"
            ],
            [
             0.2222222222222222,
             "#7201a8"
            ],
            [
             0.3333333333333333,
             "#9c179e"
            ],
            [
             0.4444444444444444,
             "#bd3786"
            ],
            [
             0.5555555555555556,
             "#d8576b"
            ],
            [
             0.6666666666666666,
             "#ed7953"
            ],
            [
             0.7777777777777778,
             "#fb9f3a"
            ],
            [
             0.8888888888888888,
             "#fdca26"
            ],
            [
             1,
             "#f0f921"
            ]
           ]
          },
          "colorway": [
           "#636efa",
           "#EF553B",
           "#00cc96",
           "#ab63fa",
           "#FFA15A",
           "#19d3f3",
           "#FF6692",
           "#B6E880",
           "#FF97FF",
           "#FECB52"
          ],
          "font": {
           "color": "#2a3f5f"
          },
          "geo": {
           "bgcolor": "white",
           "lakecolor": "white",
           "landcolor": "#E5ECF6",
           "showlakes": true,
           "showland": true,
           "subunitcolor": "white"
          },
          "hoverlabel": {
           "align": "left"
          },
          "hovermode": "closest",
          "mapbox": {
           "style": "light"
          },
          "paper_bgcolor": "white",
          "plot_bgcolor": "#E5ECF6",
          "polar": {
           "angularaxis": {
            "gridcolor": "white",
            "linecolor": "white",
            "ticks": ""
           },
           "bgcolor": "#E5ECF6",
           "radialaxis": {
            "gridcolor": "white",
            "linecolor": "white",
            "ticks": ""
           }
          },
          "scene": {
           "xaxis": {
            "backgroundcolor": "#E5ECF6",
            "gridcolor": "white",
            "gridwidth": 2,
            "linecolor": "white",
            "showbackground": true,
            "ticks": "",
            "zerolinecolor": "white"
           },
           "yaxis": {
            "backgroundcolor": "#E5ECF6",
            "gridcolor": "white",
            "gridwidth": 2,
            "linecolor": "white",
            "showbackground": true,
            "ticks": "",
            "zerolinecolor": "white"
           },
           "zaxis": {
            "backgroundcolor": "#E5ECF6",
            "gridcolor": "white",
            "gridwidth": 2,
            "linecolor": "white",
            "showbackground": true,
            "ticks": "",
            "zerolinecolor": "white"
           }
          },
          "shapedefaults": {
           "line": {
            "color": "#2a3f5f"
           }
          },
          "ternary": {
           "aaxis": {
            "gridcolor": "white",
            "linecolor": "white",
            "ticks": ""
           },
           "baxis": {
            "gridcolor": "white",
            "linecolor": "white",
            "ticks": ""
           },
           "bgcolor": "#E5ECF6",
           "caxis": {
            "gridcolor": "white",
            "linecolor": "white",
            "ticks": ""
           }
          },
          "title": {
           "x": 0.05
          },
          "xaxis": {
           "automargin": true,
           "gridcolor": "white",
           "linecolor": "white",
           "ticks": "",
           "title": {
            "standoff": 15
           },
           "zerolinecolor": "white",
           "zerolinewidth": 2
          },
          "yaxis": {
           "automargin": true,
           "gridcolor": "white",
           "linecolor": "white",
           "ticks": "",
           "title": {
            "standoff": 15
           },
           "zerolinecolor": "white",
           "zerolinewidth": 2
          }
         }
        },
        "title": {
         "text": "Distribuição de Classes"
        },
        "xaxis": {
         "anchor": "y",
         "domain": [
          0,
          1
         ],
         "title": {
          "text": "diagnosis"
         }
        },
        "yaxis": {
         "anchor": "x",
         "domain": [
          0,
          1
         ],
         "title": {
          "text": "count"
         }
        }
       }
      }
     },
     "metadata": {},
     "output_type": "display_data"
    }
   ],
   "source": [
    "px.histogram(df_dataset, x='diagnosis', title='Distribuição de Classes')"
   ]
  },
  {
   "cell_type": "code",
   "execution_count": 154,
   "id": "34975756",
   "metadata": {},
   "outputs": [
    {
     "data": {
      "application/vnd.plotly.v1+json": {
       "config": {
        "plotlyServerURL": "https://plot.ly"
       },
       "data": [
        {
         "name": "Maligno",
         "showlegend": true,
         "type": "box",
         "xaxis": "x",
         "y": {
          "bdata": "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",
          "dtype": "f8"
         },
         "yaxis": "y"
        },
        {
         "name": "Benigno",
         "showlegend": true,
         "type": "box",
         "xaxis": "x",
         "y": {
          "bdata": "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",
          "dtype": "f8"
         },
         "yaxis": "y"
        },
        {
         "name": "Maligno",
         "showlegend": false,
         "type": "box",
         "xaxis": "x2",
         "y": {
          "bdata": "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",
          "dtype": "f8"
         },
         "yaxis": "y2"
        },
        {
         "name": "Benigno",
         "showlegend": false,
         "type": "box",
         "xaxis": "x2",
         "y": {
          "bdata": "uB6F61G4LEDsUbgehWsvQOF6FK5H4ShA7FG4HoVrMkDXo3A9CtcwQMP1KFyPQi1AzczMzMxMNkCamZmZmZk1QNejcD0KVzBAPQrXo3A9MkAAAAAAAMAyQI/C9ShcTzNAFK5H4XqUJ0DD9Shcj8ItQHsUrkfh+jRAuB6F61G4K0DD9ShcjwI1QArXo3A9CjNAFK5H4XpUMUA9CtejcH0wQEjhehSuRy1AhetRuB6FMEDhehSuR+ElQAAAAAAAADJAuB6F61H4NEC4HoXrUbgvQM3MzMzMTC9AzczMzMzMNUB7FK5H4XouQIXrUbgeBThAhetRuB6FLUDNzMzMzEwyQNejcD0K1zFAcT0K16PwM0CuR+F6FK4pQFyPwvUo3CpAhetRuB6FNEBmZmZmZmYzQArXo3A9SjNAFK5H4XpUMkAK16NwPYoyQMP1KFyPQjVAPQrXo3D9MEDD9Shcj8I0QGZmZmZmpjNAcT0K16MwNEApXI/C9agvQEjhehSuhzVAhetRuB6FL0CkcD0K16MlQEjhehSuxyVApHA9CtdjMED2KFyPwjUxQKRwPQrXYzBAFK5H4XqUKkBcj8L1KNwrQOxRuB6FqzBASOF6FK7HLkBI4XoUrscqQHE9Ctej8CdAj8L1KFxPMUDXo3A9CtcvQHE9Ctej8C1AzczMzMxMLUCF61G4HsUyQFyPwvUoXC5AKVyPwvXoMUBI4XoUrsc0QDMzMzMzszRArkfhehSuLkApXI/C9SgqQK5H4XoUri5AcT0K16PwMUD2KFyPwnUzQHsUrkfheilA7FG4HoXrKUCuR+F6FC40QLgehetRODZAw/UoXI/CM0DsUbgehWsjQDMzMzMz8zBASOF6FK7HKEDsUbgehWstQM3MzMzMTC5AZmZmZmbmLECPwvUoXA8yQLgehetRODZAH4XrUbgeKkDXo3A9CtctQLgehetROC5AcT0K16MwMUCkcD0K12MxQM3MzMzMzC9AKVyPwvVoNUC4HoXrUTgyQBSuR+F6VDBAj8L1KFyPM0CamZmZmZkyQIXrUbgeRTFACtejcD2KNkBSuB6F69EpQHE9Ctej8DJAmpmZmZlZMkB7FK5H4XoxQFK4HoXrUSpAzczMzMzMK0BI4XoUrocxQIXrUbgeBTFAcT0K16PwKkDsUbgehesuQIXrUbgeBS9AuB6F61H4N0AUrkfhehQ7QEjhehSu50BAUrgehevRL0AAAAAAAEA1QJqZmZmZ2TtAMzMzMzMzL0AUrkfhehQuQHE9CtejMDJAhetRuB7FN0Bcj8L1KNwzQK5H4XoUbjFAuB6F61E4LEC4HoXrUTg5QFyPwvUo3C1AMzMzMzNzMkAzMzMzM/MyQNejcD0K1zVA9ihcj8I1MECkcD0K12M0QFK4HoXr0TBAFK5H4XoUKkDXo3A9ClcvQFyPwvUoXDFAUrgehetRLEDXo3A9CtcxQFyPwvUoXC5ACtejcD0KLEBmZmZmZmYvQGZmZmZmZjJAw/UoXI/CNEA9CtejcD0qQPYoXI/C9TNApHA9CtfjMkB7FK5H4bozQJqZmZmZGTNAhetRuB4FMED2KFyPwnUxQI/C9ShcjytACtejcD2KKkAzMzMzM7MoQOxRuB6FKzJA16NwPQoXN0CkcD0K1+MzQFyPwvUonDJAKVyPwvUoMkA9CtejcH04QKRwPQrXoy9AzczMzMzMLEDsUbgehWspQK5H4XoUritAXI/C9SgcM0DhehSuR2EvQD0K16NwvSpAcT0K16NwJUCamZmZmZkyQJqZmZmZ2TBAKVyPwvUoLEBmZmZmZuYyQAAAAAAAADFArkfhehQuMECkcD0K16MqQOxRuB6Fay5AzczMzMxMMUDD9Shcj8IpQK5H4XoU7jFAmpmZmZlZM0Bcj8L1KNwzQI/C9Shcjy1AhetRuB4FM0D2KFyPwnUsQEjhehSuhzFACtejcD2KMEDXo3A9CtcwQOxRuB6F6y1AZmZmZmbmLkDsUbgehWstQGZmZmZm5jJAexSuR+F6LUBI4XoUrgcwQOxRuB6F6y1AUrgehesRMUCkcD0K1yMsQFK4HoXrETNA16NwPQqXMkD2KFyPwjUwQHsUrkfh+i5AUrgehetRMkBSuB6F6xEyQFK4HoXrkTVA16NwPQrXMkAK16NwPUoyQDMzMzMz8zBAhetRuB4FMkDsUbgehWsqQFK4HoXrETBAUrgehesRMEC4HoXrUTg0QPYoXI/CNTxAzczMzMxMLkDsUbgehespQFyPwvUo3C1AuB6F61G4NkB7FK5H4XoxQHE9CtejcCtArkfhehQuLEApXI/C9SgwQAAAAAAAAC9AcT0K16NwKEDXo3A9CtcwQLgehetRuDFArkfhehQuMUCkcD0K1+MyQPYoXI/CdTFAKVyPwvWoLUDD9Shcj0IxQFK4HoXr0SVACtejcD1KMkDsUbgehSswQGZmZmZm5i1A16NwPQqXMkC4HoXrUbgtQB+F61G4XjVA7FG4HoXrMUBSuB6F65ExQBSuR+F61DBArkfhehSuNUBcj8L1KBw2QOxRuB6FKzVAMzMzMzOzNUDXo3A9ClcoQClcj8L1aDVACtejcD0KM0D2KFyPwvUrQIXrUbgeBTBA4XoUrkchM0AfhetRuB4zQEjhehSuRzVA9ihcj8L1LUB7FK5H4fo1QB+F61G4njBA7FG4HoWrMUCuR+F6FK4xQHE9Ctej8DBACtejcD2KM0D2KFyPwvUvQJqZmZmZmTNAUrgehetRL0AzMzMzMzMxQBSuR+F6lC9AUrgehetRMkCkcD0K1+M4QClcj8L1qDFA16NwPQpXM0AK16NwPYo1QHsUrkfhOjxA9ihcj8L1K0BmZmZmZiYxQLgehetRuD5ACtejcD1KPUAAAAAAAEA5QOF6FK5HITlAMzMzMzMzPEA9CtejcP06QFyPwvUoXDJAuB6F61E4MkDhehSuRyE0QD0K16NwvTRAmpmZmZkZMkCuR+F6FC4yQD0K16NwfTJApHA9CtcjPEBcj8L1KNwtQLgehetR+D1APQrXo3A9L0D2KFyPwnUvQEjhehSuhzRAH4XrUbieMECuR+F6FC4tQEjhehSuBzJAPQrXo3A9M0AfhetRuB4sQKRwPQrXozFAj8L1KFyPJkApXI/C9WgwQJqZmZmZ2TBA7FG4HoUrMEBxPQrXo3A2QPYoXI/CdSpAKVyPwvWoKUAK16NwPYo0QPYoXI/CNTRA7FG4HoUrMkCPwvUoXE8xQD0K16NwvTBAUrgehetRMEA9CtejcL0pQEjhehSuRypACtejcD0KNEAfhetRuB4xQGZmZmZmZi9A4XoUrkdhLUBmZmZmZmYtQFK4HoXrUStAXI/C9SicMkC4HoXrUTgyQDMzMzMzszBAzczMzMzMK0AUrkfhetQzQK5H4XoUrjJAXI/C9ShcL0AzMzMzMzMqQAAAAAAAwDJACtejcD2KKEDXo3A9ClcqQOF6FK5H4SpAj8L1KFyPMUCF61G4HgU0QBSuR+F6VDBAH4XrUbieMUBxPQrXo3A4QD0K16NwfTlAcT0K16NwOUDhehSuR+EsQD0K16Nw/ThA7FG4HoVrOUCPwvUoXA88QDMzMzMzszRAexSuR+E6N0CamZmZmVkwQBSuR+F6lDBA16NwPQpXM0D2KFyPwjU4QHsUrkfhejVAcT0K16NwNkCuR+F6FG49QHE9Ctej8DVA7FG4HoXrPEBcj8L1KJw7QNejcD0KlzNA4XoUrkfhO0CuR+F6FK42QK5H4XoU7jdAZmZmZmYmO0AfhetRuF49QArXo3A9ijhA",
          "dtype": "f8"
         },
         "yaxis": "y2"
        },
        {
         "name": "Maligno",
         "showlegend": false,
         "type": "box",
         "xaxis": "x3",
         "y": {
          "bdata": "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",
          "dtype": "f8"
         },
         "yaxis": "y3"
        },
        {
         "name": "Benigno",
         "showlegend": false,
         "type": "box",
         "xaxis": "x3",
         "y": {
          "bdata": "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",
          "dtype": "f8"
         },
         "yaxis": "y3"
        },
        {
         "name": "Maligno",
         "showlegend": false,
         "type": "box",
         "xaxis": "x4",
         "y": {
          "bdata": "AAAAAABIj0AAAAAAALiUQAAAAAAAzJJAmpmZmZkheEAAAAAAAESUQJqZmZmZ0X1AAAAAAABAkEAzMzMzMw+CQGZmZmZmPoBAZmZmZma+fUBmZmZmZu6IQAAAAAAAaIhAAAAAAACMkUCamZmZmXWIQGZmZmZmEoJAZmZmZmaWhEAAAAAAAGSFQGZmZmZm9ohAAAAAAACwk0AzMzMzMwOGQAAAAAAA8JVAzczMzMxEjECamZmZmYWMQGZmZmZmJoRAAAAAAAAYkUAzMzMzM+OGQM3MzMzM2I1AAAAAAAAAkUCamZmZmYl7QGZmZmZmGoxAAAAAAAAokkCamZmZmTmJQAAAAAAALItAAAAAAADIg0BmZmZmZtaFQJqZmZmZeYFAAAAAAACYgUCamZmZmTF3QAAAAAAAQJFAmpmZmZkJgUAAAAAAAJyAQAAAAAAA0JBAzczMzMy0gEAAAAAAACSQQGZmZmZmRoZAAAAAAAAAkkAzMzMzM4eEQJqZmZmZLYRAAAAAAAAwf0BmZmZmZuKEQAAAAAAAqJFAMzMzMzMLjUDNzMzMzECCQJqZmZmZjYlAAAAAAABwj0AAAAAAAHSTQAAAAAAAWJ1AAAAAAACwkUAAAAAAAMyQQJqZmZmZQYRAAAAAAADQkECamZmZmcGGQM3MzMzMDIZAAAAAAADAk0AAAAAAABSEQJqZmZmZNYJAmpmZmZmRgEAAAAAAAJSXQAAAAAAAVIVAzczMzMx0iEAAAAAAALCOQAAAAAAA1JBAAAAAAACEm0DNzMzMzOSBQAAAAAAAyJFAAAAAAACgkkAzMzMzM2eHQGZmZmZmTolAAAAAAADMkEDNzMzMzKR/QM3MzMzMMIVAAAAAAABoiUAAAAAAAAB7QJqZmZmZHY5AAAAAAAAUkkAAAAAAAPiSQAAAAAAAWJpAZmZmZmayi0DNzMzMzMSOQDMzMzMzq4FAMzMzMzMHh0AzMzMzMweKQAAAAAAAlKFAAAAAAAB8lEDNzMzMzPSHQM3MzMzMNIZAAAAAAABEkEAzMzMzMw+DQGZmZmZm1n1AMzMzMzP7hEAzMzMzM2eCQAAAAAAAAJBAAAAAAADwkUCamZmZmRWEQM3MzMzMvI1AAAAAAABUmkBmZmZmZq6CQM3MzMzMZIZAZmZmZmZCjEAAAAAAACiUQAAAAAAAhqNAAAAAAACgjUCamZmZmRWDQDMzMzMzF4JAAAAAAAA4k0AAAAAAAByTQGZmZmZmyodAMzMzMzNzf0AAAAAAAPiLQAAAAAAAnJRAAAAAAAAYmkAAAAAAAGiUQM3MzMzMxIxAAAAAAAAMkkAAAAAAAFCVQAAAAAAA2JJAmpmZmZkBjUAAAAAAAESSQDMzMzMz04JAAAAAAADckkBmZmZmZkqGQAAAAAAALIhAMzMzMzNHh0AAAAAAACCUQM3MzMzMKI1AZmZmZmaejUDNzMzMzLSHQGZmZmZmAo1AAAAAAAAslkAAAAAAAEyXQDMzMzMzN49AAAAAAAA4kUAAAAAAAMiRQAAAAAAA5JFAzczMzMwoiUCamZmZmfF6QAAAAAAABJNAAAAAAAB8k0AAAAAAAAyQQAAAAAAA6JNAAAAAAADAk0CamZmZmW2JQGZmZmZm1olAmpmZmZnJiEDNzMzMzLSMQAAAAAAAEJFAAAAAAABMm0AAAAAAAKiSQM3MzMzMtIdAAAAAAABon0DNzMzMzGSGQAAAAAAANJRAAAAAAABIk0AAAAAAACiYQAAAAAAAKJdAMzMzMzNDikAAAAAAAKiVQAAAAAAA3JRAmpmZmZmZdkCamZmZmcWEQAAAAAAAWJJAmpmZmZlFh0AAAAAAAPyVQAAAAAAAEI9AmpmZmZn9jkAAAAAAAHyGQM3MzMzMGIlAAAAAAABohUAAAAAAAIiTQAAAAAAAWJFAAAAAAAC8gkBmZmZmZgaNQAAAAAAA8I5AzczMzMysjkAAAAAAAKCVQAAAAAAAnJJAMzMzMzMXjUAAAAAAAIqjQAAAAAAApI5AZmZmZmZ+iUAAAAAAADySQM3MzMzMzIpAAAAAAAB4j0AAAAAAALCQQAAAAAAAoJRAMzMzMzOfgkAAAAAAAEiaQGZmZmZm2oZAmpmZmZllgUAzMzMzM++FQAAAAAAAcJBAAAAAAAD4kkAAAAAAAMScQAAAAAAATJRAAAAAAABwlEBmZmZmZq6DQDMzMzMzZ4ZAAAAAAAAMlUAAAAAAAByXQAAAAAAAtJNAzczMzMzQikAAAAAAAMSTQA==",
          "dtype": "f8"
         },
         "yaxis": "y4"
        },
        {
         "name": "Benigno",
         "showlegend": false,
         "type": "box",
         "xaxis": "x4",
         "y": {
          "bdata": "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",
          "dtype": "f8"
         },
         "yaxis": "y4"
        },
        {
         "name": "Maligno",
         "showlegend": false,
         "type": "box",
         "xaxis": "x5",
         "y": {
          "bdata": "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",
          "dtype": "f8"
         },
         "yaxis": "y5"
        },
        {
         "name": "Benigno",
         "showlegend": false,
         "type": "box",
         "xaxis": "x5",
         "y": {
          "bdata": "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",
          "dtype": "f8"
         },
         "yaxis": "y5"
        },
        {
         "name": "Maligno",
         "showlegend": false,
         "type": "box",
         "xaxis": "x6",
         "y": {
          "bdata": "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",
          "dtype": "f8"
         },
         "yaxis": "y6"
        },
        {
         "name": "Benigno",
         "showlegend": false,
         "type": "box",
         "xaxis": "x6",
         "y": {
          "bdata": "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",
          "dtype": "f8"
         },
         "yaxis": "y6"
        },
        {
         "name": "Maligno",
         "showlegend": false,
         "type": "box",
         "xaxis": "x7",
         "y": {
          "bdata": "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",
          "dtype": "f8"
         },
         "yaxis": "y7"
        },
        {
         "name": "Benigno",
         "showlegend": false,
         "type": "box",
         "xaxis": "x7",
         "y": {
          "bdata": "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",
          "dtype": "f8"
         },
         "yaxis": "y7"
        },
        {
         "name": "Maligno",
         "showlegend": false,
         "type": "box",
         "xaxis": "x8",
         "y": {
          "bdata": "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",
          "dtype": "f8"
         },
         "yaxis": "y8"
        },
        {
         "name": "Benigno",
         "showlegend": false,
         "type": "box",
         "xaxis": "x8",
         "y": {
          "bdata": "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",
          "dtype": "f8"
         },
         "yaxis": "y8"
        },
        {
         "name": "Maligno",
         "showlegend": false,
         "type": "box",
         "xaxis": "x9",
         "y": {
          "bdata": "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",
          "dtype": "f8"
         },
         "yaxis": "y9"
        },
        {
         "name": "Benigno",
         "showlegend": false,
         "type": "box",
         "xaxis": "x9",
         "y": {
          "bdata": "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",
          "dtype": "f8"
         },
         "yaxis": "y9"
        },
        {
         "name": "Maligno",
         "showlegend": false,
         "type": "box",
         "xaxis": "x10",
         "y": {
          "bdata": "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",
          "dtype": "f8"
         },
         "yaxis": "y10"
        },
        {
         "name": "Benigno",
         "showlegend": false,
         "type": "box",
         "xaxis": "x10",
         "y": {
          "bdata": "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",
          "dtype": "f8"
         },
         "yaxis": "y10"
        },
        {
         "name": "Maligno",
         "showlegend": false,
         "type": "box",
         "xaxis": "x11",
         "y": {
          "bdata": "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",
          "dtype": "f8"
         },
         "yaxis": "y11"
        },
        {
         "name": "Benigno",
         "showlegend": false,
         "type": "box",
         "xaxis": "x11",
         "y": {
          "bdata": "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",
          "dtype": "f8"
         },
         "yaxis": "y11"
        },
        {
         "name": "Maligno",
         "showlegend": false,
         "type": "box",
         "xaxis": "x12",
         "y": {
          "bdata": "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",
          "dtype": "f8"
         },
         "yaxis": "y12"
        },
        {
         "name": "Benigno",
         "showlegend": false,
         "type": "box",
         "xaxis": "x12",
         "y": {
          "bdata": "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",
          "dtype": "f8"
         },
         "yaxis": "y12"
        },
        {
         "name": "Maligno",
         "showlegend": false,
         "type": "box",
         "xaxis": "x13",
         "y": {
          "bdata": "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",
          "dtype": "f8"
         },
         "yaxis": "y13"
        },
        {
         "name": "Benigno",
         "showlegend": false,
         "type": "box",
         "xaxis": "x13",
         "y": {
          "bdata": "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",
          "dtype": "f8"
         },
         "yaxis": "y13"
        },
        {
         "name": "Maligno",
         "showlegend": false,
         "type": "box",
         "xaxis": "x14",
         "y": {
          "bdata": "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",
          "dtype": "f8"
         },
         "yaxis": "y14"
        },
        {
         "name": "Benigno",
         "showlegend": false,
         "type": "box",
         "xaxis": "x14",
         "y": {
          "bdata": "j8L1KFyPN0DXo3A9ClctQGZmZmZmZi9AUrgehetRLEApXI/C9WggQB+F61G43jNAMzMzMzMzNEC4HoXrUXg8QJqZmZmZGS1AuB6F61F4MUC4HoXrUXg3QHsUrkfhekBAvp8aL92kIECPwvUoXE9BQKRwPQrXYzJAhetRuB6FN0BmZmZmZmYsQGZmZmZmJjJA7FG4HoWrMUAUrkfhelQyQHE9CtejcDlArkfhehSuM0AzMzMzM1NAQJqZmZmZWTRAH4XrUbieOEDsUbgehespQClcj8L1KDBAMzMzMzPzNEDhehSuR2FFQOF6FK5H4UBAzczMzMwsQkC4HoXrUTg5QHE9CtejcDhAzczMzMwMNEAAAAAAAIAvQNEi2/l+qiNAXI/C9ShcLUAK16NwPYonQOF6FK5HITdAH4XrUbieNEBOYhBYOXQiQClcj8L1aDBAH4XrUbjeNkB7FK5H4Xo0QAAAAAAAQD1AKVyPwvXoM0A730+Nl+4hQArXo3A9yjhAcT0K16PwMEAAAAAAAAAlQHE9CtejMDhAUrgehetRLUApXI/C9egxQOxRuB6F60NAexSuR+F6LkBxPQrXo/A7QI/C9ShcL0FA16NwPQpXKUAUrkfhelQ6QIXrUbgehShA4XoUrkdhNUCkcD0K16MwQD0K16NwvTFASOF6FK4HOUDXo3A9CrdDQDMzMzMzMzVAuB6F61F4NUCkcD0K12NBQOxRuB6FayRAzczMzMzsSED2KFyPwvUuQArXo3A9yjZAw/UoXI+CMECuR+F6FE5HQAAAAAAAgCpACtejcD2KMkDsUbgehStDQM3MzMzMjDVApHA9CtejMED2KFyPwvUmQEjhehSuRzhArkfhehRuMUAUrkfhehQzQHsUrkfh+jVAuB6F61G4JkB7FK5H4Xo7QK5H4XoUrixACtejcD3KNUCF61G4HsU2QK5H4XoUbjpAXI/C9SjcMUBxPQrXo/AsQFK4HoXrUTJAMzMzMzPTSkBxPQrXo7A1QAAAAAAAgC9APQrXo3A9O0AK16NwPUo+QClcj8L1qChArkfhehQuLkAAAAAAAAA0QB+F61G4HjFA9ihcj8J1NUAK16NwPco2QGZmZmZmZjFASOF6FK4HNUCamZmZmRkuQK5H4XoUrjhAhetRuB4lSEC4HoXrUbgnQOF6FK5H4TNAw/UoXI+CMkD2KFyPwjUhQOxRuB6F6y5ASOF6FK5HKUBSuB6F6xE2QPYoXI/C9T1AcT0K16MwO0BQjZduEgMiQKRwPQrXYzBA16NwPQr3Q0C4HoXrUTg3QB+F61G4HitAmpmZmZlZMECkcD0K16MwQB+F61G4njJAPQrXo3D9OkCamZmZmRk7QMP1KFyPwjpAPQrXo3A9MkA9CtejcL00QArXo3A9iiVA16NwPQpXKkCkcD0K12MwQOxRuB6Fa0hA16NwPQoXMUC4HoXrUTg2QClcj8L1aDNACtejcD3qQkAK16NwPUo3QDMzMzMzczZAKVyPwvXoNUBcj8L1KFwpQNejcD0KV0FAPQrXo3B9MUDXo3A9CkdTQB+F61G43jhA7FG4HoWrMUDD9Shcj8IrQMP1KFyPwipAPQrXo3C9MUCuR+F6FC4mQI/C9ShcjzRAj8L1KFyPNEBSuB6F61E8QClcj8L1KCRArkfhehTuNkD2KFyPwjUyQAAAAAAAAC9AhxbZzveTI0CkcD0K12M0QOF6FK5HgUBAj8L1KFyPJkBmZmZmZuY8QK5H4XoULjlAx0s3iUHgIkCPwvUoXM8xQOF6FK5HYSlApHA9CtejL0AzMzMzMzM4QClcj8L1KD9ArkfhehSuNkBSuB6F65EwQMP1KFyPAjNAXI/C9SicMUDsUbgehes3QLgehetR+DBAZmZmZmamNEAfhetRuJ4zQKRwPQrXIy5AexSuR+F6KkBSuB6F69EsQJqZmZmZ2TBAUrgehesRQECkcD0K1yMoQJqZmZmZmSVASOF6FK6HOEAUrkfhelQzQIXrUbgeBTJAj8L1KFwPPUAAAAAAAIAoQGZmZmZmpjpASOF6FK4HOkDXo3A9Ctc8QD0K16NwfTtAUrgeheuRNUA9CtejcL00QK5H4XoULj5AexSuR+F6PkDNzMzMzEw8QHsUrkfh+jRAw/UoXI9CMUAK16NwPcpAQHE9CtejcCpAUrgeheuRMkC4HoXrUbgxQAAAAAAAACxAUrgehevRLUC28/3UeOkcQFK4HoXr0S1AMzMzMzOzJkAK16NwPQowQFyPwvUoXCdADAIrhxYZI0AzMzMzMzMzQIXrUbgehS5A9ihcj8L1M0AfhetRuB43QLgehetR+DZAw/UoXI/CJ0CamZmZmdk8QLgehetRODZA16NwPQpXKUAK16NwPUozQFK4HoXrkT5A9ihcj8L1KUCPwvUoXA85QDMzMzMz8zJA9ihcj8I1NEC4HoXrUbgmQGZmZmZmJj5ASOF6FK7HOUAUrkfhetQ1QB+F61G4nkRACtejcD3KOUBSuB6F61ErQBSuR+F6FCtAaJHtfD81G0DD9Shcj4I8QEjhehSuhzNA7FG4HoUrOUAfhetRuF4xQD0K16Nw/TJAzczMzMxMNECamZmZmblIQEjhehSuxy9AXI/C9ShcM0DD9Shcj8JFQDMzMzMzMydAhetRuB7FNEAzMzMzMzM0QJzEILByaCNAPQrXo3A9N0Bcj8L1KNwuQOxRuB6F6zdAAAAAAACAOkAfhetRuF5AQOF6FK5HoT1AAAAAAABAM0BmZmZmZiYyQNejcD0KVz1APQrXo3A9KkCkcD0K12MzQAAAAAAAwDNACtejcD0KN0A9CtejcD00QLgehetRuCtAMzMzMzOzOUCkcD0K16MqQK5H4XoU7jxA4XoUrkchN0AUrkfhepQxQHE9CtejMDVAj8L1KFyPJkCF61G4HoU0QEjhehSuxylApHA9CtfjMECPwvUoXM83QGZmZmZmZjtAexSuR+H6NECamZmZmdk7QHsUrkfhujZAexSuR+F6RkCPwvUoXE83QHE9CtejkEFAi2zn+6kxI0BI4XoUrkcnQMP1KFyPAj9Aj8L1KFwPLECuR+F6FK4sQMP1KFyPQjBAKVyPwvVoPECuR+F6FK4pQKRwPQrXozRAPQrXo3C9K0BxPQrXozA+QHsUrkfh+jNAUrgeheuRO0AK16NwPQoyQJqZmZmZeUlAmpmZmZmZOEBSuB6F6xE6QNejcD0K1zVAZmZmZmZmMkBSuB6F69EnQOxRuB6Fa0FAPQrXo3B9MkAK16NwPQo0QOxRuB6FqzFAKVyPwvUoKUCamZmZmZkoQOxRuB6FqzRAFK5H4XoUKkC4HoXrUbg0QK5H4XoUjkJAcT0K16MwMkCPwvUoXC9BQB+F61G4njxA4XoUrkehM0BEi2zn+6kiQDMzMzMzczpAexSuR+F6LkBqvHSTGAQdQFK4HoXrETBAKVyPwvXoIUAfhetRuF5GQArXo3A9ijJAKVyPwvWoPkCuR+F6FK4uQAAAAAAAQDFArkfhehQuJEAzMzMzM/M0QKRwPQrXIzNA9ihcj8J1J0Bcj8L1KNw0QFyPwvUoHDdAKVyPwvVoO0CamZmZmdkxQB+F61G4HjdAPQrXo3A9P0BxPQrXo/ApQOf7qfHSTR1APQrXo3A9MkAAAAAAAIBAQOxRuB6FqzRAmpmZmZnZMUDD9Shcj8IyQFyPwvUo3DFAFK5H4XrUMEDsUbgehessQM3MzMzMzDBAXI/C9SgcPUAK16NwPYozQLgehetR+DBA16NwPQrXPUCPwvUoXM82QGZmZmZmJjNA",
          "dtype": "f8"
         },
         "yaxis": "y14"
        },
        {
         "name": "Maligno",
         "showlegend": false,
         "type": "box",
         "xaxis": "x15",
         "y": {
          "bdata": "zjeie9Y1ej/XEvJBz2Z1P40o7Q2+MHk/nFCIgEOogj+AK9mxEYiHP22QSUbOwn4/Upyjjo6rcT+cilQYWwiCP1CMLJljeXc/rYcvE0VIfT+688RztoBwPyJTPgRVo3c/+dfyyvW2aT8w8x38xAGEP+uM74tLVXo/XwoPml33dj9/+PnvwWt3PxsRjINLx3w/AHDs2XOZej9Mio9PyM57P7X/AdaqXXM/w6BMo8nFeD/bTlsjgnGAP3O9baZCPHI/arx0kxgEhj/ObcK9Mm91P8jtl09WDHc/3IKluoCXeT+gjVw3pbx2P6Gd0yzQ7oA/Cr/Uz5uKdD+H4SNiSiRxP/yLoDGTqHc/xxNBnIcTeD8gt18+WTF8P3RhpBe1+3U/dF5jl6jeaj/XFTPC24OAPwLWql0T0no/KEcBomDGdD9TliGOdXFrP+eNk8K8x3k/FCAKZkzBej8hW5avy/BvPxKlvcEXJnM/qtbCLLRzej9KCcGqevltPyHp0yr6Q4M/1Jl7SPjefz9vuI/cmnR7P3xinSrfM3I/SYCaWrbWdz+hgsMLIlJzP2JKJNHLKIY/3lSkwthCgD/ghEIEHEKFP7xZg/dVuYA/ZB75g4Hnfj97avXVVYF6PxcRxeQNMIM/H/XXKyy4bz+fdY2WAz2EP4ts5/up8YI/5zQLtDukeD9pxqLp7GSAP43PZP88DXg/fhtivOZVfT/IXu/+eK96P+o+AKlNnHw/+S8QBMjQgT/gumJGeHtwP+HtQQjIl4A/aw4QzNHjlz+WkuUklL5wP46s/DIYI3I/tYtppnuddD/lJ9U+HY95P+mdCrjn+XM/WYrkK4GUeD9ZEwt8Rbd+P3sUrkfheoQ/QrKACdy6ez+vCz84nzp2P5axoZv9gYI/ceMW83NDgz8aMh6lEp5wPyMVxhaCHHQ/jPUNTG4UeT9xOV6B6El5Pxah2Aqalng/FokJavgWdj9HWFTE6SR7P8Sww5j093I/uOaO/pdrcT/qd2FrtvJyP91B7Eyh82o/r5emCHB6Zz9t/8pKk1KAP2MMrOP4oYI/fXbAdcWMgD9seHqlLEOMP9ieWRKgpnY/n1p9dVWgdj9Jnuv7cJBwP1J+Uu3T8Xg/TyLCvwgagz+h9ls7URKCP1sLs9DOaXY/j8TL07midD/0aoDSUKOAP5ayDHGsi4s/46qy74rgnz+An3HhQEiGPyi4WFGDaXg/2zS214Leez8tBaT9D7B2P8mvH2KDhXM/LCgMyjSafD+VtU3xuKh2P+T3Nv3Zj3Q/jIF1HD9Uej/kwKvlzkyAP5zc71AU6HM/e6AVGLK6hT9VppiDoKN1P0Ze1sQCX4E/c0nVdhN8cz9wfVhv1ApzPwUWwJSBA3o/304iwr8Iej9EaW/whcmEP6p9Oh4zUIk/TWcng6PkdT9p/S0B+Kd0P3ZTymsldHc/n1c89UiDez8LCoMyjSZnP6OP+YBAZ3I/ISOgwhGkcj8DmDJwQEt3P/vMWZ9yTHY/BkZe1sQCfz+1UgjkEkd+P8kgdxGmKHc/k6tY/Kawcj9MjdDP1Ot2P7n7HB8tzng/Ud1c/G1PgD8pIVhVL79zP5J4eTpXlHI/LJ/leXB3dj82dLM/UG57PziEKjV7oIU/U1ipoKLqdz+NtFTejnB6P4FAZ9Km6n4/KXef46PFeT8UPlsHB3tzP64tPC8VG4M/sOJUa2EWej/PoKF/gouFPwq8k0+PbXk/z2kWaHdIgT/sTneeeM52P9WvdD48S3A/v0hoy7kUdz/RlQhU/yByPyfeAZ60cHk/huY6jbRUfj/Il1DB4QWBPzCeQUP/BIc/I9xkVBnGfT8joS3nUlx1P2L5823BUn0/DixHyECefT/cZ5WZ0vp7P6oPJO8cyoA/gVt381SHfD/ZzYx+NJyCP7FOle8ZiYA/0QZgAyLEdT+tFW2Oc5uAP1XcuMX83HA/hWBVvfxOcz+A0lCjkGR2P3RGlPYGX4g/ERlW8UbmgT9LyAc9m1V/P8eEmEuqtns/Oj/FceDVgj8v3/qw3qh1Pzrq6Lga2WU/7pi6K7tggD8rFr8prFSAP7oT7L/OTXs/M/lmmxvTgz93hqktdZB3P+XRjbCoiIM/3ncMj/0sdj+y8stgjEh0Py9QUmABTHk/dAgcCTTYdD9ol299WG90P4JTH0jeOXQ/IVZ/hGHAcj/Yg0nx8Ql5P4ts5/up8XI/zjeie9Y1ej8OvjCZKhiFP2Q8SiU8oXc/CjAsf74teD9grkUL0LZ6Pw==",
          "dtype": "f8"
         },
         "yaxis": "y15"
        },
        {
         "name": "Benigno",
         "showlegend": false,
         "type": "box",
         "xaxis": "x15",
         "y": {
          "bdata": "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",
          "dtype": "f8"
         },
         "yaxis": "y15"
        },
        {
         "name": "Maligno",
         "showlegend": false,
         "type": "box",
         "xaxis": "x16",
         "y": {
          "bdata": "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",
          "dtype": "f8"
         },
         "yaxis": "y16"
        },
        {
         "name": "Benigno",
         "showlegend": false,
         "type": "box",
         "xaxis": "x16",
         "y": {
          "bdata": "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",
          "dtype": "f8"
         },
         "yaxis": "y16"
        },
        {
         "name": "Maligno",
         "showlegend": false,
         "type": "box",
         "xaxis": "x17",
         "y": {
          "bdata": "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",
          "dtype": "f8"
         },
         "yaxis": "y17"
        },
        {
         "name": "Benigno",
         "showlegend": false,
         "type": "box",
         "xaxis": "x17",
         "y": {
          "bdata": "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",
          "dtype": "f8"
         },
         "yaxis": "y17"
        },
        {
         "name": "Maligno",
         "showlegend": false,
         "type": "box",
         "xaxis": "x18",
         "y": {
          "bdata": "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",
          "dtype": "f8"
         },
         "yaxis": "y18"
        },
        {
         "name": "Benigno",
         "showlegend": false,
         "type": "box",
         "xaxis": "x18",
         "y": {
          "bdata": "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",
          "dtype": "f8"
         },
         "yaxis": "y18"
        },
        {
         "name": "Maligno",
         "showlegend": false,
         "type": "box",
         "xaxis": "x19",
         "y": {
          "bdata": "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",
          "dtype": "f8"
         },
         "yaxis": "y19"
        },
        {
         "name": "Benigno",
         "showlegend": false,
         "type": "box",
         "xaxis": "x19",
         "y": {
          "bdata": "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",
          "dtype": "f8"
         },
         "yaxis": "y19"
        },
        {
         "name": "Maligno",
         "showlegend": false,
         "type": "box",
         "xaxis": "x20",
         "y": {
          "bdata": "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",
          "dtype": "f8"
         },
         "yaxis": "y20"
        },
        {
         "name": "Benigno",
         "showlegend": false,
         "type": "box",
         "xaxis": "x20",
         "y": {
          "bdata": "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",
          "dtype": "f8"
         },
         "yaxis": "y20"
        },
        {
         "name": "Maligno",
         "showlegend": false,
         "type": "box",
         "xaxis": "x21",
         "y": {
          "bdata": "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",
          "dtype": "f8"
         },
         "yaxis": "y21"
        },
        {
         "name": "Benigno",
         "showlegend": false,
         "type": "box",
         "xaxis": "x21",
         "y": {
          "bdata": "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",
          "dtype": "f8"
         },
         "yaxis": "y21"
        },
        {
         "name": "Maligno",
         "showlegend": false,
         "type": "box",
         "xaxis": "x22",
         "y": {
          "bdata": "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",
          "dtype": "f8"
         },
         "yaxis": "y22"
        },
        {
         "name": "Benigno",
         "showlegend": false,
         "type": "box",
         "xaxis": "x22",
         "y": {
          "bdata": "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",
          "dtype": "f8"
         },
         "yaxis": "y22"
        },
        {
         "name": "Maligno",
         "showlegend": false,
         "type": "box",
         "xaxis": "x23",
         "y": {
          "bdata": "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",
          "dtype": "f8"
         },
         "yaxis": "y23"
        },
        {
         "name": "Benigno",
         "showlegend": false,
         "type": "box",
         "xaxis": "x23",
         "y": {
          "bdata": "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",
          "dtype": "f8"
         },
         "yaxis": "y23"
        },
        {
         "name": "Maligno",
         "showlegend": false,
         "type": "box",
         "xaxis": "x24",
         "y": {
          "bdata": "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",
          "dtype": "f8"
         },
         "yaxis": "y24"
        },
        {
         "name": "Benigno",
         "showlegend": false,
         "type": "box",
         "xaxis": "x24",
         "y": {
          "bdata": "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",
          "dtype": "f8"
         },
         "yaxis": "y24"
        },
        {
         "name": "Maligno",
         "showlegend": false,
         "type": "box",
         "xaxis": "x25",
         "y": {
          "bdata": "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",
          "dtype": "f8"
         },
         "yaxis": "y25"
        },
        {
         "name": "Benigno",
         "showlegend": false,
         "type": "box",
         "xaxis": "x25",
         "y": {
          "bdata": "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",
          "dtype": "f8"
         },
         "yaxis": "y25"
        },
        {
         "name": "Maligno",
         "showlegend": false,
         "type": "box",
         "xaxis": "x26",
         "y": {
          "bdata": "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",
          "dtype": "f8"
         },
         "yaxis": "y26"
        },
        {
         "name": "Benigno",
         "showlegend": false,
         "type": "box",
         "xaxis": "x26",
         "y": {
          "bdata": "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",
          "dtype": "f8"
         },
         "yaxis": "y26"
        },
        {
         "name": "Maligno",
         "showlegend": false,
         "type": "box",
         "xaxis": "x27",
         "y": {
          "bdata": "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",
          "dtype": "f8"
         },
         "yaxis": "y27"
        },
        {
         "name": "Benigno",
         "showlegend": false,
         "type": "box",
         "xaxis": "x27",
         "y": {
          "bdata": "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",
          "dtype": "f8"
         },
         "yaxis": "y27"
        },
        {
         "name": "Maligno",
         "showlegend": false,
         "type": "box",
         "xaxis": "x28",
         "y": {
          "bdata": "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",
          "dtype": "f8"
         },
         "yaxis": "y28"
        },
        {
         "name": "Benigno",
         "showlegend": false,
         "type": "box",
         "xaxis": "x28",
         "y": {
          "bdata": "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",
          "dtype": "f8"
         },
         "yaxis": "y28"
        },
        {
         "name": "Maligno",
         "showlegend": false,
         "type": "box",
         "xaxis": "x29",
         "y": {
          "bdata": "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",
          "dtype": "f8"
         },
         "yaxis": "y29"
        },
        {
         "name": "Benigno",
         "showlegend": false,
         "type": "box",
         "xaxis": "x29",
         "y": {
          "bdata": "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",
          "dtype": "f8"
         },
         "yaxis": "y29"
        },
        {
         "name": "Maligno",
         "showlegend": false,
         "type": "box",
         "xaxis": "x30",
         "y": {
          "bdata": "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",
          "dtype": "f8"
         },
         "yaxis": "y30"
        },
        {
         "name": "Benigno",
         "showlegend": false,
         "type": "box",
         "xaxis": "x30",
         "y": {
          "bdata": "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",
          "dtype": "f8"
         },
         "yaxis": "y30"
        }
       ],
       "layout": {
        "annotations": [
         {
          "font": {
           "size": 16
          },
          "showarrow": false,
          "text": "radius_mean",
          "x": 0.15,
          "xanchor": "center",
          "xref": "paper",
          "y": 1,
          "yanchor": "bottom",
          "yref": "paper"
         },
         {
          "font": {
           "size": 16
          },
          "showarrow": false,
          "text": "texture_mean",
          "x": 0.49999999999999994,
          "xanchor": "center",
          "xref": "paper",
          "y": 1,
          "yanchor": "bottom",
          "yref": "paper"
         },
         {
          "font": {
           "size": 16
          },
          "showarrow": false,
          "text": "perimeter_mean",
          "x": 0.85,
          "xanchor": "center",
          "xref": "paper",
          "y": 1,
          "yanchor": "bottom",
          "yref": "paper"
         },
         {
          "font": {
           "size": 16
          },
          "showarrow": false,
          "text": "area_mean",
          "x": 0.15,
          "xanchor": "center",
          "xref": "paper",
          "y": 0.8950000000000001,
          "yanchor": "bottom",
          "yref": "paper"
         },
         {
          "font": {
           "size": 16
          },
          "showarrow": false,
          "text": "smoothness_mean",
          "x": 0.49999999999999994,
          "xanchor": "center",
          "xref": "paper",
          "y": 0.8950000000000001,
          "yanchor": "bottom",
          "yref": "paper"
         },
         {
          "font": {
           "size": 16
          },
          "showarrow": false,
          "text": "compactness_mean",
          "x": 0.85,
          "xanchor": "center",
          "xref": "paper",
          "y": 0.8950000000000001,
          "yanchor": "bottom",
          "yref": "paper"
         },
         {
          "font": {
           "size": 16
          },
          "showarrow": false,
          "text": "concavity_mean",
          "x": 0.15,
          "xanchor": "center",
          "xref": "paper",
          "y": 0.7900000000000001,
          "yanchor": "bottom",
          "yref": "paper"
         },
         {
          "font": {
           "size": 16
          },
          "showarrow": false,
          "text": "concave points_mean",
          "x": 0.49999999999999994,
          "xanchor": "center",
          "xref": "paper",
          "y": 0.7900000000000001,
          "yanchor": "bottom",
          "yref": "paper"
         },
         {
          "font": {
           "size": 16
          },
          "showarrow": false,
          "text": "symmetry_mean",
          "x": 0.85,
          "xanchor": "center",
          "xref": "paper",
          "y": 0.7900000000000001,
          "yanchor": "bottom",
          "yref": "paper"
         },
         {
          "font": {
           "size": 16
          },
          "showarrow": false,
          "text": "fractal_dimension_mean",
          "x": 0.15,
          "xanchor": "center",
          "xref": "paper",
          "y": 0.6850000000000002,
          "yanchor": "bottom",
          "yref": "paper"
         },
         {
          "font": {
           "size": 16
          },
          "showarrow": false,
          "text": "radius_se",
          "x": 0.49999999999999994,
          "xanchor": "center",
          "xref": "paper",
          "y": 0.6850000000000002,
          "yanchor": "bottom",
          "yref": "paper"
         },
         {
          "font": {
           "size": 16
          },
          "showarrow": false,
          "text": "texture_se",
          "x": 0.85,
          "xanchor": "center",
          "xref": "paper",
          "y": 0.6850000000000002,
          "yanchor": "bottom",
          "yref": "paper"
         },
         {
          "font": {
           "size": 16
          },
          "showarrow": false,
          "text": "perimeter_se",
          "x": 0.15,
          "xanchor": "center",
          "xref": "paper",
          "y": 0.5800000000000001,
          "yanchor": "bottom",
          "yref": "paper"
         },
         {
          "font": {
           "size": 16
          },
          "showarrow": false,
          "text": "area_se",
          "x": 0.49999999999999994,
          "xanchor": "center",
          "xref": "paper",
          "y": 0.5800000000000001,
          "yanchor": "bottom",
          "yref": "paper"
         },
         {
          "font": {
           "size": 16
          },
          "showarrow": false,
          "text": "smoothness_se",
          "x": 0.85,
          "xanchor": "center",
          "xref": "paper",
          "y": 0.5800000000000001,
          "yanchor": "bottom",
          "yref": "paper"
         },
         {
          "font": {
           "size": 16
          },
          "showarrow": false,
          "text": "compactness_se",
          "x": 0.15,
          "xanchor": "center",
          "xref": "paper",
          "y": 0.47500000000000003,
          "yanchor": "bottom",
          "yref": "paper"
         },
         {
          "font": {
           "size": 16
          },
          "showarrow": false,
          "text": "concavity_se",
          "x": 0.49999999999999994,
          "xanchor": "center",
          "xref": "paper",
          "y": 0.47500000000000003,
          "yanchor": "bottom",
          "yref": "paper"
         },
         {
          "font": {
           "size": 16
          },
          "showarrow": false,
          "text": "concave points_se",
          "x": 0.85,
          "xanchor": "center",
          "xref": "paper",
          "y": 0.47500000000000003,
          "yanchor": "bottom",
          "yref": "paper"
         },
         {
          "font": {
           "size": 16
          },
          "showarrow": false,
          "text": "symmetry_se",
          "x": 0.15,
          "xanchor": "center",
          "xref": "paper",
          "y": 0.37000000000000005,
          "yanchor": "bottom",
          "yref": "paper"
         },
         {
          "font": {
           "size": 16
          },
          "showarrow": false,
          "text": "fractal_dimension_se",
          "x": 0.49999999999999994,
          "xanchor": "center",
          "xref": "paper",
          "y": 0.37000000000000005,
          "yanchor": "bottom",
          "yref": "paper"
         },
         {
          "font": {
           "size": 16
          },
          "showarrow": false,
          "text": "radius_worst",
          "x": 0.85,
          "xanchor": "center",
          "xref": "paper",
          "y": 0.37000000000000005,
          "yanchor": "bottom",
          "yref": "paper"
         },
         {
          "font": {
           "size": 16
          },
          "showarrow": false,
          "text": "texture_worst",
          "x": 0.15,
          "xanchor": "center",
          "xref": "paper",
          "y": 0.265,
          "yanchor": "bottom",
          "yref": "paper"
         },
         {
          "font": {
           "size": 16
          },
          "showarrow": false,
          "text": "perimeter_worst",
          "x": 0.49999999999999994,
          "xanchor": "center",
          "xref": "paper",
          "y": 0.265,
          "yanchor": "bottom",
          "yref": "paper"
         },
         {
          "font": {
           "size": 16
          },
          "showarrow": false,
          "text": "area_worst",
          "x": 0.85,
          "xanchor": "center",
          "xref": "paper",
          "y": 0.265,
          "yanchor": "bottom",
          "yref": "paper"
         },
         {
          "font": {
           "size": 16
          },
          "showarrow": false,
          "text": "smoothness_worst",
          "x": 0.15,
          "xanchor": "center",
          "xref": "paper",
          "y": 0.16000000000000003,
          "yanchor": "bottom",
          "yref": "paper"
         },
         {
          "font": {
           "size": 16
          },
          "showarrow": false,
          "text": "compactness_worst",
          "x": 0.49999999999999994,
          "xanchor": "center",
          "xref": "paper",
          "y": 0.16000000000000003,
          "yanchor": "bottom",
          "yref": "paper"
         },
         {
          "font": {
           "size": 16
          },
          "showarrow": false,
          "text": "concavity_worst",
          "x": 0.85,
          "xanchor": "center",
          "xref": "paper",
          "y": 0.16000000000000003,
          "yanchor": "bottom",
          "yref": "paper"
         },
         {
          "font": {
           "size": 16
          },
          "showarrow": false,
          "text": "concave points_worst",
          "x": 0.15,
          "xanchor": "center",
          "xref": "paper",
          "y": 0.05500000000000001,
          "yanchor": "bottom",
          "yref": "paper"
         },
         {
          "font": {
           "size": 16
          },
          "showarrow": false,
          "text": "symmetry_worst",
          "x": 0.49999999999999994,
          "xanchor": "center",
          "xref": "paper",
          "y": 0.05500000000000001,
          "yanchor": "bottom",
          "yref": "paper"
         },
         {
          "font": {
           "size": 16
          },
          "showarrow": false,
          "text": "fractal_dimension_worst",
          "x": 0.85,
          "xanchor": "center",
          "xref": "paper",
          "y": 0.05500000000000001,
          "yanchor": "bottom",
          "yref": "paper"
         }
        ],
        "height": 3000,
        "showlegend": true,
        "template": {
         "data": {
          "bar": [
           {
            "error_x": {
             "color": "#2a3f5f"
            },
            "error_y": {
             "color": "#2a3f5f"
            },
            "marker": {
             "line": {
              "color": "#E5ECF6",
              "width": 0.5
             },
             "pattern": {
              "fillmode": "overlay",
              "size": 10,
              "solidity": 0.2
             }
            },
            "type": "bar"
           }
          ],
          "barpolar": [
           {
            "marker": {
             "line": {
              "color": "#E5ECF6",
              "width": 0.5
             },
             "pattern": {
              "fillmode": "overlay",
              "size": 10,
              "solidity": 0.2
             }
            },
            "type": "barpolar"
           }
          ],
          "carpet": [
           {
            "aaxis": {
             "endlinecolor": "#2a3f5f",
             "gridcolor": "white",
             "linecolor": "white",
             "minorgridcolor": "white",
             "startlinecolor": "#2a3f5f"
            },
            "baxis": {
             "endlinecolor": "#2a3f5f",
             "gridcolor": "white",
             "linecolor": "white",
             "minorgridcolor": "white",
             "startlinecolor": "#2a3f5f"
            },
            "type": "carpet"
           }
          ],
          "choropleth": [
           {
            "colorbar": {
             "outlinewidth": 0,
             "ticks": ""
            },
            "type": "choropleth"
           }
          ],
          "contour": [
           {
            "colorbar": {
             "outlinewidth": 0,
             "ticks": ""
            },
            "colorscale": [
             [
              0,
              "#0d0887"
             ],
             [
              0.1111111111111111,
              "#46039f"
             ],
             [
              0.2222222222222222,
              "#7201a8"
             ],
             [
              0.3333333333333333,
              "#9c179e"
             ],
             [
              0.4444444444444444,
              "#bd3786"
             ],
             [
              0.5555555555555556,
              "#d8576b"
             ],
             [
              0.6666666666666666,
              "#ed7953"
             ],
             [
              0.7777777777777778,
              "#fb9f3a"
             ],
             [
              0.8888888888888888,
              "#fdca26"
             ],
             [
              1,
              "#f0f921"
             ]
            ],
            "type": "contour"
           }
          ],
          "contourcarpet": [
           {
            "colorbar": {
             "outlinewidth": 0,
             "ticks": ""
            },
            "type": "contourcarpet"
           }
          ],
          "heatmap": [
           {
            "colorbar": {
             "outlinewidth": 0,
             "ticks": ""
            },
            "colorscale": [
             [
              0,
              "#0d0887"
             ],
             [
              0.1111111111111111,
              "#46039f"
             ],
             [
              0.2222222222222222,
              "#7201a8"
             ],
             [
              0.3333333333333333,
              "#9c179e"
             ],
             [
              0.4444444444444444,
              "#bd3786"
             ],
             [
              0.5555555555555556,
              "#d8576b"
             ],
             [
              0.6666666666666666,
              "#ed7953"
             ],
             [
              0.7777777777777778,
              "#fb9f3a"
             ],
             [
              0.8888888888888888,
              "#fdca26"
             ],
             [
              1,
              "#f0f921"
             ]
            ],
            "type": "heatmap"
           }
          ],
          "histogram": [
           {
            "marker": {
             "pattern": {
              "fillmode": "overlay",
              "size": 10,
              "solidity": 0.2
             }
            },
            "type": "histogram"
           }
          ],
          "histogram2d": [
           {
            "colorbar": {
             "outlinewidth": 0,
             "ticks": ""
            },
            "colorscale": [
             [
              0,
              "#0d0887"
             ],
             [
              0.1111111111111111,
              "#46039f"
             ],
             [
              0.2222222222222222,
              "#7201a8"
             ],
             [
              0.3333333333333333,
              "#9c179e"
             ],
             [
              0.4444444444444444,
              "#bd3786"
             ],
             [
              0.5555555555555556,
              "#d8576b"
             ],
             [
              0.6666666666666666,
              "#ed7953"
             ],
             [
              0.7777777777777778,
              "#fb9f3a"
             ],
             [
              0.8888888888888888,
              "#fdca26"
             ],
             [
              1,
              "#f0f921"
             ]
            ],
            "type": "histogram2d"
           }
          ],
          "histogram2dcontour": [
           {
            "colorbar": {
             "outlinewidth": 0,
             "ticks": ""
            },
            "colorscale": [
             [
              0,
              "#0d0887"
             ],
             [
              0.1111111111111111,
              "#46039f"
             ],
             [
              0.2222222222222222,
              "#7201a8"
             ],
             [
              0.3333333333333333,
              "#9c179e"
             ],
             [
              0.4444444444444444,
              "#bd3786"
             ],
             [
              0.5555555555555556,
              "#d8576b"
             ],
             [
              0.6666666666666666,
              "#ed7953"
             ],
             [
              0.7777777777777778,
              "#fb9f3a"
             ],
             [
              0.8888888888888888,
              "#fdca26"
             ],
             [
              1,
              "#f0f921"
             ]
            ],
            "type": "histogram2dcontour"
           }
          ],
          "mesh3d": [
           {
            "colorbar": {
             "outlinewidth": 0,
             "ticks": ""
            },
            "type": "mesh3d"
           }
          ],
          "parcoords": [
           {
            "line": {
             "colorbar": {
              "outlinewidth": 0,
              "ticks": ""
             }
            },
            "type": "parcoords"
           }
          ],
          "pie": [
           {
            "automargin": true,
            "type": "pie"
           }
          ],
          "scatter": [
           {
            "fillpattern": {
             "fillmode": "overlay",
             "size": 10,
             "solidity": 0.2
            },
            "type": "scatter"
           }
          ],
          "scatter3d": [
           {
            "line": {
             "colorbar": {
              "outlinewidth": 0,
              "ticks": ""
             }
            },
            "marker": {
             "colorbar": {
              "outlinewidth": 0,
              "ticks": ""
             }
            },
            "type": "scatter3d"
           }
          ],
          "scattercarpet": [
           {
            "marker": {
             "colorbar": {
              "outlinewidth": 0,
              "ticks": ""
             }
            },
            "type": "scattercarpet"
           }
          ],
          "scattergeo": [
           {
            "marker": {
             "colorbar": {
              "outlinewidth": 0,
              "ticks": ""
             }
            },
            "type": "scattergeo"
           }
          ],
          "scattergl": [
           {
            "marker": {
             "colorbar": {
              "outlinewidth": 0,
              "ticks": ""
             }
            },
            "type": "scattergl"
           }
          ],
          "scattermap": [
           {
            "marker": {
             "colorbar": {
              "outlinewidth": 0,
              "ticks": ""
             }
            },
            "type": "scattermap"
           }
          ],
          "scattermapbox": [
           {
            "marker": {
             "colorbar": {
              "outlinewidth": 0,
              "ticks": ""
             }
            },
            "type": "scattermapbox"
           }
          ],
          "scatterpolar": [
           {
            "marker": {
             "colorbar": {
              "outlinewidth": 0,
              "ticks": ""
             }
            },
            "type": "scatterpolar"
           }
          ],
          "scatterpolargl": [
           {
            "marker": {
             "colorbar": {
              "outlinewidth": 0,
              "ticks": ""
             }
            },
            "type": "scatterpolargl"
           }
          ],
          "scatterternary": [
           {
            "marker": {
             "colorbar": {
              "outlinewidth": 0,
              "ticks": ""
             }
            },
            "type": "scatterternary"
           }
          ],
          "surface": [
           {
            "colorbar": {
             "outlinewidth": 0,
             "ticks": ""
            },
            "colorscale": [
             [
              0,
              "#0d0887"
             ],
             [
              0.1111111111111111,
              "#46039f"
             ],
             [
              0.2222222222222222,
              "#7201a8"
             ],
             [
              0.3333333333333333,
              "#9c179e"
             ],
             [
              0.4444444444444444,
              "#bd3786"
             ],
             [
              0.5555555555555556,
              "#d8576b"
             ],
             [
              0.6666666666666666,
              "#ed7953"
             ],
             [
              0.7777777777777778,
              "#fb9f3a"
             ],
             [
              0.8888888888888888,
              "#fdca26"
             ],
             [
              1,
              "#f0f921"
             ]
            ],
            "type": "surface"
           }
          ],
          "table": [
           {
            "cells": {
             "fill": {
              "color": "#EBF0F8"
             },
             "line": {
              "color": "white"
             }
            },
            "header": {
             "fill": {
              "color": "#C8D4E3"
             },
             "line": {
              "color": "white"
             }
            },
            "type": "table"
           }
          ]
         },
         "layout": {
          "annotationdefaults": {
           "arrowcolor": "#2a3f5f",
           "arrowhead": 0,
           "arrowwidth": 1
          },
          "autotypenumbers": "strict",
          "coloraxis": {
           "colorbar": {
            "outlinewidth": 0,
            "ticks": ""
           }
          },
          "colorscale": {
           "diverging": [
            [
             0,
             "#8e0152"
            ],
            [
             0.1,
             "#c51b7d"
            ],
            [
             0.2,
             "#de77ae"
            ],
            [
             0.3,
             "#f1b6da"
            ],
            [
             0.4,
             "#fde0ef"
            ],
            [
             0.5,
             "#f7f7f7"
            ],
            [
             0.6,
             "#e6f5d0"
            ],
            [
             0.7,
             "#b8e186"
            ],
            [
             0.8,
             "#7fbc41"
            ],
            [
             0.9,
             "#4d9221"
            ],
            [
             1,
             "#276419"
            ]
           ],
           "sequential": [
            [
             0,
             "#0d0887"
            ],
            [
             0.1111111111111111,
             "#46039f"
            ],
            [
             0.2222222222222222,
             "#7201a8"
            ],
            [
             0.3333333333333333,
             "#9c179e"
            ],
            [
             0.4444444444444444,
             "#bd3786"
            ],
            [
             0.5555555555555556,
             "#d8576b"
            ],
            [
             0.6666666666666666,
             "#ed7953"
            ],
            [
             0.7777777777777778,
             "#fb9f3a"
            ],
            [
             0.8888888888888888,
             "#fdca26"
            ],
            [
             1,
             "#f0f921"
            ]
           ],
           "sequentialminus": [
            [
             0,
             "#0d0887"
            ],
            [
             0.1111111111111111,
             "#46039f"
            ],
            [
             0.2222222222222222,
             "#7201a8"
            ],
            [
             0.3333333333333333,
             "#9c179e"
            ],
            [
             0.4444444444444444,
             "#bd3786"
            ],
            [
             0.5555555555555556,
             "#d8576b"
            ],
            [
             0.6666666666666666,
             "#ed7953"
            ],
            [
             0.7777777777777778,
             "#fb9f3a"
            ],
            [
             0.8888888888888888,
             "#fdca26"
            ],
            [
             1,
             "#f0f921"
            ]
           ]
          },
          "colorway": [
           "#636efa",
           "#EF553B",
           "#00cc96",
           "#ab63fa",
           "#FFA15A",
           "#19d3f3",
           "#FF6692",
           "#B6E880",
           "#FF97FF",
           "#FECB52"
          ],
          "font": {
           "color": "#2a3f5f"
          },
          "geo": {
           "bgcolor": "white",
           "lakecolor": "white",
           "landcolor": "#E5ECF6",
           "showlakes": true,
           "showland": true,
           "subunitcolor": "white"
          },
          "hoverlabel": {
           "align": "left"
          },
          "hovermode": "closest",
          "mapbox": {
           "style": "light"
          },
          "paper_bgcolor": "white",
          "plot_bgcolor": "#E5ECF6",
          "polar": {
           "angularaxis": {
            "gridcolor": "white",
            "linecolor": "white",
            "ticks": ""
           },
           "bgcolor": "#E5ECF6",
           "radialaxis": {
            "gridcolor": "white",
            "linecolor": "white",
            "ticks": ""
           }
          },
          "scene": {
           "xaxis": {
            "backgroundcolor": "#E5ECF6",
            "gridcolor": "white",
            "gridwidth": 2,
            "linecolor": "white",
            "showbackground": true,
            "ticks": "",
            "zerolinecolor": "white"
           },
           "yaxis": {
            "backgroundcolor": "#E5ECF6",
            "gridcolor": "white",
            "gridwidth": 2,
            "linecolor": "white",
            "showbackground": true,
            "ticks": "",
            "zerolinecolor": "white"
           },
           "zaxis": {
            "backgroundcolor": "#E5ECF6",
            "gridcolor": "white",
            "gridwidth": 2,
            "linecolor": "white",
            "showbackground": true,
            "ticks": "",
            "zerolinecolor": "white"
           }
          },
          "shapedefaults": {
           "line": {
            "color": "#2a3f5f"
           }
          },
          "ternary": {
           "aaxis": {
            "gridcolor": "white",
            "linecolor": "white",
            "ticks": ""
           },
           "baxis": {
            "gridcolor": "white",
            "linecolor": "white",
            "ticks": ""
           },
           "bgcolor": "#E5ECF6",
           "caxis": {
            "gridcolor": "white",
            "linecolor": "white",
            "ticks": ""
           }
          },
          "title": {
           "x": 0.05
          },
          "xaxis": {
           "automargin": true,
           "gridcolor": "white",
           "linecolor": "white",
           "ticks": "",
           "title": {
            "standoff": 15
           },
           "zerolinecolor": "white",
           "zerolinewidth": 2
          },
          "yaxis": {
           "automargin": true,
           "gridcolor": "white",
           "linecolor": "white",
           "ticks": "",
           "title": {
            "standoff": 15
           },
           "zerolinecolor": "white",
           "zerolinewidth": 2
          }
         }
        },
        "title": {
         "text": "Boxplots de todas as variáveis por Diagnóstico"
        },
        "xaxis": {
         "anchor": "y",
         "domain": [
          0,
          0.3
         ]
        },
        "xaxis10": {
         "anchor": "y10",
         "domain": [
          0,
          0.3
         ]
        },
        "xaxis11": {
         "anchor": "y11",
         "domain": [
          0.35,
          0.6499999999999999
         ]
        },
        "xaxis12": {
         "anchor": "y12",
         "domain": [
          0.7,
          1
         ]
        },
        "xaxis13": {
         "anchor": "y13",
         "domain": [
          0,
          0.3
         ]
        },
        "xaxis14": {
         "anchor": "y14",
         "domain": [
          0.35,
          0.6499999999999999
         ]
        },
        "xaxis15": {
         "anchor": "y15",
         "domain": [
          0.7,
          1
         ]
        },
        "xaxis16": {
         "anchor": "y16",
         "domain": [
          0,
          0.3
         ]
        },
        "xaxis17": {
         "anchor": "y17",
         "domain": [
          0.35,
          0.6499999999999999
         ]
        },
        "xaxis18": {
         "anchor": "y18",
         "domain": [
          0.7,
          1
         ]
        },
        "xaxis19": {
         "anchor": "y19",
         "domain": [
          0,
          0.3
         ]
        },
        "xaxis2": {
         "anchor": "y2",
         "domain": [
          0.35,
          0.6499999999999999
         ]
        },
        "xaxis20": {
         "anchor": "y20",
         "domain": [
          0.35,
          0.6499999999999999
         ]
        },
        "xaxis21": {
         "anchor": "y21",
         "domain": [
          0.7,
          1
         ]
        },
        "xaxis22": {
         "anchor": "y22",
         "domain": [
          0,
          0.3
         ]
        },
        "xaxis23": {
         "anchor": "y23",
         "domain": [
          0.35,
          0.6499999999999999
         ]
        },
        "xaxis24": {
         "anchor": "y24",
         "domain": [
          0.7,
          1
         ]
        },
        "xaxis25": {
         "anchor": "y25",
         "domain": [
          0,
          0.3
         ]
        },
        "xaxis26": {
         "anchor": "y26",
         "domain": [
          0.35,
          0.6499999999999999
         ]
        },
        "xaxis27": {
         "anchor": "y27",
         "domain": [
          0.7,
          1
         ]
        },
        "xaxis28": {
         "anchor": "y28",
         "domain": [
          0,
          0.3
         ]
        },
        "xaxis29": {
         "anchor": "y29",
         "domain": [
          0.35,
          0.6499999999999999
         ]
        },
        "xaxis3": {
         "anchor": "y3",
         "domain": [
          0.7,
          1
         ]
        },
        "xaxis30": {
         "anchor": "y30",
         "domain": [
          0.7,
          1
         ]
        },
        "xaxis4": {
         "anchor": "y4",
         "domain": [
          0,
          0.3
         ]
        },
        "xaxis5": {
         "anchor": "y5",
         "domain": [
          0.35,
          0.6499999999999999
         ]
        },
        "xaxis6": {
         "anchor": "y6",
         "domain": [
          0.7,
          1
         ]
        },
        "xaxis7": {
         "anchor": "y7",
         "domain": [
          0,
          0.3
         ]
        },
        "xaxis8": {
         "anchor": "y8",
         "domain": [
          0.35,
          0.6499999999999999
         ]
        },
        "xaxis9": {
         "anchor": "y9",
         "domain": [
          0.7,
          1
         ]
        },
        "yaxis": {
         "anchor": "x",
         "domain": [
          0.9450000000000001,
          1
         ]
        },
        "yaxis10": {
         "anchor": "x10",
         "domain": [
          0.6300000000000001,
          0.6850000000000002
         ]
        },
        "yaxis11": {
         "anchor": "x11",
         "domain": [
          0.6300000000000001,
          0.6850000000000002
         ]
        },
        "yaxis12": {
         "anchor": "x12",
         "domain": [
          0.6300000000000001,
          0.6850000000000002
         ]
        },
        "yaxis13": {
         "anchor": "x13",
         "domain": [
          0.525,
          0.5800000000000001
         ]
        },
        "yaxis14": {
         "anchor": "x14",
         "domain": [
          0.525,
          0.5800000000000001
         ]
        },
        "yaxis15": {
         "anchor": "x15",
         "domain": [
          0.525,
          0.5800000000000001
         ]
        },
        "yaxis16": {
         "anchor": "x16",
         "domain": [
          0.42000000000000004,
          0.47500000000000003
         ]
        },
        "yaxis17": {
         "anchor": "x17",
         "domain": [
          0.42000000000000004,
          0.47500000000000003
         ]
        },
        "yaxis18": {
         "anchor": "x18",
         "domain": [
          0.42000000000000004,
          0.47500000000000003
         ]
        },
        "yaxis19": {
         "anchor": "x19",
         "domain": [
          0.31500000000000006,
          0.37000000000000005
         ]
        },
        "yaxis2": {
         "anchor": "x2",
         "domain": [
          0.9450000000000001,
          1
         ]
        },
        "yaxis20": {
         "anchor": "x20",
         "domain": [
          0.31500000000000006,
          0.37000000000000005
         ]
        },
        "yaxis21": {
         "anchor": "x21",
         "domain": [
          0.31500000000000006,
          0.37000000000000005
         ]
        },
        "yaxis22": {
         "anchor": "x22",
         "domain": [
          0.21000000000000002,
          0.265
         ]
        },
        "yaxis23": {
         "anchor": "x23",
         "domain": [
          0.21000000000000002,
          0.265
         ]
        },
        "yaxis24": {
         "anchor": "x24",
         "domain": [
          0.21000000000000002,
          0.265
         ]
        },
        "yaxis25": {
         "anchor": "x25",
         "domain": [
          0.10500000000000001,
          0.16000000000000003
         ]
        },
        "yaxis26": {
         "anchor": "x26",
         "domain": [
          0.10500000000000001,
          0.16000000000000003
         ]
        },
        "yaxis27": {
         "anchor": "x27",
         "domain": [
          0.10500000000000001,
          0.16000000000000003
         ]
        },
        "yaxis28": {
         "anchor": "x28",
         "domain": [
          0,
          0.05500000000000001
         ]
        },
        "yaxis29": {
         "anchor": "x29",
         "domain": [
          0,
          0.05500000000000001
         ]
        },
        "yaxis3": {
         "anchor": "x3",
         "domain": [
          0.9450000000000001,
          1
         ]
        },
        "yaxis30": {
         "anchor": "x30",
         "domain": [
          0,
          0.05500000000000001
         ]
        },
        "yaxis4": {
         "anchor": "x4",
         "domain": [
          0.8400000000000001,
          0.8950000000000001
         ]
        },
        "yaxis5": {
         "anchor": "x5",
         "domain": [
          0.8400000000000001,
          0.8950000000000001
         ]
        },
        "yaxis6": {
         "anchor": "x6",
         "domain": [
          0.8400000000000001,
          0.8950000000000001
         ]
        },
        "yaxis7": {
         "anchor": "x7",
         "domain": [
          0.7350000000000001,
          0.7900000000000001
         ]
        },
        "yaxis8": {
         "anchor": "x8",
         "domain": [
          0.7350000000000001,
          0.7900000000000001
         ]
        },
        "yaxis9": {
         "anchor": "x9",
         "domain": [
          0.7350000000000001,
          0.7900000000000001
         ]
        }
       }
      }
     },
     "metadata": {},
     "output_type": "display_data"
    }
   ],
   "source": [
    "\n",
    "\n",
    "colunas_numericas = [col for col in df_dataset.select_dtypes(include=['float64', 'int64']).columns if col != 'id']\n",
    "\n",
    "n_cols = 3\n",
    "n_rows = (len(colunas_numericas) + n_cols - 1) // n_cols\n",
    "\n",
    "fig = make_subplots(\n",
    "    rows=n_rows, \n",
    "    cols=n_cols,\n",
    "    subplot_titles=colunas_numericas,\n",
    "    vertical_spacing=0.05,   \n",
    "    horizontal_spacing=0.05  \n",
    ")\n",
    "\n",
    "for idx, coluna in enumerate(colunas_numericas):\n",
    "    row = idx // n_cols + 1\n",
    "    col = idx % n_cols + 1\n",
    "    \n",
    "    for diagnosis in df_dataset['diagnosis'].unique():\n",
    "        df_filtrado = df_dataset[df_dataset['diagnosis'] == diagnosis]\n",
    "        fig.add_trace(\n",
    "            go.Box(y=df_filtrado[coluna], name=diagnosis, showlegend=(idx == 0)),\n",
    "            row=row,\n",
    "            col=col\n",
    "        )\n",
    "\n",
    "fig.update_layout(\n",
    "    height=300 * n_rows,  # Reduzido para compactar mais\n",
    "    title_text=\"Boxplots de todas as variáveis por Diagnóstico\",\n",
    "    showlegend=True\n",
    ")\n",
    "fig.show()"
   ]
  },
  {
   "cell_type": "code",
   "execution_count": 155,
   "id": "c47e8958",
   "metadata": {},
   "outputs": [
    {
     "data": {
      "application/vnd.plotly.v1+json": {
       "config": {
        "plotlyServerURL": "https://plot.ly"
       },
       "data": [
        {
         "marker": {
          "color": "#FF5733"
         },
         "mode": "markers",
         "name": "Maligno",
         "showlegend": true,
         "type": "scatter",
         "x": {
          "bdata": "AAABAAIAAwAEAAUABgAHAAgACQAKAAsADAANAA4ADwAQABEAEgAWABcAGAAZABoAGwAcAB0AHgAfACAAIQAiACMAJAAmACcAKAApACoAKwAsAC0ALwA1ADYAOAA5AD4AQABBAEYASABJAEsATQBOAFIAUwBVAFYAVwBbAF4AXwBjAGQAaQBsAHUAdgB3AHkAegB+AH8AgQCDAIQAhgCHAIoAjQCSAJwAoQCiAKQApwCoAKsArACxALQAtQC2ALgAugC+AMEAwgDEAMUAxgDHAMkAygDLAM0AzwDSANQA1QDWANcA2gDbAN8A5QDmAOkA7ADtAO8A9AD6APwA/QD+AP8AAAEBAQIBAwEEAQUBBgEHAQgBCQEQARIBFQEYARoBGwEpASwBLgE9AUEBQwFIAUkBSgFPAVEBUwFXAV8BYAFhAW0BbgFwAXEBcgF0AXUBewGBAYUBiAGJAZABmAGeAaEBrgGwAbEBswG5AbwBvgHBAcMBzAHNAdQB3wHnAekB7AHyAfMB9QH3Af0BAAICAgQCBQIJAhUCFwIYAjICMwI0AjUCNgI3Ag==",
          "dtype": "i2"
         },
         "xaxis": "x",
         "y": {
          "bdata": "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",
          "dtype": "f8"
         },
         "yaxis": "y"
        },
        {
         "marker": {
          "color": "#33C1FF"
         },
         "mode": "markers",
         "name": "Benigno",
         "showlegend": true,
         "type": "scatter",
         "x": {
          "bdata": "EwAUABUAJQAuADAAMQAyADMANAA3ADoAOwA8AD0APwBCAEMARABFAEcASgBMAE8AUABRAFQAWABZAFoAXABdAGAAYQBiAGUAZgBnAGgAagBrAG0AbgBvAHAAcQByAHMAdAB4AHsAfAB9AIAAggCFAIgAiQCLAIwAjgCPAJAAkQCTAJQAlQCWAJcAmACZAJoAmwCdAJ4AnwCgAKMApQCmAKkAqgCtAK4ArwCwALIAswC3ALkAuwC8AL0AvwDAAMMAyADMAM4A0ADRANMA2ADZANwA3QDeAOAA4QDiAOMA5ADnAOgA6gDrAO4A8ADxAPIA8wD1APYA9wD4APkA+wAKAQsBDAENAQ4BDwERARMBFAEWARcBGQEcAR0BHgEfASABIQEiASMBJAElASYBJwEoASoBKwEtAS8BMAExATIBMwE0ATUBNgE3ATgBOQE6ATsBPAE+AT8BQAFCAUQBRQFGAUcBSwFMAU0BTgFQAVIBVAFVAVYBWAFZAVoBWwFcAV0BXgFiAWMBZAFlAWYBZwFoAWkBagFrAWwBbwFzAXYBdwF4AXkBegF8AX0BfgF/AYABggGDAYQBhgGHAYoBiwGMAY0BjgGPAZEBkgGTAZQBlQGWAZcBmQGaAZsBnAGdAZ8BoAGiAaMBpAGlAaYBpwGoAakBqgGrAawBrQGvAbIBtAG1AbYBtwG4AboBuwG9Ab8BwAHCAcQBxQHGAccByAHJAcoBywHOAc8B0AHRAdIB0wHVAdYB1wHYAdkB2gHbAdwB3QHeAeAB4QHiAeMB5AHlAeYB6AHqAesB7QHuAe8B8AHxAfQB9gH4AfkB+gH7AfwB/gH/AQECAwIGAgcCCAIKAgsCDAINAg4CDwIQAhECEgITAhQCFgIZAhoCGwIcAh0CHgIfAiACIQIiAiMCJAIlAiYCJwIoAikCKgIrAiwCLQIuAi8CMAIxAjgC",
          "dtype": "i2"
         },
         "xaxis": "x",
         "y": {
          "bdata": "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",
          "dtype": "f8"
         },
         "yaxis": "y"
        },
        {
         "marker": {
          "color": "#FF5733"
         },
         "mode": "markers",
         "name": "Maligno",
         "showlegend": false,
         "type": "scatter",
         "x": {
          "bdata": "AAABAAIAAwAEAAUABgAHAAgACQAKAAsADAANAA4ADwAQABEAEgAWABcAGAAZABoAGwAcAB0AHgAfACAAIQAiACMAJAAmACcAKAApACoAKwAsAC0ALwA1ADYAOAA5AD4AQABBAEYASABJAEsATQBOAFIAUwBVAFYAVwBbAF4AXwBjAGQAaQBsAHUAdgB3AHkAegB+AH8AgQCDAIQAhgCHAIoAjQCSAJwAoQCiAKQApwCoAKsArACxALQAtQC2ALgAugC+AMEAwgDEAMUAxgDHAMkAygDLAM0AzwDSANQA1QDWANcA2gDbAN8A5QDmAOkA7ADtAO8A9AD6APwA/QD+AP8AAAEBAQIBAwEEAQUBBgEHAQgBCQEQARIBFQEYARoBGwEpASwBLgE9AUEBQwFIAUkBSgFPAVEBUwFXAV8BYAFhAW0BbgFwAXEBcgF0AXUBewGBAYUBiAGJAZABmAGeAaEBrgGwAbEBswG5AbwBvgHBAcMBzAHNAdQB3wHnAekB7AHyAfMB9QH3Af0BAAICAgQCBQIJAhUCFwIYAjICMwI0AjUCNgI3Ag==",
          "dtype": "i2"
         },
         "xaxis": "x2",
         "y": {
          "bdata": "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",
          "dtype": "f8"
         },
         "yaxis": "y2"
        },
        {
         "marker": {
          "color": "#33C1FF"
         },
         "mode": "markers",
         "name": "Benigno",
         "showlegend": false,
         "type": "scatter",
         "x": {
          "bdata": "EwAUABUAJQAuADAAMQAyADMANAA3ADoAOwA8AD0APwBCAEMARABFAEcASgBMAE8AUABRAFQAWABZAFoAXABdAGAAYQBiAGUAZgBnAGgAagBrAG0AbgBvAHAAcQByAHMAdAB4AHsAfAB9AIAAggCFAIgAiQCLAIwAjgCPAJAAkQCTAJQAlQCWAJcAmACZAJoAmwCdAJ4AnwCgAKMApQCmAKkAqgCtAK4ArwCwALIAswC3ALkAuwC8AL0AvwDAAMMAyADMAM4A0ADRANMA2ADZANwA3QDeAOAA4QDiAOMA5ADnAOgA6gDrAO4A8ADxAPIA8wD1APYA9wD4APkA+wAKAQsBDAENAQ4BDwERARMBFAEWARcBGQEcAR0BHgEfASABIQEiASMBJAElASYBJwEoASoBKwEtAS8BMAExATIBMwE0ATUBNgE3ATgBOQE6ATsBPAE+AT8BQAFCAUQBRQFGAUcBSwFMAU0BTgFQAVIBVAFVAVYBWAFZAVoBWwFcAV0BXgFiAWMBZAFlAWYBZwFoAWkBagFrAWwBbwFzAXYBdwF4AXkBegF8AX0BfgF/AYABggGDAYQBhgGHAYoBiwGMAY0BjgGPAZEBkgGTAZQBlQGWAZcBmQGaAZsBnAGdAZ8BoAGiAaMBpAGlAaYBpwGoAakBqgGrAawBrQGvAbIBtAG1AbYBtwG4AboBuwG9Ab8BwAHCAcQBxQHGAccByAHJAcoBywHOAc8B0AHRAdIB0wHVAdYB1wHYAdkB2gHbAdwB3QHeAeAB4QHiAeMB5AHlAeYB6AHqAesB7QHuAe8B8AHxAfQB9gH4AfkB+gH7AfwB/gH/AQECAwIGAgcCCAIKAgsCDAINAg4CDwIQAhECEgITAhQCFgIZAhoCGwIcAh0CHgIfAiACIQIiAiMCJAIlAiYCJwIoAikCKgIrAiwCLQIuAi8CMAIxAjgC",
          "dtype": "i2"
         },
         "xaxis": "x2",
         "y": {
          "bdata": "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",
          "dtype": "f8"
         },
         "yaxis": "y2"
        },
        {
         "marker": {
          "color": "#FF5733"
         },
         "mode": "markers",
         "name": "Maligno",
         "showlegend": false,
         "type": "scatter",
         "x": {
          "bdata": "AAABAAIAAwAEAAUABgAHAAgACQAKAAsADAANAA4ADwAQABEAEgAWABcAGAAZABoAGwAcAB0AHgAfACAAIQAiACMAJAAmACcAKAApACoAKwAsAC0ALwA1ADYAOAA5AD4AQABBAEYASABJAEsATQBOAFIAUwBVAFYAVwBbAF4AXwBjAGQAaQBsAHUAdgB3AHkAegB+AH8AgQCDAIQAhgCHAIoAjQCSAJwAoQCiAKQApwCoAKsArACxALQAtQC2ALgAugC+AMEAwgDEAMUAxgDHAMkAygDLAM0AzwDSANQA1QDWANcA2gDbAN8A5QDmAOkA7ADtAO8A9AD6APwA/QD+AP8AAAEBAQIBAwEEAQUBBgEHAQgBCQEQARIBFQEYARoBGwEpASwBLgE9AUEBQwFIAUkBSgFPAVEBUwFXAV8BYAFhAW0BbgFwAXEBcgF0AXUBewGBAYUBiAGJAZABmAGeAaEBrgGwAbEBswG5AbwBvgHBAcMBzAHNAdQB3wHnAekB7AHyAfMB9QH3Af0BAAICAgQCBQIJAhUCFwIYAjICMwI0AjUCNgI3Ag==",
          "dtype": "i2"
         },
         "xaxis": "x3",
         "y": {
          "bdata": "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",
          "dtype": "f8"
         },
         "yaxis": "y3"
        },
        {
         "marker": {
          "color": "#33C1FF"
         },
         "mode": "markers",
         "name": "Benigno",
         "showlegend": false,
         "type": "scatter",
         "x": {
          "bdata": "EwAUABUAJQAuADAAMQAyADMANAA3ADoAOwA8AD0APwBCAEMARABFAEcASgBMAE8AUABRAFQAWABZAFoAXABdAGAAYQBiAGUAZgBnAGgAagBrAG0AbgBvAHAAcQByAHMAdAB4AHsAfAB9AIAAggCFAIgAiQCLAIwAjgCPAJAAkQCTAJQAlQCWAJcAmACZAJoAmwCdAJ4AnwCgAKMApQCmAKkAqgCtAK4ArwCwALIAswC3ALkAuwC8AL0AvwDAAMMAyADMAM4A0ADRANMA2ADZANwA3QDeAOAA4QDiAOMA5ADnAOgA6gDrAO4A8ADxAPIA8wD1APYA9wD4APkA+wAKAQsBDAENAQ4BDwERARMBFAEWARcBGQEcAR0BHgEfASABIQEiASMBJAElASYBJwEoASoBKwEtAS8BMAExATIBMwE0ATUBNgE3ATgBOQE6ATsBPAE+AT8BQAFCAUQBRQFGAUcBSwFMAU0BTgFQAVIBVAFVAVYBWAFZAVoBWwFcAV0BXgFiAWMBZAFlAWYBZwFoAWkBagFrAWwBbwFzAXYBdwF4AXkBegF8AX0BfgF/AYABggGDAYQBhgGHAYoBiwGMAY0BjgGPAZEBkgGTAZQBlQGWAZcBmQGaAZsBnAGdAZ8BoAGiAaMBpAGlAaYBpwGoAakBqgGrAawBrQGvAbIBtAG1AbYBtwG4AboBuwG9Ab8BwAHCAcQBxQHGAccByAHJAcoBywHOAc8B0AHRAdIB0wHVAdYB1wHYAdkB2gHbAdwB3QHeAeAB4QHiAeMB5AHlAeYB6AHqAesB7QHuAe8B8AHxAfQB9gH4AfkB+gH7AfwB/gH/AQECAwIGAgcCCAIKAgsCDAINAg4CDwIQAhECEgITAhQCFgIZAhoCGwIcAh0CHgIfAiACIQIiAiMCJAIlAiYCJwIoAikCKgIrAiwCLQIuAi8CMAIxAjgC",
          "dtype": "i2"
         },
         "xaxis": "x3",
         "y": {
          "bdata": "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",
          "dtype": "f8"
         },
         "yaxis": "y3"
        },
        {
         "marker": {
          "color": "#FF5733"
         },
         "mode": "markers",
         "name": "Maligno",
         "showlegend": false,
         "type": "scatter",
         "x": {
          "bdata": "AAABAAIAAwAEAAUABgAHAAgACQAKAAsADAANAA4ADwAQABEAEgAWABcAGAAZABoAGwAcAB0AHgAfACAAIQAiACMAJAAmACcAKAApACoAKwAsAC0ALwA1ADYAOAA5AD4AQABBAEYASABJAEsATQBOAFIAUwBVAFYAVwBbAF4AXwBjAGQAaQBsAHUAdgB3AHkAegB+AH8AgQCDAIQAhgCHAIoAjQCSAJwAoQCiAKQApwCoAKsArACxALQAtQC2ALgAugC+AMEAwgDEAMUAxgDHAMkAygDLAM0AzwDSANQA1QDWANcA2gDbAN8A5QDmAOkA7ADtAO8A9AD6APwA/QD+AP8AAAEBAQIBAwEEAQUBBgEHAQgBCQEQARIBFQEYARoBGwEpASwBLgE9AUEBQwFIAUkBSgFPAVEBUwFXAV8BYAFhAW0BbgFwAXEBcgF0AXUBewGBAYUBiAGJAZABmAGeAaEBrgGwAbEBswG5AbwBvgHBAcMBzAHNAdQB3wHnAekB7AHyAfMB9QH3Af0BAAICAgQCBQIJAhUCFwIYAjICMwI0AjUCNgI3Ag==",
          "dtype": "i2"
         },
         "xaxis": "x4",
         "y": {
          "bdata": "AAAAAABIj0AAAAAAALiUQAAAAAAAzJJAmpmZmZkheEAAAAAAAESUQJqZmZmZ0X1AAAAAAABAkEAzMzMzMw+CQGZmZmZmPoBAZmZmZma+fUBmZmZmZu6IQAAAAAAAaIhAAAAAAACMkUCamZmZmXWIQGZmZmZmEoJAZmZmZmaWhEAAAAAAAGSFQGZmZmZm9ohAAAAAAACwk0AzMzMzMwOGQAAAAAAA8JVAzczMzMxEjECamZmZmYWMQGZmZmZmJoRAAAAAAAAYkUAzMzMzM+OGQM3MzMzM2I1AAAAAAAAAkUCamZmZmYl7QGZmZmZmGoxAAAAAAAAokkCamZmZmTmJQAAAAAAALItAAAAAAADIg0BmZmZmZtaFQJqZmZmZeYFAAAAAAACYgUCamZmZmTF3QAAAAAAAQJFAmpmZmZkJgUAAAAAAAJyAQAAAAAAA0JBAzczMzMy0gEAAAAAAACSQQGZmZmZmRoZAAAAAAAAAkkAzMzMzM4eEQJqZmZmZLYRAAAAAAAAwf0BmZmZmZuKEQAAAAAAAqJFAMzMzMzMLjUDNzMzMzECCQJqZmZmZjYlAAAAAAABwj0AAAAAAAHSTQAAAAAAAWJ1AAAAAAACwkUAAAAAAAMyQQJqZmZmZQYRAAAAAAADQkECamZmZmcGGQM3MzMzMDIZAAAAAAADAk0AAAAAAABSEQJqZmZmZNYJAmpmZmZmRgEAAAAAAAJSXQAAAAAAAVIVAzczMzMx0iEAAAAAAALCOQAAAAAAA1JBAAAAAAACEm0DNzMzMzOSBQAAAAAAAyJFAAAAAAACgkkAzMzMzM2eHQGZmZmZmTolAAAAAAADMkEDNzMzMzKR/QM3MzMzMMIVAAAAAAABoiUAAAAAAAAB7QJqZmZmZHY5AAAAAAAAUkkAAAAAAAPiSQAAAAAAAWJpAZmZmZmayi0DNzMzMzMSOQDMzMzMzq4FAMzMzMzMHh0AzMzMzMweKQAAAAAAAlKFAAAAAAAB8lEDNzMzMzPSHQM3MzMzMNIZAAAAAAABEkEAzMzMzMw+DQGZmZmZm1n1AMzMzMzP7hEAzMzMzM2eCQAAAAAAAAJBAAAAAAADwkUCamZmZmRWEQM3MzMzMvI1AAAAAAABUmkBmZmZmZq6CQM3MzMzMZIZAZmZmZmZCjEAAAAAAACiUQAAAAAAAhqNAAAAAAACgjUCamZmZmRWDQDMzMzMzF4JAAAAAAAA4k0AAAAAAAByTQGZmZmZmyodAMzMzMzNzf0AAAAAAAPiLQAAAAAAAnJRAAAAAAAAYmkAAAAAAAGiUQM3MzMzMxIxAAAAAAAAMkkAAAAAAAFCVQAAAAAAA2JJAmpmZmZkBjUAAAAAAAESSQDMzMzMz04JAAAAAAADckkBmZmZmZkqGQAAAAAAALIhAMzMzMzNHh0AAAAAAACCUQM3MzMzMKI1AZmZmZmaejUDNzMzMzLSHQGZmZmZmAo1AAAAAAAAslkAAAAAAAEyXQDMzMzMzN49AAAAAAAA4kUAAAAAAAMiRQAAAAAAA5JFAzczMzMwoiUCamZmZmfF6QAAAAAAABJNAAAAAAAB8k0AAAAAAAAyQQAAAAAAA6JNAAAAAAADAk0CamZmZmW2JQGZmZmZm1olAmpmZmZnJiEDNzMzMzLSMQAAAAAAAEJFAAAAAAABMm0AAAAAAAKiSQM3MzMzMtIdAAAAAAABon0DNzMzMzGSGQAAAAAAANJRAAAAAAABIk0AAAAAAACiYQAAAAAAAKJdAMzMzMzNDikAAAAAAAKiVQAAAAAAA3JRAmpmZmZmZdkCamZmZmcWEQAAAAAAAWJJAmpmZmZlFh0AAAAAAAPyVQAAAAAAAEI9AmpmZmZn9jkAAAAAAAHyGQM3MzMzMGIlAAAAAAABohUAAAAAAAIiTQAAAAAAAWJFAAAAAAAC8gkBmZmZmZgaNQAAAAAAA8I5AzczMzMysjkAAAAAAAKCVQAAAAAAAnJJAMzMzMzMXjUAAAAAAAIqjQAAAAAAApI5AZmZmZmZ+iUAAAAAAADySQM3MzMzMzIpAAAAAAAB4j0AAAAAAALCQQAAAAAAAoJRAMzMzMzOfgkAAAAAAAEiaQGZmZmZm2oZAmpmZmZllgUAzMzMzM++FQAAAAAAAcJBAAAAAAAD4kkAAAAAAAMScQAAAAAAATJRAAAAAAABwlEBmZmZmZq6DQDMzMzMzZ4ZAAAAAAAAMlUAAAAAAAByXQAAAAAAAtJNAzczMzMzQikAAAAAAAMSTQA==",
          "dtype": "f8"
         },
         "yaxis": "y4"
        },
        {
         "marker": {
          "color": "#33C1FF"
         },
         "mode": "markers",
         "name": "Benigno",
         "showlegend": false,
         "type": "scatter",
         "x": {
          "bdata": "EwAUABUAJQAuADAAMQAyADMANAA3ADoAOwA8AD0APwBCAEMARABFAEcASgBMAE8AUABRAFQAWABZAFoAXABdAGAAYQBiAGUAZgBnAGgAagBrAG0AbgBvAHAAcQByAHMAdAB4AHsAfAB9AIAAggCFAIgAiQCLAIwAjgCPAJAAkQCTAJQAlQCWAJcAmACZAJoAmwCdAJ4AnwCgAKMApQCmAKkAqgCtAK4ArwCwALIAswC3ALkAuwC8AL0AvwDAAMMAyADMAM4A0ADRANMA2ADZANwA3QDeAOAA4QDiAOMA5ADnAOgA6gDrAO4A8ADxAPIA8wD1APYA9wD4APkA+wAKAQsBDAENAQ4BDwERARMBFAEWARcBGQEcAR0BHgEfASABIQEiASMBJAElASYBJwEoASoBKwEtAS8BMAExATIBMwE0ATUBNgE3ATgBOQE6ATsBPAE+AT8BQAFCAUQBRQFGAUcBSwFMAU0BTgFQAVIBVAFVAVYBWAFZAVoBWwFcAV0BXgFiAWMBZAFlAWYBZwFoAWkBagFrAWwBbwFzAXYBdwF4AXkBegF8AX0BfgF/AYABggGDAYQBhgGHAYoBiwGMAY0BjgGPAZEBkgGTAZQBlQGWAZcBmQGaAZsBnAGdAZ8BoAGiAaMBpAGlAaYBpwGoAakBqgGrAawBrQGvAbIBtAG1AbYBtwG4AboBuwG9Ab8BwAHCAcQBxQHGAccByAHJAcoBywHOAc8B0AHRAdIB0wHVAdYB1wHYAdkB2gHbAdwB3QHeAeAB4QHiAeMB5AHlAeYB6AHqAesB7QHuAe8B8AHxAfQB9gH4AfkB+gH7AfwB/gH/AQECAwIGAgcCCAIKAgsCDAINAg4CDwIQAhECEgITAhQCFgIZAhoCGwIcAh0CHgIfAiACIQIiAiMCJAIlAiYCJwIoAikCKgIrAiwCLQIuAi8CMAIxAjgC",
          "dtype": "i2"
         },
         "xaxis": "x4",
         "y": {
          "bdata": "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",
          "dtype": "f8"
         },
         "yaxis": "y4"
        },
        {
         "marker": {
          "color": "#FF5733"
         },
         "mode": "markers",
         "name": "Maligno",
         "showlegend": false,
         "type": "scatter",
         "x": {
          "bdata": "AAABAAIAAwAEAAUABgAHAAgACQAKAAsADAANAA4ADwAQABEAEgAWABcAGAAZABoAGwAcAB0AHgAfACAAIQAiACMAJAAmACcAKAApACoAKwAsAC0ALwA1ADYAOAA5AD4AQABBAEYASABJAEsATQBOAFIAUwBVAFYAVwBbAF4AXwBjAGQAaQBsAHUAdgB3AHkAegB+AH8AgQCDAIQAhgCHAIoAjQCSAJwAoQCiAKQApwCoAKsArACxALQAtQC2ALgAugC+AMEAwgDEAMUAxgDHAMkAygDLAM0AzwDSANQA1QDWANcA2gDbAN8A5QDmAOkA7ADtAO8A9AD6APwA/QD+AP8AAAEBAQIBAwEEAQUBBgEHAQgBCQEQARIBFQEYARoBGwEpASwBLgE9AUEBQwFIAUkBSgFPAVEBUwFXAV8BYAFhAW0BbgFwAXEBcgF0AXUBewGBAYUBiAGJAZABmAGeAaEBrgGwAbEBswG5AbwBvgHBAcMBzAHNAdQB3wHnAekB7AHyAfMB9QH3Af0BAAICAgQCBQIJAhUCFwIYAjICMwI0AjUCNgI3Ag==",
          "dtype": "i2"
         },
         "xaxis": "x5",
         "y": {
          "bdata": "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",
          "dtype": "f8"
         },
         "yaxis": "y5"
        },
        {
         "marker": {
          "color": "#33C1FF"
         },
         "mode": "markers",
         "name": "Benigno",
         "showlegend": false,
         "type": "scatter",
         "x": {
          "bdata": "EwAUABUAJQAuADAAMQAyADMANAA3ADoAOwA8AD0APwBCAEMARABFAEcASgBMAE8AUABRAFQAWABZAFoAXABdAGAAYQBiAGUAZgBnAGgAagBrAG0AbgBvAHAAcQByAHMAdAB4AHsAfAB9AIAAggCFAIgAiQCLAIwAjgCPAJAAkQCTAJQAlQCWAJcAmACZAJoAmwCdAJ4AnwCgAKMApQCmAKkAqgCtAK4ArwCwALIAswC3ALkAuwC8AL0AvwDAAMMAyADMAM4A0ADRANMA2ADZANwA3QDeAOAA4QDiAOMA5ADnAOgA6gDrAO4A8ADxAPIA8wD1APYA9wD4APkA+wAKAQsBDAENAQ4BDwERARMBFAEWARcBGQEcAR0BHgEfASABIQEiASMBJAElASYBJwEoASoBKwEtAS8BMAExATIBMwE0ATUBNgE3ATgBOQE6ATsBPAE+AT8BQAFCAUQBRQFGAUcBSwFMAU0BTgFQAVIBVAFVAVYBWAFZAVoBWwFcAV0BXgFiAWMBZAFlAWYBZwFoAWkBagFrAWwBbwFzAXYBdwF4AXkBegF8AX0BfgF/AYABggGDAYQBhgGHAYoBiwGMAY0BjgGPAZEBkgGTAZQBlQGWAZcBmQGaAZsBnAGdAZ8BoAGiAaMBpAGlAaYBpwGoAakBqgGrAawBrQGvAbIBtAG1AbYBtwG4AboBuwG9Ab8BwAHCAcQBxQHGAccByAHJAcoBywHOAc8B0AHRAdIB0wHVAdYB1wHYAdkB2gHbAdwB3QHeAeAB4QHiAeMB5AHlAeYB6AHqAesB7QHuAe8B8AHxAfQB9gH4AfkB+gH7AfwB/gH/AQECAwIGAgcCCAIKAgsCDAINAg4CDwIQAhECEgITAhQCFgIZAhoCGwIcAh0CHgIfAiACIQIiAiMCJAIlAiYCJwIoAikCKgIrAiwCLQIuAi8CMAIxAjgC",
          "dtype": "i2"
         },
         "xaxis": "x5",
         "y": {
          "bdata": "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",
          "dtype": "f8"
         },
         "yaxis": "y5"
        },
        {
         "marker": {
          "color": "#FF5733"
         },
         "mode": "markers",
         "name": "Maligno",
         "showlegend": false,
         "type": "scatter",
         "x": {
          "bdata": "AAABAAIAAwAEAAUABgAHAAgACQAKAAsADAANAA4ADwAQABEAEgAWABcAGAAZABoAGwAcAB0AHgAfACAAIQAiACMAJAAmACcAKAApACoAKwAsAC0ALwA1ADYAOAA5AD4AQABBAEYASABJAEsATQBOAFIAUwBVAFYAVwBbAF4AXwBjAGQAaQBsAHUAdgB3AHkAegB+AH8AgQCDAIQAhgCHAIoAjQCSAJwAoQCiAKQApwCoAKsArACxALQAtQC2ALgAugC+AMEAwgDEAMUAxgDHAMkAygDLAM0AzwDSANQA1QDWANcA2gDbAN8A5QDmAOkA7ADtAO8A9AD6APwA/QD+AP8AAAEBAQIBAwEEAQUBBgEHAQgBCQEQARIBFQEYARoBGwEpASwBLgE9AUEBQwFIAUkBSgFPAVEBUwFXAV8BYAFhAW0BbgFwAXEBcgF0AXUBewGBAYUBiAGJAZABmAGeAaEBrgGwAbEBswG5AbwBvgHBAcMBzAHNAdQB3wHnAekB7AHyAfMB9QH3Af0BAAICAgQCBQIJAhUCFwIYAjICMwI0AjUCNgI3Ag==",
          "dtype": "i2"
         },
         "xaxis": "x6",
         "y": {
          "bdata": "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",
          "dtype": "f8"
         },
         "yaxis": "y6"
        },
        {
         "marker": {
          "color": "#33C1FF"
         },
         "mode": "markers",
         "name": "Benigno",
         "showlegend": false,
         "type": "scatter",
         "x": {
          "bdata": "EwAUABUAJQAuADAAMQAyADMANAA3ADoAOwA8AD0APwBCAEMARABFAEcASgBMAE8AUABRAFQAWABZAFoAXABdAGAAYQBiAGUAZgBnAGgAagBrAG0AbgBvAHAAcQByAHMAdAB4AHsAfAB9AIAAggCFAIgAiQCLAIwAjgCPAJAAkQCTAJQAlQCWAJcAmACZAJoAmwCdAJ4AnwCgAKMApQCmAKkAqgCtAK4ArwCwALIAswC3ALkAuwC8AL0AvwDAAMMAyADMAM4A0ADRANMA2ADZANwA3QDeAOAA4QDiAOMA5ADnAOgA6gDrAO4A8ADxAPIA8wD1APYA9wD4APkA+wAKAQsBDAENAQ4BDwERARMBFAEWARcBGQEcAR0BHgEfASABIQEiASMBJAElASYBJwEoASoBKwEtAS8BMAExATIBMwE0ATUBNgE3ATgBOQE6ATsBPAE+AT8BQAFCAUQBRQFGAUcBSwFMAU0BTgFQAVIBVAFVAVYBWAFZAVoBWwFcAV0BXgFiAWMBZAFlAWYBZwFoAWkBagFrAWwBbwFzAXYBdwF4AXkBegF8AX0BfgF/AYABggGDAYQBhgGHAYoBiwGMAY0BjgGPAZEBkgGTAZQBlQGWAZcBmQGaAZsBnAGdAZ8BoAGiAaMBpAGlAaYBpwGoAakBqgGrAawBrQGvAbIBtAG1AbYBtwG4AboBuwG9Ab8BwAHCAcQBxQHGAccByAHJAcoBywHOAc8B0AHRAdIB0wHVAdYB1wHYAdkB2gHbAdwB3QHeAeAB4QHiAeMB5AHlAeYB6AHqAesB7QHuAe8B8AHxAfQB9gH4AfkB+gH7AfwB/gH/AQECAwIGAgcCCAIKAgsCDAINAg4CDwIQAhECEgITAhQCFgIZAhoCGwIcAh0CHgIfAiACIQIiAiMCJAIlAiYCJwIoAikCKgIrAiwCLQIuAi8CMAIxAjgC",
          "dtype": "i2"
         },
         "xaxis": "x6",
         "y": {
          "bdata": "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",
          "dtype": "f8"
         },
         "yaxis": "y6"
        },
        {
         "marker": {
          "color": "#FF5733"
         },
         "mode": "markers",
         "name": "Maligno",
         "showlegend": false,
         "type": "scatter",
         "x": {
          "bdata": "AAABAAIAAwAEAAUABgAHAAgACQAKAAsADAANAA4ADwAQABEAEgAWABcAGAAZABoAGwAcAB0AHgAfACAAIQAiACMAJAAmACcAKAApACoAKwAsAC0ALwA1ADYAOAA5AD4AQABBAEYASABJAEsATQBOAFIAUwBVAFYAVwBbAF4AXwBjAGQAaQBsAHUAdgB3AHkAegB+AH8AgQCDAIQAhgCHAIoAjQCSAJwAoQCiAKQApwCoAKsArACxALQAtQC2ALgAugC+AMEAwgDEAMUAxgDHAMkAygDLAM0AzwDSANQA1QDWANcA2gDbAN8A5QDmAOkA7ADtAO8A9AD6APwA/QD+AP8AAAEBAQIBAwEEAQUBBgEHAQgBCQEQARIBFQEYARoBGwEpASwBLgE9AUEBQwFIAUkBSgFPAVEBUwFXAV8BYAFhAW0BbgFwAXEBcgF0AXUBewGBAYUBiAGJAZABmAGeAaEBrgGwAbEBswG5AbwBvgHBAcMBzAHNAdQB3wHnAekB7AHyAfMB9QH3Af0BAAICAgQCBQIJAhUCFwIYAjICMwI0AjUCNgI3Ag==",
          "dtype": "i2"
         },
         "xaxis": "x7",
         "y": {
          "bdata": "9+RhodY00z8CvAUSFD+2P799HThnRMk/LpCg+DHmzj/y0k1iEFjJP8KGp1fKMsQ/7lpCPujZvD8KgPEMGvq3P3rHKTqSy8c/Dr4wmSoYzT8VqTC2EOSgP7PSpBR0e7k/O99PjZduyj/+YOC593C5P8xdS8gHPcs/Qj7o2az6xD8DCYofY+6yP3uDL0ymCsY/AwmKH2Puwj+gibDh6ZXKP/cGX5hMFbw/hetRuB6Fwz+coiO5/IfMPz0K16NwPcI/30+Nl24Swz+0WfW52orFP0jhehSuR7k/kKD4MeauzT/nHafoSC6/P8e6uI0G8M4/2T15WKg1xT9pb/CFyVTBPzcawFsgQcE/w9MrZRniwD8gRgiPNo6YP7yWkA96Nrs/m1Wfq63Ynz990LNZ9bm6P5wzorQ3+Mo/TBqjdVQ1uT8UBfpEniS1P799HThnRMk/bVZ9rrZivz8f9GxWfa7GP4UlHlA25ao/5WGh1jTvwD/pt68D54zAP4cW2c73U8s//yH99nXgvD8PnDOitDfAP9nO91Pjpbs/f9k9eVioxT//eK9amfCzP/xvJTs2Ark/PL1SliGOxT8Rx7q4jQbYPwKaCBueXtU/CRueXinLyD9KDAIrhxbBP/s6cM6I0r4/J8KGp1fKwj+ad5yiI7m8P8P1KFyPwsU/jZduEoPAwj9jnL8JhQi4PxSuR+F6FLY/bjSAt0CCyj/u68A5I0rbP28Sg8DKocU/dk8eFmpNyz8ktOVciquyP0p7gy9MpsI//7J78rBQ2z9X7C+7Jw+rP+scA7LXu7c/fT81XrpJ0D8W+8vuycPCP2wJ+aBns7o/o5I6AU2EvT8CDqFKzR6oP/tcbcX+ssM/rP9zmC8vuD/qBDQRNjzFP1g5tMh2vsc/Q61p3nGKvj8ijnVxGw3QP23F/rJ78sA/c0urIXGPtT9Ra5p3nKLLP3U8ZqAy/q0/pgpGJXUCyj9PHhZqTfPGP1afq63YX9I/E/JBz2bVzz+NRdPZyeCwP4XrUbgehas/fQVpxqLptD96Nqs+V1vJPy2yne+nxrs/KcsQx7q4xT/ufD81XrrBP1uxv+yePLw/FD/G3LWEvD9oke18PzW+P/aX3ZOHhbo/B1+YTBWM1j8awFsgQfHDP4cW2c73U7M/mG4Sg8DKsT/LoUW28/3EPz/G3LWEfNQ/K/aX3ZOHxT8lBoGVQ4u8Pw0a+ie4WLk/uY0G8BZIwD8dWmQ730+9Pz7o2az6XL0/GQRWDi2yxT+mm8QgsHLIP/kx5q4l5MM/9ihcj8L1yD+EgefewyW3P/rt68A5I8I/taZ5xyk6yj96Nqs+V1vRP8e6uI0G8M4/hjjWxW00wD+7Jw8LtabBPx7+mqxRD7k/hJ7Nqs/Vxj9LyAc9m1XPPxZqTfOOU9Q/78nDQq1pxj9TliGOdXHDP0MEHEKVmp0/UHCxogbTuD8GL/oK0oylP4rIsIo3Mrc/Vn2utmJ/wT9/arx0kxjMP5LoZRTLLa0/nKIjufyHtD+C4seYu5bIP1UwKqkT0MQ/5WGh1jTvyD90JJf/kH6bP5Axdy0hH8w/YqHWNO84zT8hsHJoke28P8UgsHJokb0/0SLb+X5q0D96pSxDHOvCP4JzRpT2Bsc/+zpwzojSvj92Tx4Wak3DP4lBYOXQIrs/tFn1udqKzT+bVZ+rrdjHP0p7gy9MptI/PL1SliGO1T8EVg4tsp2/Py7FVWXfFbk/UwWjkjoBxT+fPCzUmua9P0vIBz2bVc8/5x2n6Eguxz9fKcsQx7rIP5ayDHGsi8M/5q4l5IOexT8KaCJseHq1P+CcEaW9wcc/hjjWxW00yD+WQ4ts5/vRPw1xrIvbaNQ/yeU/pN++vj+uKvuuCP6nP+zAOSNKe8M/kst/SL990T92Tx4Wak3LP0i/fR04Z8Q/3pOHhVrTvD/7OnDOiNK+P4GVQ4ts57s/si5uowG8xT+QMXctIR/EP8l2vp8aL8U/Dwu1pnnHuT/dJAaBlUPXPxB6Nqs+V8s/V1uxv+yezD//If32deDMP60XQznRrqI/wcqhRbbzvT9os+pztRXDP8SxLm6jAcw/ApoIG55ewT/5oGez6nPFP5ZDi2zn+8k/5dAi2/l+wj+1T8djBiqzP/cGX5hMFcQ/yJi7lpAPwj/FILByaJHNP3Qkl/+QfsM/46WbxCCwyj990LNZ9bnCP1K4HoXrUdA/jgbwFkhQ1D+ASL99HTjPPzvfT42XbsI/yY6NQLyutz8hH/RsVn3WPw==",
          "dtype": "f8"
         },
         "yaxis": "y7"
        },
        {
         "marker": {
          "color": "#33C1FF"
         },
         "mode": "markers",
         "name": "Benigno",
         "showlegend": false,
         "type": "scatter",
         "x": {
          "bdata": "EwAUABUAJQAuADAAMQAyADMANAA3ADoAOwA8AD0APwBCAEMARABFAEcASgBMAE8AUABRAFQAWABZAFoAXABdAGAAYQBiAGUAZgBnAGgAagBrAG0AbgBvAHAAcQByAHMAdAB4AHsAfAB9AIAAggCFAIgAiQCLAIwAjgCPAJAAkQCTAJQAlQCWAJcAmACZAJoAmwCdAJ4AnwCgAKMApQCmAKkAqgCtAK4ArwCwALIAswC3ALkAuwC8AL0AvwDAAMMAyADMAM4A0ADRANMA2ADZANwA3QDeAOAA4QDiAOMA5ADnAOgA6gDrAO4A8ADxAPIA8wD1APYA9wD4APkA+wAKAQsBDAENAQ4BDwERARMBFAEWARcBGQEcAR0BHgEfASABIQEiASMBJAElASYBJwEoASoBKwEtAS8BMAExATIBMwE0ATUBNgE3ATgBOQE6ATsBPAE+AT8BQAFCAUQBRQFGAUcBSwFMAU0BTgFQAVIBVAFVAVYBWAFZAVoBWwFcAV0BXgFiAWMBZAFlAWYBZwFoAWkBagFrAWwBbwFzAXYBdwF4AXkBegF8AX0BfgF/AYABggGDAYQBhgGHAYoBiwGMAY0BjgGPAZEBkgGTAZQBlQGWAZcBmQGaAZsBnAGdAZ8BoAGiAaMBpAGlAaYBpwGoAakBqgGrAawBrQGvAbIBtAG1AbYBtwG4AboBuwG9Ab8BwAHCAcQBxQHGAccByAHJAcoBywHOAc8B0AHRAdIB0wHVAdYB1wHYAdkB2gHbAdwB3QHeAeAB4QHiAeMB5AHlAeYB6AHqAesB7QHuAe8B8AHxAfQB9gH4AfkB+gH7AfwB/gH/AQECAwIGAgcCCAIKAgsCDAINAg4CDwIQAhECEgITAhQCFgIZAhoCGwIcAh0CHgIfAiACIQIiAiMCJAIlAiYCJwIoAikCKgIrAiwCLQIuAi8CMAIxAjgC",
          "dtype": "i2"
         },
         "xaxis": "x7",
         "y": {
          "bdata": "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",
          "dtype": "f8"
         },
         "yaxis": "y7"
        },
        {
         "marker": {
          "color": "#FF5733"
         },
         "mode": "markers",
         "name": "Maligno",
         "showlegend": false,
         "type": "scatter",
         "x": {
          "bdata": "AAABAAIAAwAEAAUABgAHAAgACQAKAAsADAANAA4ADwAQABEAEgAWABcAGAAZABoAGwAcAB0AHgAfACAAIQAiACMAJAAmACcAKAApACoAKwAsAC0ALwA1ADYAOAA5AD4AQABBAEYASABJAEsATQBOAFIAUwBVAFYAVwBbAF4AXwBjAGQAaQBsAHUAdgB3AHkAegB+AH8AgQCDAIQAhgCHAIoAjQCSAJwAoQCiAKQApwCoAKsArACxALQAtQC2ALgAugC+AMEAwgDEAMUAxgDHAMkAygDLAM0AzwDSANQA1QDWANcA2gDbAN8A5QDmAOkA7ADtAO8A9AD6APwA/QD+AP8AAAEBAQIBAwEEAQUBBgEHAQgBCQEQARIBFQEYARoBGwEpASwBLgE9AUEBQwFIAUkBSgFPAVEBUwFXAV8BYAFhAW0BbgFwAXEBcgF0AXUBewGBAYUBiAGJAZABmAGeAaEBrgGwAbEBswG5AbwBvgHBAcMBzAHNAdQB3wHnAekB7AHyAfMB9QH3Af0BAAICAgQCBQIJAhUCFwIYAjICMwI0AjUCNgI3Ag==",
          "dtype": "i2"
         },
         "xaxis": "x8",
         "y": {
          "bdata": "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",
          "dtype": "f8"
         },
         "yaxis": "y8"
        },
        {
         "marker": {
          "color": "#33C1FF"
         },
         "mode": "markers",
         "name": "Benigno",
         "showlegend": false,
         "type": "scatter",
         "x": {
          "bdata": "EwAUABUAJQAuADAAMQAyADMANAA3ADoAOwA8AD0APwBCAEMARABFAEcASgBMAE8AUABRAFQAWABZAFoAXABdAGAAYQBiAGUAZgBnAGgAagBrAG0AbgBvAHAAcQByAHMAdAB4AHsAfAB9AIAAggCFAIgAiQCLAIwAjgCPAJAAkQCTAJQAlQCWAJcAmACZAJoAmwCdAJ4AnwCgAKMApQCmAKkAqgCtAK4ArwCwALIAswC3ALkAuwC8AL0AvwDAAMMAyADMAM4A0ADRANMA2ADZANwA3QDeAOAA4QDiAOMA5ADnAOgA6gDrAO4A8ADxAPIA8wD1APYA9wD4APkA+wAKAQsBDAENAQ4BDwERARMBFAEWARcBGQEcAR0BHgEfASABIQEiASMBJAElASYBJwEoASoBKwEtAS8BMAExATIBMwE0ATUBNgE3ATgBOQE6ATsBPAE+AT8BQAFCAUQBRQFGAUcBSwFMAU0BTgFQAVIBVAFVAVYBWAFZAVoBWwFcAV0BXgFiAWMBZAFlAWYBZwFoAWkBagFrAWwBbwFzAXYBdwF4AXkBegF8AX0BfgF/AYABggGDAYQBhgGHAYoBiwGMAY0BjgGPAZEBkgGTAZQBlQGWAZcBmQGaAZsBnAGdAZ8BoAGiAaMBpAGlAaYBpwGoAakBqgGrAawBrQGvAbIBtAG1AbYBtwG4AboBuwG9Ab8BwAHCAcQBxQHGAccByAHJAcoBywHOAc8B0AHRAdIB0wHVAdYB1wHYAdkB2gHbAdwB3QHeAeAB4QHiAeMB5AHlAeYB6AHqAesB7QHuAe8B8AHxAfQB9gH4AfkB+gH7AfwB/gH/AQECAwIGAgcCCAIKAgsCDAINAg4CDwIQAhECEgITAhQCFgIZAhoCGwIcAh0CHgIfAiACIQIiAiMCJAIlAiYCJwIoAikCKgIrAiwCLQIuAi8CMAIxAjgC",
          "dtype": "i2"
         },
         "xaxis": "x8",
         "y": {
          "bdata": "7fDXZI16qD+bVZ+rrdifP+CEQgQcQpU/5pE/GHjunT86z9iXbDx4P7w/3qtWJpw/M+GX+nlToT+Ens2qz9WGP2lSCrq9pJE//5WVJqWgiz/68gLso1OXP9sUj4tqEXE/gGYQH9jxfz+ze/KwUGuKP7afjPFh9oI/NBE2PL1Slj8hAg6hSs2OP4SezarP1ZY/ZmZmZmZmpj/ABG7dzVOdPyno9pLGaJ0/a0jcY+lDlz+b/uxHisiwP78OnDOitJc/y/Pg7qzdlj+JtfgUAOOxPxbe5SK+E5M/Imx4eqUsoz+9GMqJdhWyP2RYxRuZR54/rwj+t5Idmz/ysFBrmnecP5KRs7CnHZ4/0ENtG0ZBgD/0/dR46SahPwAAAAAAAAAAcoqO5PIfkj8VV5V9VwSfP9S3zOmymIg/ufyH9NvXoT/PTgZHyauTP27dzVMdcpM/220Xmus0kj8yychZ2NOuP/T4vU1/9rM/tKuQ8pNqnz8WpBmLprOTP+T3Nv3Zj5Q/w0fElEiilz8HQrKACdyaP2jLuRRXla0/eekmMQisnD+uZMdGIF6HP2JnCp3X2LU/bATidf2CnT9x5ldzgGCuPzm0yHa+n5o/cT0K16NwnT8gRgiPNo6oPwAAAAAAAAAAPKWD9X8Okz875Ga4AZ+fP1TjpZvEIIA/AHSYLy/Anj8iwyreyDyiP/sioS3nUqw/8iTpmsk3iz9os+pztRWbPxe86CtIM5Y/Plxy3CkdtD9EUaBP5EmSP0zg1t081aE/kdWtnpPelz8csRafAmCcP7b4FADjGZQ/1Jy8yAT8ej+kiAyreCOjP9laXyS05Zw/e0563/jakz/Bi76CNGORP89r7BLVW6M/i2zn+6nxoj/60AX1LXOaPwAAAAAAAAAAAAAAAAAAAAD0T3CxogajP6IIqdvZV14/zF1LyAc9iz9aKm9HOC2YP1iNJayNsWM/TFRvDWyVoD/n49pQMc6PPwCpTZzc75A/wARu3c1TnT8AAAAAAAAAACzxgLIpV5g/SYWxhSAHpT9VpMLYQpCjPwXAeAYN/ZM/V0PiHksfqj/SxhFr8SmgP4Fbd/NUh4w/n3HhQEgWoD8C2evdH++FP3SYLy/APpo/mZ6wxAPKpj9ApN++DpyTP9i2KLNBJpk//g5FgT6Rpz+eDI6SV+eIP5jdk4eFWqM/0xOWeEDZlD+amZmZmZlpP8XFUbmJWno/ixpMw/ARkT8niLoPQGqTP2+70FynkaY/J6Wg20saoz+MEB5tHLGGP33ogvqWOZ0/G0esxacAmD+P5PIf0m+fP/5l9+RhoYY/OPjCZKpgpD9hVFInoImQP3U8ZqAy/p0/5L1qZcIvlT8gXtcv2A2bPwLZ690f75U/YVRSJ6CJkD8IWoEhq1udP5qZmZmZmXk/S+oENBE2nD9wd9Zuu9CMP/iImBJJ9LI/uhPsv85Naz9f7/54r1qJP+OItfgUAKM/s82N6QlLnD96Nqs+V1uhP6m+84sS9Gc/8PlhhPBooz9BDkqYafuHP+o+AKlNnKw/OEpenWNAlj+CxeHMr+awPwYN/RNcrKg/NxrAWyBBoT/UK2UZ4liXPxakGYums5M/Gt1B7Eyhkz8MB0KygAmMP08jLZW3I4w/MzMzMzMzkz/rHAOy17ufP7WmeccpOpI/bZBJRs7Cjj9Ol8XE5uOKP2CuRQvQtmo/uWx0zk9xbD85RrJHqBlyPw4TDVLwFII/pvJ2hNOChz8NbJVgcTiTPw/uztptF5o/gc6kTdU9gj8AAAAAAAAAALJIE+8AT3o/YFj+fFuwdD/+fcaFAyGpPy+ob5nTZZE/BaOSOgFNpD+cxCCwcmihPzPhl/p5U5E/Fva0w1+TlT/qeMxAZfybP9Bf6BGj53Y/aJHtfD81nj95zhYQWg9/P0JBKVq5F2g/l4v4Tsx6gT9A9nr3x3uVP5MYBFYOLZI/AfbRqSufpT/xgLIpV3iXPwn+t5IdG6E/pHA9CtejoD9AMEeP39uUP2OARBMoYoE/499nXDgQoj+71XPS+8aXP7FtUWaDTJI/lQ7W/znMhz8ArmTHRiCOP89J7xtfe6Y/HZQw0/avrD/92Y8UkWGVP+FiRQ2mYZg/lj50QX3LjD/VBbzMsFF2PzUpBd1e0pg/IsMq3sg8kj9v8IXJVMGoP7QfKSLDKo4//RNcrKjBlD+FCDiEKjWbP7KFIAclzJQ/NSTusfShqz8lWBzO/GquPzgQkgVM4IY/PWGJB5RNmT/RItv5fmqsPwZM4NbdPJU/WK1M+KV+nj+Sy39Iv32dP8AEbt3NU50/GGAfnbrymT9o7Es2HmyBPyUjZ2FPO5w/14aKcf4mlD8AAAAAAAAAANaoh2h0B6E/2v6VlSaloD/MQGX8+4yrPyswZHWr56Q/ndZtUPutfT8u4jsx68WQP4dtizIbZJI/nBa86CtIkz+3Yn/ZPXmYP38TChFwCJU/vJF55A8Gnj8CZVOu8C6nP8pPqn06HpM/0ZZzKa4qmz8bL90kBoGVPxNhw9MrZZk/58OzBBkBdT8OMsnIWdijP8f0hCUeUJY/kSdJ10y+iT/Ut8zpspiYP0X11sBWCYY/VyHlJ9U+jT9U46WbxCCwP2csms5OBqc/iSmRRC+jqD9qatlaXySUP2Qke4SaIXU/ZkmAmlq2lj/izK/mAMGMP+Y/pN++Dow/J8KGp1fKkj8MzXUaaamcP0t2bATidZ0/1xLyQc9mlT/a5sb0hCWeP16dY0D2epc/Y3rCEg8omz8BGM+goX+iP0+uKZDZWYQ/G7tE9dbAhj/gSnZsBOKlP03zjlN0JJc/wcqhRbbznT8C8bp+wW6YPwn5oGez6pM/Gw3gLZCgsD9rSNxj6UOXP6A3FakwtqA/uvdwyXGnlD93oblOIy2VPwmnBS/6CpI/I6Et51JchT9h4Ln3cMmRP25RZoNMMpI/T6+UZYhjnT+Kk/sdigKdPw3gLZCg+KE/ZDxKJTyhdz/N6bKY2HysP6g65Ga4AY8/LPGAsilXmD92VDVB1H2gPwAAAAAAAAAAn3HhQEgWkD/3x3vVyoSfP3GPpQ9dUJ8/eV2/YDdsiz9EozuInSmUP70d4bTgRY8/UdobfGEylT9KXp1jQPaqP3ZxGw3gLaA/sFWCxeHMrz/IDFTGv8+oP6Pp7GRwlJw/fuNrzywJoD/6CtKMRdOJP2r2QCswZKU/gCvZsRGIhz+37uapDrmJPyhhpu1fWak/X7Uy4Zf6qT/DDfj8MEKYP/wApDZxcq8/0oxF09nJoD9Ol8XE5uOqP/jfSnZsBLI/PIOG/gkulj+Z9WIoJ9qlP3fWbrvQXKc/2QjE6/oFmz8TJ/c7FAWaP9z0Zz9SRKY/qwmi7gOQmj8t7GmHvyarP5eQD3o2q54/7dPxmIHKmD99kjtsIjN3PzyInSl0XqM/zEV8J2a9mD8/V1uxv+yOP8H/VrJjI6A/QuxMofMamz/lYaHWNO+wP5+wxAPKppw/QYLix5i7pj9mg0wychaWP1XBqKROQJM/W5TZIJOMnD+mD11Q3zKnPwAAAAAAAAAAyOpWz0nviz+rCaLuA5CaPwn5oGez6qM/Oh4zUBn/nj/4U+Olm8SgP8MN+PwwQpg/TkUqjC0EmT/gEKrU7IF2Pyy3tBoS95g/qYdodAexgz+gNxWpMLaAPwAAAAAAAAAABp57D5cclz/e5SK+E7OOP+G04EVfQYo/rir7rgj+lz8MB0KygAmcP17XL9gN24Y/AAAAAAAAAAA3bFuU2SCjP9xoAG+BBKU/RfXWwFYJpj8AAAAAAAAAAAAAAAAAAAAA",
          "dtype": "f8"
         },
         "yaxis": "y8"
        },
        {
         "marker": {
          "color": "#FF5733"
         },
         "mode": "markers",
         "name": "Maligno",
         "showlegend": false,
         "type": "scatter",
         "x": {
          "bdata": "AAABAAIAAwAEAAUABgAHAAgACQAKAAsADAANAA4ADwAQABEAEgAWABcAGAAZABoAGwAcAB0AHgAfACAAIQAiACMAJAAmACcAKAApACoAKwAsAC0ALwA1ADYAOAA5AD4AQABBAEYASABJAEsATQBOAFIAUwBVAFYAVwBbAF4AXwBjAGQAaQBsAHUAdgB3AHkAegB+AH8AgQCDAIQAhgCHAIoAjQCSAJwAoQCiAKQApwCoAKsArACxALQAtQC2ALgAugC+AMEAwgDEAMUAxgDHAMkAygDLAM0AzwDSANQA1QDWANcA2gDbAN8A5QDmAOkA7ADtAO8A9AD6APwA/QD+AP8AAAEBAQIBAwEEAQUBBgEHAQgBCQEQARIBFQEYARoBGwEpASwBLgE9AUEBQwFIAUkBSgFPAVEBUwFXAV8BYAFhAW0BbgFwAXEBcgF0AXUBewGBAYUBiAGJAZABmAGeAaEBrgGwAbEBswG5AbwBvgHBAcMBzAHNAdQB3wHnAekB7AHyAfMB9QH3Af0BAAICAgQCBQIJAhUCFwIYAjICMwI0AjUCNgI3Ag==",
          "dtype": "i2"
         },
         "xaxis": "x9",
         "y": {
          "bdata": "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",
          "dtype": "f8"
         },
         "yaxis": "y9"
        },
        {
         "marker": {
          "color": "#33C1FF"
         },
         "mode": "markers",
         "name": "Benigno",
         "showlegend": false,
         "type": "scatter",
         "x": {
          "bdata": "EwAUABUAJQAuADAAMQAyADMANAA3ADoAOwA8AD0APwBCAEMARABFAEcASgBMAE8AUABRAFQAWABZAFoAXABdAGAAYQBiAGUAZgBnAGgAagBrAG0AbgBvAHAAcQByAHMAdAB4AHsAfAB9AIAAggCFAIgAiQCLAIwAjgCPAJAAkQCTAJQAlQCWAJcAmACZAJoAmwCdAJ4AnwCgAKMApQCmAKkAqgCtAK4ArwCwALIAswC3ALkAuwC8AL0AvwDAAMMAyADMAM4A0ADRANMA2ADZANwA3QDeAOAA4QDiAOMA5ADnAOgA6gDrAO4A8ADxAPIA8wD1APYA9wD4APkA+wAKAQsBDAENAQ4BDwERARMBFAEWARcBGQEcAR0BHgEfASABIQEiASMBJAElASYBJwEoASoBKwEtAS8BMAExATIBMwE0ATUBNgE3ATgBOQE6ATsBPAE+AT8BQAFCAUQBRQFGAUcBSwFMAU0BTgFQAVIBVAFVAVYBWAFZAVoBWwFcAV0BXgFiAWMBZAFlAWYBZwFoAWkBagFrAWwBbwFzAXYBdwF4AXkBegF8AX0BfgF/AYABggGDAYQBhgGHAYoBiwGMAY0BjgGPAZEBkgGTAZQBlQGWAZcBmQGaAZsBnAGdAZ8BoAGiAaMBpAGlAaYBpwGoAakBqgGrAawBrQGvAbIBtAG1AbYBtwG4AboBuwG9Ab8BwAHCAcQBxQHGAccByAHJAcoBywHOAc8B0AHRAdIB0wHVAdYB1wHYAdkB2gHbAdwB3QHeAeAB4QHiAeMB5AHlAeYB6AHqAesB7QHuAe8B8AHxAfQB9gH4AfkB+gH7AfwB/gH/AQECAwIGAgcCCAIKAgsCDAINAg4CDwIQAhECEgITAhQCFgIZAhoCGwIcAh0CHgIfAiACIQIiAiMCJAIlAiYCJwIoAikCKgIrAiwCLQIuAi8CMAIxAjgC",
          "dtype": "i2"
         },
         "xaxis": "x9",
         "y": {
          "bdata": "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",
          "dtype": "f8"
         },
         "yaxis": "y9"
        },
        {
         "marker": {
          "color": "#FF5733"
         },
         "mode": "markers",
         "name": "Maligno",
         "showlegend": false,
         "type": "scatter",
         "x": {
          "bdata": "AAABAAIAAwAEAAUABgAHAAgACQAKAAsADAANAA4ADwAQABEAEgAWABcAGAAZABoAGwAcAB0AHgAfACAAIQAiACMAJAAmACcAKAApACoAKwAsAC0ALwA1ADYAOAA5AD4AQABBAEYASABJAEsATQBOAFIAUwBVAFYAVwBbAF4AXwBjAGQAaQBsAHUAdgB3AHkAegB+AH8AgQCDAIQAhgCHAIoAjQCSAJwAoQCiAKQApwCoAKsArACxALQAtQC2ALgAugC+AMEAwgDEAMUAxgDHAMkAygDLAM0AzwDSANQA1QDWANcA2gDbAN8A5QDmAOkA7ADtAO8A9AD6APwA/QD+AP8AAAEBAQIBAwEEAQUBBgEHAQgBCQEQARIBFQEYARoBGwEpASwBLgE9AUEBQwFIAUkBSgFPAVEBUwFXAV8BYAFhAW0BbgFwAXEBcgF0AXUBewGBAYUBiAGJAZABmAGeAaEBrgGwAbEBswG5AbwBvgHBAcMBzAHNAdQB3wHnAekB7AHyAfMB9QH3Af0BAAICAgQCBQIJAhUCFwIYAjICMwI0AjUCNgI3Ag==",
          "dtype": "i2"
         },
         "xaxis": "x10",
         "y": {
          "bdata": "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",
          "dtype": "f8"
         },
         "yaxis": "y10"
        },
        {
         "marker": {
          "color": "#33C1FF"
         },
         "mode": "markers",
         "name": "Benigno",
         "showlegend": false,
         "type": "scatter",
         "x": {
          "bdata": "EwAUABUAJQAuADAAMQAyADMANAA3ADoAOwA8AD0APwBCAEMARABFAEcASgBMAE8AUABRAFQAWABZAFoAXABdAGAAYQBiAGUAZgBnAGgAagBrAG0AbgBvAHAAcQByAHMAdAB4AHsAfAB9AIAAggCFAIgAiQCLAIwAjgCPAJAAkQCTAJQAlQCWAJcAmACZAJoAmwCdAJ4AnwCgAKMApQCmAKkAqgCtAK4ArwCwALIAswC3ALkAuwC8AL0AvwDAAMMAyADMAM4A0ADRANMA2ADZANwA3QDeAOAA4QDiAOMA5ADnAOgA6gDrAO4A8ADxAPIA8wD1APYA9wD4APkA+wAKAQsBDAENAQ4BDwERARMBFAEWARcBGQEcAR0BHgEfASABIQEiASMBJAElASYBJwEoASoBKwEtAS8BMAExATIBMwE0ATUBNgE3ATgBOQE6ATsBPAE+AT8BQAFCAUQBRQFGAUcBSwFMAU0BTgFQAVIBVAFVAVYBWAFZAVoBWwFcAV0BXgFiAWMBZAFlAWYBZwFoAWkBagFrAWwBbwFzAXYBdwF4AXkBegF8AX0BfgF/AYABggGDAYQBhgGHAYoBiwGMAY0BjgGPAZEBkgGTAZQBlQGWAZcBmQGaAZsBnAGdAZ8BoAGiAaMBpAGlAaYBpwGoAakBqgGrAawBrQGvAbIBtAG1AbYBtwG4AboBuwG9Ab8BwAHCAcQBxQHGAccByAHJAcoBywHOAc8B0AHRAdIB0wHVAdYB1wHYAdkB2gHbAdwB3QHeAeAB4QHiAeMB5AHlAeYB6AHqAesB7QHuAe8B8AHxAfQB9gH4AfkB+gH7AfwB/gH/AQECAwIGAgcCCAIKAgsCDAINAg4CDwIQAhECEgITAhQCFgIZAhoCGwIcAh0CHgIfAiACIQIiAiMCJAIlAiYCJwIoAikCKgIrAiwCLQIuAi8CMAIxAjgC",
          "dtype": "i2"
         },
         "xaxis": "x10",
         "y": {
          "bdata": "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",
          "dtype": "f8"
         },
         "yaxis": "y10"
        },
        {
         "marker": {
          "color": "#FF5733"
         },
         "mode": "markers",
         "name": "Maligno",
         "showlegend": false,
         "type": "scatter",
         "x": {
          "bdata": "AAABAAIAAwAEAAUABgAHAAgACQAKAAsADAANAA4ADwAQABEAEgAWABcAGAAZABoAGwAcAB0AHgAfACAAIQAiACMAJAAmACcAKAApACoAKwAsAC0ALwA1ADYAOAA5AD4AQABBAEYASABJAEsATQBOAFIAUwBVAFYAVwBbAF4AXwBjAGQAaQBsAHUAdgB3AHkAegB+AH8AgQCDAIQAhgCHAIoAjQCSAJwAoQCiAKQApwCoAKsArACxALQAtQC2ALgAugC+AMEAwgDEAMUAxgDHAMkAygDLAM0AzwDSANQA1QDWANcA2gDbAN8A5QDmAOkA7ADtAO8A9AD6APwA/QD+AP8AAAEBAQIBAwEEAQUBBgEHAQgBCQEQARIBFQEYARoBGwEpASwBLgE9AUEBQwFIAUkBSgFPAVEBUwFXAV8BYAFhAW0BbgFwAXEBcgF0AXUBewGBAYUBiAGJAZABmAGeAaEBrgGwAbEBswG5AbwBvgHBAcMBzAHNAdQB3wHnAekB7AHyAfMB9QH3Af0BAAICAgQCBQIJAhUCFwIYAjICMwI0AjUCNgI3Ag==",
          "dtype": "i2"
         },
         "xaxis": "x11",
         "y": {
          "bdata": "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",
          "dtype": "f8"
         },
         "yaxis": "y11"
        },
        {
         "marker": {
          "color": "#33C1FF"
         },
         "mode": "markers",
         "name": "Benigno",
         "showlegend": false,
         "type": "scatter",
         "x": {
          "bdata": "EwAUABUAJQAuADAAMQAyADMANAA3ADoAOwA8AD0APwBCAEMARABFAEcASgBMAE8AUABRAFQAWABZAFoAXABdAGAAYQBiAGUAZgBnAGgAagBrAG0AbgBvAHAAcQByAHMAdAB4AHsAfAB9AIAAggCFAIgAiQCLAIwAjgCPAJAAkQCTAJQAlQCWAJcAmACZAJoAmwCdAJ4AnwCgAKMApQCmAKkAqgCtAK4ArwCwALIAswC3ALkAuwC8AL0AvwDAAMMAyADMAM4A0ADRANMA2ADZANwA3QDeAOAA4QDiAOMA5ADnAOgA6gDrAO4A8ADxAPIA8wD1APYA9wD4APkA+wAKAQsBDAENAQ4BDwERARMBFAEWARcBGQEcAR0BHgEfASABIQEiASMBJAElASYBJwEoASoBKwEtAS8BMAExATIBMwE0ATUBNgE3ATgBOQE6ATsBPAE+AT8BQAFCAUQBRQFGAUcBSwFMAU0BTgFQAVIBVAFVAVYBWAFZAVoBWwFcAV0BXgFiAWMBZAFlAWYBZwFoAWkBagFrAWwBbwFzAXYBdwF4AXkBegF8AX0BfgF/AYABggGDAYQBhgGHAYoBiwGMAY0BjgGPAZEBkgGTAZQBlQGWAZcBmQGaAZsBnAGdAZ8BoAGiAaMBpAGlAaYBpwGoAakBqgGrAawBrQGvAbIBtAG1AbYBtwG4AboBuwG9Ab8BwAHCAcQBxQHGAccByAHJAcoBywHOAc8B0AHRAdIB0wHVAdYB1wHYAdkB2gHbAdwB3QHeAeAB4QHiAeMB5AHlAeYB6AHqAesB7QHuAe8B8AHxAfQB9gH4AfkB+gH7AfwB/gH/AQECAwIGAgcCCAIKAgsCDAINAg4CDwIQAhECEgITAhQCFgIZAhoCGwIcAh0CHgIfAiACIQIiAiMCJAIlAiYCJwIoAikCKgIrAiwCLQIuAi8CMAIxAjgC",
          "dtype": "i2"
         },
         "xaxis": "x11",
         "y": {
          "bdata": "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",
          "dtype": "f8"
         },
         "yaxis": "y11"
        },
        {
         "marker": {
          "color": "#FF5733"
         },
         "mode": "markers",
         "name": "Maligno",
         "showlegend": false,
         "type": "scatter",
         "x": {
          "bdata": "AAABAAIAAwAEAAUABgAHAAgACQAKAAsADAANAA4ADwAQABEAEgAWABcAGAAZABoAGwAcAB0AHgAfACAAIQAiACMAJAAmACcAKAApACoAKwAsAC0ALwA1ADYAOAA5AD4AQABBAEYASABJAEsATQBOAFIAUwBVAFYAVwBbAF4AXwBjAGQAaQBsAHUAdgB3AHkAegB+AH8AgQCDAIQAhgCHAIoAjQCSAJwAoQCiAKQApwCoAKsArACxALQAtQC2ALgAugC+AMEAwgDEAMUAxgDHAMkAygDLAM0AzwDSANQA1QDWANcA2gDbAN8A5QDmAOkA7ADtAO8A9AD6APwA/QD+AP8AAAEBAQIBAwEEAQUBBgEHAQgBCQEQARIBFQEYARoBGwEpASwBLgE9AUEBQwFIAUkBSgFPAVEBUwFXAV8BYAFhAW0BbgFwAXEBcgF0AXUBewGBAYUBiAGJAZABmAGeAaEBrgGwAbEBswG5AbwBvgHBAcMBzAHNAdQB3wHnAekB7AHyAfMB9QH3Af0BAAICAgQCBQIJAhUCFwIYAjICMwI0AjUCNgI3Ag==",
          "dtype": "i2"
         },
         "xaxis": "x12",
         "y": {
          "bdata": "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",
          "dtype": "f8"
         },
         "yaxis": "y12"
        },
        {
         "marker": {
          "color": "#33C1FF"
         },
         "mode": "markers",
         "name": "Benigno",
         "showlegend": false,
         "type": "scatter",
         "x": {
          "bdata": "EwAUABUAJQAuADAAMQAyADMANAA3ADoAOwA8AD0APwBCAEMARABFAEcASgBMAE8AUABRAFQAWABZAFoAXABdAGAAYQBiAGUAZgBnAGgAagBrAG0AbgBvAHAAcQByAHMAdAB4AHsAfAB9AIAAggCFAIgAiQCLAIwAjgCPAJAAkQCTAJQAlQCWAJcAmACZAJoAmwCdAJ4AnwCgAKMApQCmAKkAqgCtAK4ArwCwALIAswC3ALkAuwC8AL0AvwDAAMMAyADMAM4A0ADRANMA2ADZANwA3QDeAOAA4QDiAOMA5ADnAOgA6gDrAO4A8ADxAPIA8wD1APYA9wD4APkA+wAKAQsBDAENAQ4BDwERARMBFAEWARcBGQEcAR0BHgEfASABIQEiASMBJAElASYBJwEoASoBKwEtAS8BMAExATIBMwE0ATUBNgE3ATgBOQE6ATsBPAE+AT8BQAFCAUQBRQFGAUcBSwFMAU0BTgFQAVIBVAFVAVYBWAFZAVoBWwFcAV0BXgFiAWMBZAFlAWYBZwFoAWkBagFrAWwBbwFzAXYBdwF4AXkBegF8AX0BfgF/AYABggGDAYQBhgGHAYoBiwGMAY0BjgGPAZEBkgGTAZQBlQGWAZcBmQGaAZsBnAGdAZ8BoAGiAaMBpAGlAaYBpwGoAakBqgGrAawBrQGvAbIBtAG1AbYBtwG4AboBuwG9Ab8BwAHCAcQBxQHGAccByAHJAcoBywHOAc8B0AHRAdIB0wHVAdYB1wHYAdkB2gHbAdwB3QHeAeAB4QHiAeMB5AHlAeYB6AHqAesB7QHuAe8B8AHxAfQB9gH4AfkB+gH7AfwB/gH/AQECAwIGAgcCCAIKAgsCDAINAg4CDwIQAhECEgITAhQCFgIZAhoCGwIcAh0CHgIfAiACIQIiAiMCJAIlAiYCJwIoAikCKgIrAiwCLQIuAi8CMAIxAjgC",
          "dtype": "i2"
         },
         "xaxis": "x12",
         "y": {
          "bdata": "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",
          "dtype": "f8"
         },
         "yaxis": "y12"
        },
        {
         "marker": {
          "color": "#FF5733"
         },
         "mode": "markers",
         "name": "Maligno",
         "showlegend": false,
         "type": "scatter",
         "x": {
          "bdata": "AAABAAIAAwAEAAUABgAHAAgACQAKAAsADAANAA4ADwAQABEAEgAWABcAGAAZABoAGwAcAB0AHgAfACAAIQAiACMAJAAmACcAKAApACoAKwAsAC0ALwA1ADYAOAA5AD4AQABBAEYASABJAEsATQBOAFIAUwBVAFYAVwBbAF4AXwBjAGQAaQBsAHUAdgB3AHkAegB+AH8AgQCDAIQAhgCHAIoAjQCSAJwAoQCiAKQApwCoAKsArACxALQAtQC2ALgAugC+AMEAwgDEAMUAxgDHAMkAygDLAM0AzwDSANQA1QDWANcA2gDbAN8A5QDmAOkA7ADtAO8A9AD6APwA/QD+AP8AAAEBAQIBAwEEAQUBBgEHAQgBCQEQARIBFQEYARoBGwEpASwBLgE9AUEBQwFIAUkBSgFPAVEBUwFXAV8BYAFhAW0BbgFwAXEBcgF0AXUBewGBAYUBiAGJAZABmAGeAaEBrgGwAbEBswG5AbwBvgHBAcMBzAHNAdQB3wHnAekB7AHyAfMB9QH3Af0BAAICAgQCBQIJAhUCFwIYAjICMwI0AjUCNgI3Ag==",
          "dtype": "i2"
         },
         "xaxis": "x13",
         "y": {
          "bdata": "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",
          "dtype": "f8"
         },
         "yaxis": "y13"
        },
        {
         "marker": {
          "color": "#33C1FF"
         },
         "mode": "markers",
         "name": "Benigno",
         "showlegend": false,
         "type": "scatter",
         "x": {
          "bdata": "EwAUABUAJQAuADAAMQAyADMANAA3ADoAOwA8AD0APwBCAEMARABFAEcASgBMAE8AUABRAFQAWABZAFoAXABdAGAAYQBiAGUAZgBnAGgAagBrAG0AbgBvAHAAcQByAHMAdAB4AHsAfAB9AIAAggCFAIgAiQCLAIwAjgCPAJAAkQCTAJQAlQCWAJcAmACZAJoAmwCdAJ4AnwCgAKMApQCmAKkAqgCtAK4ArwCwALIAswC3ALkAuwC8AL0AvwDAAMMAyADMAM4A0ADRANMA2ADZANwA3QDeAOAA4QDiAOMA5ADnAOgA6gDrAO4A8ADxAPIA8wD1APYA9wD4APkA+wAKAQsBDAENAQ4BDwERARMBFAEWARcBGQEcAR0BHgEfASABIQEiASMBJAElASYBJwEoASoBKwEtAS8BMAExATIBMwE0ATUBNgE3ATgBOQE6ATsBPAE+AT8BQAFCAUQBRQFGAUcBSwFMAU0BTgFQAVIBVAFVAVYBWAFZAVoBWwFcAV0BXgFiAWMBZAFlAWYBZwFoAWkBagFrAWwBbwFzAXYBdwF4AXkBegF8AX0BfgF/AYABggGDAYQBhgGHAYoBiwGMAY0BjgGPAZEBkgGTAZQBlQGWAZcBmQGaAZsBnAGdAZ8BoAGiAaMBpAGlAaYBpwGoAakBqgGrAawBrQGvAbIBtAG1AbYBtwG4AboBuwG9Ab8BwAHCAcQBxQHGAccByAHJAcoBywHOAc8B0AHRAdIB0wHVAdYB1wHYAdkB2gHbAdwB3QHeAeAB4QHiAeMB5AHlAeYB6AHqAesB7QHuAe8B8AHxAfQB9gH4AfkB+gH7AfwB/gH/AQECAwIGAgcCCAIKAgsCDAINAg4CDwIQAhECEgITAhQCFgIZAhoCGwIcAh0CHgIfAiACIQIiAiMCJAIlAiYCJwIoAikCKgIrAiwCLQIuAi8CMAIxAjgC",
          "dtype": "i2"
         },
         "xaxis": "x13",
         "y": {
          "bdata": "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",
          "dtype": "f8"
         },
         "yaxis": "y13"
        },
        {
         "marker": {
          "color": "#FF5733"
         },
         "mode": "markers",
         "name": "Maligno",
         "showlegend": false,
         "type": "scatter",
         "x": {
          "bdata": "AAABAAIAAwAEAAUABgAHAAgACQAKAAsADAANAA4ADwAQABEAEgAWABcAGAAZABoAGwAcAB0AHgAfACAAIQAiACMAJAAmACcAKAApACoAKwAsAC0ALwA1ADYAOAA5AD4AQABBAEYASABJAEsATQBOAFIAUwBVAFYAVwBbAF4AXwBjAGQAaQBsAHUAdgB3AHkAegB+AH8AgQCDAIQAhgCHAIoAjQCSAJwAoQCiAKQApwCoAKsArACxALQAtQC2ALgAugC+AMEAwgDEAMUAxgDHAMkAygDLAM0AzwDSANQA1QDWANcA2gDbAN8A5QDmAOkA7ADtAO8A9AD6APwA/QD+AP8AAAEBAQIBAwEEAQUBBgEHAQgBCQEQARIBFQEYARoBGwEpASwBLgE9AUEBQwFIAUkBSgFPAVEBUwFXAV8BYAFhAW0BbgFwAXEBcgF0AXUBewGBAYUBiAGJAZABmAGeAaEBrgGwAbEBswG5AbwBvgHBAcMBzAHNAdQB3wHnAekB7AHyAfMB9QH3Af0BAAICAgQCBQIJAhUCFwIYAjICMwI0AjUCNgI3Ag==",
          "dtype": "i2"
         },
         "xaxis": "x14",
         "y": {
          "bdata": "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",
          "dtype": "f8"
         },
         "yaxis": "y14"
        },
        {
         "marker": {
          "color": "#33C1FF"
         },
         "mode": "markers",
         "name": "Benigno",
         "showlegend": false,
         "type": "scatter",
         "x": {
          "bdata": "EwAUABUAJQAuADAAMQAyADMANAA3ADoAOwA8AD0APwBCAEMARABFAEcASgBMAE8AUABRAFQAWABZAFoAXABdAGAAYQBiAGUAZgBnAGgAagBrAG0AbgBvAHAAcQByAHMAdAB4AHsAfAB9AIAAggCFAIgAiQCLAIwAjgCPAJAAkQCTAJQAlQCWAJcAmACZAJoAmwCdAJ4AnwCgAKMApQCmAKkAqgCtAK4ArwCwALIAswC3ALkAuwC8AL0AvwDAAMMAyADMAM4A0ADRANMA2ADZANwA3QDeAOAA4QDiAOMA5ADnAOgA6gDrAO4A8ADxAPIA8wD1APYA9wD4APkA+wAKAQsBDAENAQ4BDwERARMBFAEWARcBGQEcAR0BHgEfASABIQEiASMBJAElASYBJwEoASoBKwEtAS8BMAExATIBMwE0ATUBNgE3ATgBOQE6ATsBPAE+AT8BQAFCAUQBRQFGAUcBSwFMAU0BTgFQAVIBVAFVAVYBWAFZAVoBWwFcAV0BXgFiAWMBZAFlAWYBZwFoAWkBagFrAWwBbwFzAXYBdwF4AXkBegF8AX0BfgF/AYABggGDAYQBhgGHAYoBiwGMAY0BjgGPAZEBkgGTAZQBlQGWAZcBmQGaAZsBnAGdAZ8BoAGiAaMBpAGlAaYBpwGoAakBqgGrAawBrQGvAbIBtAG1AbYBtwG4AboBuwG9Ab8BwAHCAcQBxQHGAccByAHJAcoBywHOAc8B0AHRAdIB0wHVAdYB1wHYAdkB2gHbAdwB3QHeAeAB4QHiAeMB5AHlAeYB6AHqAesB7QHuAe8B8AHxAfQB9gH4AfkB+gH7AfwB/gH/AQECAwIGAgcCCAIKAgsCDAINAg4CDwIQAhECEgITAhQCFgIZAhoCGwIcAh0CHgIfAiACIQIiAiMCJAIlAiYCJwIoAikCKgIrAiwCLQIuAi8CMAIxAjgC",
          "dtype": "i2"
         },
         "xaxis": "x14",
         "y": {
          "bdata": "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",
          "dtype": "f8"
         },
         "yaxis": "y14"
        },
        {
         "marker": {
          "color": "#FF5733"
         },
         "mode": "markers",
         "name": "Maligno",
         "showlegend": false,
         "type": "scatter",
         "x": {
          "bdata": "AAABAAIAAwAEAAUABgAHAAgACQAKAAsADAANAA4ADwAQABEAEgAWABcAGAAZABoAGwAcAB0AHgAfACAAIQAiACMAJAAmACcAKAApACoAKwAsAC0ALwA1ADYAOAA5AD4AQABBAEYASABJAEsATQBOAFIAUwBVAFYAVwBbAF4AXwBjAGQAaQBsAHUAdgB3AHkAegB+AH8AgQCDAIQAhgCHAIoAjQCSAJwAoQCiAKQApwCoAKsArACxALQAtQC2ALgAugC+AMEAwgDEAMUAxgDHAMkAygDLAM0AzwDSANQA1QDWANcA2gDbAN8A5QDmAOkA7ADtAO8A9AD6APwA/QD+AP8AAAEBAQIBAwEEAQUBBgEHAQgBCQEQARIBFQEYARoBGwEpASwBLgE9AUEBQwFIAUkBSgFPAVEBUwFXAV8BYAFhAW0BbgFwAXEBcgF0AXUBewGBAYUBiAGJAZABmAGeAaEBrgGwAbEBswG5AbwBvgHBAcMBzAHNAdQB3wHnAekB7AHyAfMB9QH3Af0BAAICAgQCBQIJAhUCFwIYAjICMwI0AjUCNgI3Ag==",
          "dtype": "i2"
         },
         "xaxis": "x15",
         "y": {
          "bdata": "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",
          "dtype": "f8"
         },
         "yaxis": "y15"
        },
        {
         "marker": {
          "color": "#33C1FF"
         },
         "mode": "markers",
         "name": "Benigno",
         "showlegend": false,
         "type": "scatter",
         "x": {
          "bdata": "EwAUABUAJQAuADAAMQAyADMANAA3ADoAOwA8AD0APwBCAEMARABFAEcASgBMAE8AUABRAFQAWABZAFoAXABdAGAAYQBiAGUAZgBnAGgAagBrAG0AbgBvAHAAcQByAHMAdAB4AHsAfAB9AIAAggCFAIgAiQCLAIwAjgCPAJAAkQCTAJQAlQCWAJcAmACZAJoAmwCdAJ4AnwCgAKMApQCmAKkAqgCtAK4ArwCwALIAswC3ALkAuwC8AL0AvwDAAMMAyADMAM4A0ADRANMA2ADZANwA3QDeAOAA4QDiAOMA5ADnAOgA6gDrAO4A8ADxAPIA8wD1APYA9wD4APkA+wAKAQsBDAENAQ4BDwERARMBFAEWARcBGQEcAR0BHgEfASABIQEiASMBJAElASYBJwEoASoBKwEtAS8BMAExATIBMwE0ATUBNgE3ATgBOQE6ATsBPAE+AT8BQAFCAUQBRQFGAUcBSwFMAU0BTgFQAVIBVAFVAVYBWAFZAVoBWwFcAV0BXgFiAWMBZAFlAWYBZwFoAWkBagFrAWwBbwFzAXYBdwF4AXkBegF8AX0BfgF/AYABggGDAYQBhgGHAYoBiwGMAY0BjgGPAZEBkgGTAZQBlQGWAZcBmQGaAZsBnAGdAZ8BoAGiAaMBpAGlAaYBpwGoAakBqgGrAawBrQGvAbIBtAG1AbYBtwG4AboBuwG9Ab8BwAHCAcQBxQHGAccByAHJAcoBywHOAc8B0AHRAdIB0wHVAdYB1wHYAdkB2gHbAdwB3QHeAeAB4QHiAeMB5AHlAeYB6AHqAesB7QHuAe8B8AHxAfQB9gH4AfkB+gH7AfwB/gH/AQECAwIGAgcCCAIKAgsCDAINAg4CDwIQAhECEgITAhQCFgIZAhoCGwIcAh0CHgIfAiACIQIiAiMCJAIlAiYCJwIoAikCKgIrAiwCLQIuAi8CMAIxAjgC",
          "dtype": "i2"
         },
         "xaxis": "x15",
         "y": {
          "bdata": "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",
          "dtype": "f8"
         },
         "yaxis": "y15"
        },
        {
         "marker": {
          "color": "#FF5733"
         },
         "mode": "markers",
         "name": "Maligno",
         "showlegend": false,
         "type": "scatter",
         "x": {
          "bdata": "AAABAAIAAwAEAAUABgAHAAgACQAKAAsADAANAA4ADwAQABEAEgAWABcAGAAZABoAGwAcAB0AHgAfACAAIQAiACMAJAAmACcAKAApACoAKwAsAC0ALwA1ADYAOAA5AD4AQABBAEYASABJAEsATQBOAFIAUwBVAFYAVwBbAF4AXwBjAGQAaQBsAHUAdgB3AHkAegB+AH8AgQCDAIQAhgCHAIoAjQCSAJwAoQCiAKQApwCoAKsArACxALQAtQC2ALgAugC+AMEAwgDEAMUAxgDHAMkAygDLAM0AzwDSANQA1QDWANcA2gDbAN8A5QDmAOkA7ADtAO8A9AD6APwA/QD+AP8AAAEBAQIBAwEEAQUBBgEHAQgBCQEQARIBFQEYARoBGwEpASwBLgE9AUEBQwFIAUkBSgFPAVEBUwFXAV8BYAFhAW0BbgFwAXEBcgF0AXUBewGBAYUBiAGJAZABmAGeAaEBrgGwAbEBswG5AbwBvgHBAcMBzAHNAdQB3wHnAekB7AHyAfMB9QH3Af0BAAICAgQCBQIJAhUCFwIYAjICMwI0AjUCNgI3Ag==",
          "dtype": "i2"
         },
         "xaxis": "x16",
         "y": {
          "bdata": "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",
          "dtype": "f8"
         },
         "yaxis": "y16"
        },
        {
         "marker": {
          "color": "#33C1FF"
         },
         "mode": "markers",
         "name": "Benigno",
         "showlegend": false,
         "type": "scatter",
         "x": {
          "bdata": "EwAUABUAJQAuADAAMQAyADMANAA3ADoAOwA8AD0APwBCAEMARABFAEcASgBMAE8AUABRAFQAWABZAFoAXABdAGAAYQBiAGUAZgBnAGgAagBrAG0AbgBvAHAAcQByAHMAdAB4AHsAfAB9AIAAggCFAIgAiQCLAIwAjgCPAJAAkQCTAJQAlQCWAJcAmACZAJoAmwCdAJ4AnwCgAKMApQCmAKkAqgCtAK4ArwCwALIAswC3ALkAuwC8AL0AvwDAAMMAyADMAM4A0ADRANMA2ADZANwA3QDeAOAA4QDiAOMA5ADnAOgA6gDrAO4A8ADxAPIA8wD1APYA9wD4APkA+wAKAQsBDAENAQ4BDwERARMBFAEWARcBGQEcAR0BHgEfASABIQEiASMBJAElASYBJwEoASoBKwEtAS8BMAExATIBMwE0ATUBNgE3ATgBOQE6ATsBPAE+AT8BQAFCAUQBRQFGAUcBSwFMAU0BTgFQAVIBVAFVAVYBWAFZAVoBWwFcAV0BXgFiAWMBZAFlAWYBZwFoAWkBagFrAWwBbwFzAXYBdwF4AXkBegF8AX0BfgF/AYABggGDAYQBhgGHAYoBiwGMAY0BjgGPAZEBkgGTAZQBlQGWAZcBmQGaAZsBnAGdAZ8BoAGiAaMBpAGlAaYBpwGoAakBqgGrAawBrQGvAbIBtAG1AbYBtwG4AboBuwG9Ab8BwAHCAcQBxQHGAccByAHJAcoBywHOAc8B0AHRAdIB0wHVAdYB1wHYAdkB2gHbAdwB3QHeAeAB4QHiAeMB5AHlAeYB6AHqAesB7QHuAe8B8AHxAfQB9gH4AfkB+gH7AfwB/gH/AQECAwIGAgcCCAIKAgsCDAINAg4CDwIQAhECEgITAhQCFgIZAhoCGwIcAh0CHgIfAiACIQIiAiMCJAIlAiYCJwIoAikCKgIrAiwCLQIuAi8CMAIxAjgC",
          "dtype": "i2"
         },
         "xaxis": "x16",
         "y": {
          "bdata": "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",
          "dtype": "f8"
         },
         "yaxis": "y16"
        },
        {
         "marker": {
          "color": "#FF5733"
         },
         "mode": "markers",
         "name": "Maligno",
         "showlegend": false,
         "type": "scatter",
         "x": {
          "bdata": "AAABAAIAAwAEAAUABgAHAAgACQAKAAsADAANAA4ADwAQABEAEgAWABcAGAAZABoAGwAcAB0AHgAfACAAIQAiACMAJAAmACcAKAApACoAKwAsAC0ALwA1ADYAOAA5AD4AQABBAEYASABJAEsATQBOAFIAUwBVAFYAVwBbAF4AXwBjAGQAaQBsAHUAdgB3AHkAegB+AH8AgQCDAIQAhgCHAIoAjQCSAJwAoQCiAKQApwCoAKsArACxALQAtQC2ALgAugC+AMEAwgDEAMUAxgDHAMkAygDLAM0AzwDSANQA1QDWANcA2gDbAN8A5QDmAOkA7ADtAO8A9AD6APwA/QD+AP8AAAEBAQIBAwEEAQUBBgEHAQgBCQEQARIBFQEYARoBGwEpASwBLgE9AUEBQwFIAUkBSgFPAVEBUwFXAV8BYAFhAW0BbgFwAXEBcgF0AXUBewGBAYUBiAGJAZABmAGeAaEBrgGwAbEBswG5AbwBvgHBAcMBzAHNAdQB3wHnAekB7AHyAfMB9QH3Af0BAAICAgQCBQIJAhUCFwIYAjICMwI0AjUCNgI3Ag==",
          "dtype": "i2"
         },
         "xaxis": "x17",
         "y": {
          "bdata": "GM+goX+Cqz/OiNLe4AuTP63AkNWtnqM/ecxAZfz7rD86zJcXYB+tP5TeN772zKI/v0hoy7kUlz98REyJJHqZPzfDDfj8MKI/GLK61XPSsz+Vgm4vaYyGP6Pp7GRwlJw/UkmdgCbCtj947j1cctypP2Dq501FKqw/Z7gBnx9GqD+h20sao3WUP23/ykqTUqA/scQDyqZcoT/jcOZXc4CwPwBvgQTFj5E/U1xV9l0RnD9dM/lmmxujP8Cy0qQUdJs/3ZiesMQDqj8eigJ9Ik+iPxqojH+fcaE/X3tmSYCaqj8r9pfdk4elP43uIHam0Kk/SKeufJbnoT+Bzw8jhEebP3qlLEMc66I/LNSa5h2nqD/o3sMlx52SP5uPa0PFOJ8/8rBQa5p3jD8YJlMFo5KaPxWpMLYQ5Lg/Vp+rrdhflj/NdRppqbyNP6tbPSe9b6w/OpLLf0i/nT+4zOmymNicP0P/BBcrapA/RwN4CyQonj9KmGn7V1aaPyhEwCFUqbE/Nh/Xhopxnj+/DpwzorSXPyPzyB8MPJc/MBLaci7FpT/CUfLqHAOSP+xRuB6F66E/t5xLcVXZpz+SXP5D+u27Py0hH/RsVq0/mfViKCfalT8IlE25wrucP6uy74rgf6s/rfpcbcX+oj+mD11Q3zKnP0G3lzRG66g/7fXuj/eqpT/G4cyv5gChP0LsTKHzGps/aFw4EJIFrD85tMh2vp+6P2lXIeUn1Z4/EFg5tMh2rj+EZAETuHWXPz+MEB5tHKE/6+I2GsBbwD+HbYsyG2SSPwFNhA1Pr6Q/Y3/ZPXlYqD8DWyVYHM6cP9RlMbH5uJY/6gQ0ETY8nT/+8V61MuGXP9jTDn9N1rA/R4/f2/Rnnz/LnC6Lic2nP4EJ3Lqbp6o/yy2thsQ9pj+pMLYQ5KCkP9laXyS05Zw/TpfFxObjmj+71XPS+8anP9jYJaq3BpY/Dmd+NQcIpj+rsu+K4H+rPy457pQO1p8/M/lmmxvToz/f+NozSwKUPyb8Uj9vKpI/tJPBUfLqjD99rrZif9m9P/hrskY9RKM/B7Ezhc5rrD80gLdAguKnPyo6kst/SK8/aHke3J21mz97FK5H4XqUP2RA9nr3x5s/kSxgArfutj91jgHZ692fPxppqbwd4ZQ/dxVSflLtkz/RP8HFihqsP9CbilQYW7A/KxiV1Alowj/9wcBz7+GiPxaHM7+aA6Q/aVIKur2koT+Bzw8jhEebPyi4WFGDaZg/CoDxDBr6pz8qOpLLf0ifP8Fu2LYos6E/Zyyazk4Gpz9A2ZQrvMulPxTtKqT8pJo/XdxGA3gLpD89uDtrt124P5zEILByaLE//vFetTLhlz+8P96rViacP3FV2XdF8J8/SPlJtU/Hoz/6J7hYUYOpPzSFzmvsErU/aMu5FFeVnT9aEqCmlq2VPzG2EOSghIk/c4Bgjh6/pz+aJQFqatmKP/Fo44i1+JQ/b/Wc9L7xlT9r8SkAxjOwP1wbKsb5m5A/B0KygAncmj/saYe/JmukP96rVib8Up8/M/lmmxvToz9bfAqA8QyKP5IFTODW3aw/FJZ4QNmUsz9jYvNxbaiYP2iz6nO1FZs/2ht8YTJVoD83VIzzN6GgP2iu00hL5a0/vsEXJlMFoz9381SH3AynPydO7ncoCqQ/Zd8Vwf9Woj8CvAUSFD+mP5eL+E7Merk/K9mxEYjXpT/YtiizQSapP1K4HoXrUZg/Q8pPqn06rj9mvRjKiXaVPx6KAn0iT6I/ER5tHLEWrz9+Uu3T8ZihP8Cy0qQUdJs/y7kUV5V9pz9EqFKzB1qhP+aWVkPiHrM/ogvqW+Z0qT+A8Qwa+ieoP+PHmLuWkK8/cJnTZTGxmT/pYP2fw3yZP4zzN6EQAac/mIbhI2JKtD/36XjMQGWsPwPso1NXPqs/Vp+rrdhflj89YYkHlE2pPxBYObTIdp4/6MHdWbvtoj/KVMGopE6gP8jvbfqzH6k/zSN/MPDcmz9XW7G/7J60P1a3ek5637A/5gXYR6eutD8KSzygbMqlPxQF+kSeJI0/bvqzHykioz8wuycPC7WmP7KFIAclzKQ/zvxqDhDMoT9dv2A3bFukP8WsF0M50a4/sacd/pqsoT+ndLD+z2GeP6N1VDVB1J0/4uR+h6JAnz8Nw0fElEiiP02+2ebG9KQ/jNtoAG+BpD/xY8xdS8inPy0JUFPL1rI/9wZfmEwVtD/MlxdgH52qP9NNYhBYOaQ/D5wzorQ3qD9j0XR2MjiyPw==",
          "dtype": "f8"
         },
         "yaxis": "y17"
        },
        {
         "marker": {
          "color": "#33C1FF"
         },
         "mode": "markers",
         "name": "Benigno",
         "showlegend": false,
         "type": "scatter",
         "x": {
          "bdata": "EwAUABUAJQAuADAAMQAyADMANAA3ADoAOwA8AD0APwBCAEMARABFAEcASgBMAE8AUABRAFQAWABZAFoAXABdAGAAYQBiAGUAZgBnAGgAagBrAG0AbgBvAHAAcQByAHMAdAB4AHsAfAB9AIAAggCFAIgAiQCLAIwAjgCPAJAAkQCTAJQAlQCWAJcAmACZAJoAmwCdAJ4AnwCgAKMApQCmAKkAqgCtAK4ArwCwALIAswC3ALkAuwC8AL0AvwDAAMMAyADMAM4A0ADRANMA2ADZANwA3QDeAOAA4QDiAOMA5ADnAOgA6gDrAO4A8ADxAPIA8wD1APYA9wD4APkA+wAKAQsBDAENAQ4BDwERARMBFAEWARcBGQEcAR0BHgEfASABIQEiASMBJAElASYBJwEoASoBKwEtAS8BMAExATIBMwE0ATUBNgE3ATgBOQE6ATsBPAE+AT8BQAFCAUQBRQFGAUcBSwFMAU0BTgFQAVIBVAFVAVYBWAFZAVoBWwFcAV0BXgFiAWMBZAFlAWYBZwFoAWkBagFrAWwBbwFzAXYBdwF4AXkBegF8AX0BfgF/AYABggGDAYQBhgGHAYoBiwGMAY0BjgGPAZEBkgGTAZQBlQGWAZcBmQGaAZsBnAGdAZ8BoAGiAaMBpAGlAaYBpwGoAakBqgGrAawBrQGvAbIBtAG1AbYBtwG4AboBuwG9Ab8BwAHCAcQBxQHGAccByAHJAcoBywHOAc8B0AHRAdIB0wHVAdYB1wHYAdkB2gHbAdwB3QHeAeAB4QHiAeMB5AHlAeYB6AHqAesB7QHuAe8B8AHxAfQB9gH4AfkB+gH7AfwB/gH/AQECAwIGAgcCCAIKAgsCDAINAg4CDwIQAhECEgITAhQCFgIZAhoCGwIcAh0CHgIfAiACIQIiAiMCJAIlAiYCJwIoAikCKgIrAiwCLQIuAi8CMAIxAjgC",
          "dtype": "i2"
         },
         "xaxis": "x17",
         "y": {
          "bdata": "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",
          "dtype": "f8"
         },
         "yaxis": "y17"
        },
        {
         "marker": {
          "color": "#FF5733"
         },
         "mode": "markers",
         "name": "Maligno",
         "showlegend": false,
         "type": "scatter",
         "x": {
          "bdata": "AAABAAIAAwAEAAUABgAHAAgACQAKAAsADAANAA4ADwAQABEAEgAWABcAGAAZABoAGwAcAB0AHgAfACAAIQAiACMAJAAmACcAKAApACoAKwAsAC0ALwA1ADYAOAA5AD4AQABBAEYASABJAEsATQBOAFIAUwBVAFYAVwBbAF4AXwBjAGQAaQBsAHUAdgB3AHkAegB+AH8AgQCDAIQAhgCHAIoAjQCSAJwAoQCiAKQApwCoAKsArACxALQAtQC2ALgAugC+AMEAwgDEAMUAxgDHAMkAygDLAM0AzwDSANQA1QDWANcA2gDbAN8A5QDmAOkA7ADtAO8A9AD6APwA/QD+AP8AAAEBAQIBAwEEAQUBBgEHAQgBCQEQARIBFQEYARoBGwEpASwBLgE9AUEBQwFIAUkBSgFPAVEBUwFXAV8BYAFhAW0BbgFwAXEBcgF0AXUBewGBAYUBiAGJAZABmAGeAaEBrgGwAbEBswG5AbwBvgHBAcMBzAHNAdQB3wHnAekB7AHyAfMB9QH3Af0BAAICAgQCBQIJAhUCFwIYAjICMwI0AjUCNgI3Ag==",
          "dtype": "i2"
         },
         "xaxis": "x18",
         "y": {
          "bdata": "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",
          "dtype": "f8"
         },
         "yaxis": "y18"
        },
        {
         "marker": {
          "color": "#33C1FF"
         },
         "mode": "markers",
         "name": "Benigno",
         "showlegend": false,
         "type": "scatter",
         "x": {
          "bdata": "EwAUABUAJQAuADAAMQAyADMANAA3ADoAOwA8AD0APwBCAEMARABFAEcASgBMAE8AUABRAFQAWABZAFoAXABdAGAAYQBiAGUAZgBnAGgAagBrAG0AbgBvAHAAcQByAHMAdAB4AHsAfAB9AIAAggCFAIgAiQCLAIwAjgCPAJAAkQCTAJQAlQCWAJcAmACZAJoAmwCdAJ4AnwCgAKMApQCmAKkAqgCtAK4ArwCwALIAswC3ALkAuwC8AL0AvwDAAMMAyADMAM4A0ADRANMA2ADZANwA3QDeAOAA4QDiAOMA5ADnAOgA6gDrAO4A8ADxAPIA8wD1APYA9wD4APkA+wAKAQsBDAENAQ4BDwERARMBFAEWARcBGQEcAR0BHgEfASABIQEiASMBJAElASYBJwEoASoBKwEtAS8BMAExATIBMwE0ATUBNgE3ATgBOQE6ATsBPAE+AT8BQAFCAUQBRQFGAUcBSwFMAU0BTgFQAVIBVAFVAVYBWAFZAVoBWwFcAV0BXgFiAWMBZAFlAWYBZwFoAWkBagFrAWwBbwFzAXYBdwF4AXkBegF8AX0BfgF/AYABggGDAYQBhgGHAYoBiwGMAY0BjgGPAZEBkgGTAZQBlQGWAZcBmQGaAZsBnAGdAZ8BoAGiAaMBpAGlAaYBpwGoAakBqgGrAawBrQGvAbIBtAG1AbYBtwG4AboBuwG9Ab8BwAHCAcQBxQHGAccByAHJAcoBywHOAc8B0AHRAdIB0wHVAdYB1wHYAdkB2gHbAdwB3QHeAeAB4QHiAeMB5AHlAeYB6AHqAesB7QHuAe8B8AHxAfQB9gH4AfkB+gH7AfwB/gH/AQECAwIGAgcCCAIKAgsCDAINAg4CDwIQAhECEgITAhQCFgIZAhoCGwIcAh0CHgIfAiACIQIiAiMCJAIlAiYCJwIoAikCKgIrAiwCLQIuAi8CMAIxAjgC",
          "dtype": "i2"
         },
         "xaxis": "x18",
         "y": {
          "bdata": "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",
          "dtype": "f8"
         },
         "yaxis": "y18"
        },
        {
         "marker": {
          "color": "#FF5733"
         },
         "mode": "markers",
         "name": "Maligno",
         "showlegend": false,
         "type": "scatter",
         "x": {
          "bdata": "AAABAAIAAwAEAAUABgAHAAgACQAKAAsADAANAA4ADwAQABEAEgAWABcAGAAZABoAGwAcAB0AHgAfACAAIQAiACMAJAAmACcAKAApACoAKwAsAC0ALwA1ADYAOAA5AD4AQABBAEYASABJAEsATQBOAFIAUwBVAFYAVwBbAF4AXwBjAGQAaQBsAHUAdgB3AHkAegB+AH8AgQCDAIQAhgCHAIoAjQCSAJwAoQCiAKQApwCoAKsArACxALQAtQC2ALgAugC+AMEAwgDEAMUAxgDHAMkAygDLAM0AzwDSANQA1QDWANcA2gDbAN8A5QDmAOkA7ADtAO8A9AD6APwA/QD+AP8AAAEBAQIBAwEEAQUBBgEHAQgBCQEQARIBFQEYARoBGwEpASwBLgE9AUEBQwFIAUkBSgFPAVEBUwFXAV8BYAFhAW0BbgFwAXEBcgF0AXUBewGBAYUBiAGJAZABmAGeAaEBrgGwAbEBswG5AbwBvgHBAcMBzAHNAdQB3wHnAekB7AHyAfMB9QH3Af0BAAICAgQCBQIJAhUCFwIYAjICMwI0AjUCNgI3Ag==",
          "dtype": "i2"
         },
         "xaxis": "x19",
         "y": {
          "bdata": "AHSYLy/Anj8YeO49XHKMPwrXo3A9Cpc/1pC4x9KHrj96/N6mP/uRP89m1edqK5Y/DAdCsoAJjD/JAiZw626OP2/1nPS+8ZU/i6azk8FRkj+fPCzUmuaNP+T3Nv3Zj5Q/ofMau0T1pj+fAmA8g4aeP9u/stKkFJQ/hzO/mgMEkz//If32deCMP+uLhLacS5E/9iNFZFjFiz+U3je+9syiPzyDhv4JLoY/cQM+P4wQjj/DR8SUSKKXP4Ln3sMlx40/Xp1jQPZ6lz+YUSy3tBqSP4PAyqFFtpM/d9uF5jqNlD/YZI16iEaXP/VnP1JEhpU/YKsEi8OZjz/jGTT0T3CRP8mwijcyj5w/ajANw0fElD8gC9EhcCSAP93NUx1yM4w/bHh6pSxDjD/RXKeRlsqLP5KWytsRTqs/teBFX0GakT/PLAlQU8uGP+mayTfb3Jg/8IrgfyvZkT/E6/oFu2GbP3ctIR/0bIY/ZaVJKej2kj96whIPKJuSP5zEILByaJE/54wo7Q2+kD/b+X5qvHSTP4rNx7WhYow/vR3htOBFjz8H8BZIUPyIP1g5tMh2vo8/Y7SOqiaImj9L6gQ0ETa0P+SDns2qz4U/l1ZD4h5Lnz8wKqkT0ESYP6Z+3lSkwpg/IxXGFoIclD89YYkHlE2ZPwStwJDVrY4/hQg4hCo1mz9TrvAuF/GNP+JYF7fRAI4/yY6NQLyujz91jgHZ692fP9biUwCMZ5A/dQKaCBuejj+VYHE486upP6kT0ETY8JQ/DvPlBdhHpz/Vz5uKVBiLP0Rpb/CFyZQ/mzi536EokD/qPgCpTZyMP4/k8h/Sb48/5ldzgGCOjj8E4nX9gt2QP2fttgvNdao/MzMzMzMzkz9wd9Zuu9CsP9ttF5rrNJI/mzi536EooD+kNnFyv0ORP7oxPWGJB5Q/RS+jWG5plT8XSFD8GHOHP8WPMXctIY8/0vvG155Zkj/wxKwXQzmRP1TjpZvEIJA/YabtX1lpkj/Jjo1AvK6PPxtHrMWnAIg/TWcng6PkhT+vX7Abti2qP3uIRncQO5M/yJi7lpAPmj8plltaDYmbPyegibDh6ZU/Qj7o2az6jD95AfbRqSuPP23/ykqTUpA/EoPAyqFFlj+h20sao3WUP1Q6WP/nMI8/y7kUV5V9lz/eVKTC2EKgP1oNiXssfag/EoPAyqFFlj/USEvl7QinP3tOet/42pM/lKRrJt9skz+Bzw8jhEeLP0zD8BExJZI/FYxK6gQ0kT9eY5eo3hqIP4VCBBxClYo/uY0G8BZIkD8tz4O7s3aLPyRFZFjFG4k/w7tcxHdilj9nmxvTE5aYP5fK2xFOC44/W5TZIJOMjD+jI7n8h/SLP+j2ksZoHZU/M/lmmxvTkz8JM23/ykqTPx+A1CZO7pc/KeeLvRdfhD/htOBFX0GKP9laXyS05Yw/4gZ8fhghnD+Q96qVCb+EPz0P7s7abYc/V5V9VwT/iz8WpBmLprOTP6shcY+lD40/pU5AE2HDkz9Pr5RliGONP8o329yYnpA/Pj+MEB5tjD9U46WbxCCQPwkzbf/KSpM/Mc7fhEIEnD/pJjEIrByKP7+CNGPRdJY/1VsDWyVYnD9pHVVNEHWPPytNSkG3l6Q/l8rbEU4Ljj+YF2AfnbqSPxe86CtIM5Y/0XR2MjhKjj97iEZ3EDujP1M/bypSYaw/RUdy+Q/plz+hZ7Pqc7WVP9Xnaiv2l40/rfpcbcX+oj+vfJbnwd2JPxEebRyxFo8/WP/nMF9eoD/0/dR46SaRP8RfkzXqIYo/zvxqDhDMkT+oNc07TtGRP9VbA1slWJw/ZaVJKej2kj+pE9BE2PCUPyaqtwa2SpA/aAWGrG71jD+Lcf4mFCKgPycUIuAQqpQ/3uUivhOzjj+3KLNBJhmZP7ubpzrkZpg/lZo90AoMiT9t/8pKk1KQP/aX3ZOHhYo/hbacS3FViT80hc5r7BKFP3Y3T3XIzZA/qRPQRNjwlD9Ubw1slWCRPxnFckurIZE/9+l4zEBlnD/bp+MxA5WRP9u/stKkFJQ/0a5Cyk+qnT87jbRU3o6QPzgQkgVM4IY/eEXwv5XsmD8nZr0YyomWPzy9UpYhjpU/vVKWIY51kT8P1v85zJeHPwQ5KGGm7Y8/Er2MYrmlhT/opPeNrz2TP0uwOJz51Zw/UU60q5Dykz/zPLg7a7eNP+BKdmwE4pU/x2gdVU0QlT+qZWt9kdCGPwHBHD1+b5M/krOwpx3+ij+VDtb/OcyXPw==",
          "dtype": "f8"
         },
         "yaxis": "y19"
        },
        {
         "marker": {
          "color": "#33C1FF"
         },
         "mode": "markers",
         "name": "Benigno",
         "showlegend": false,
         "type": "scatter",
         "x": {
          "bdata": "EwAUABUAJQAuADAAMQAyADMANAA3ADoAOwA8AD0APwBCAEMARABFAEcASgBMAE8AUABRAFQAWABZAFoAXABdAGAAYQBiAGUAZgBnAGgAagBrAG0AbgBvAHAAcQByAHMAdAB4AHsAfAB9AIAAggCFAIgAiQCLAIwAjgCPAJAAkQCTAJQAlQCWAJcAmACZAJoAmwCdAJ4AnwCgAKMApQCmAKkAqgCtAK4ArwCwALIAswC3ALkAuwC8AL0AvwDAAMMAyADMAM4A0ADRANMA2ADZANwA3QDeAOAA4QDiAOMA5ADnAOgA6gDrAO4A8ADxAPIA8wD1APYA9wD4APkA+wAKAQsBDAENAQ4BDwERARMBFAEWARcBGQEcAR0BHgEfASABIQEiASMBJAElASYBJwEoASoBKwEtAS8BMAExATIBMwE0ATUBNgE3ATgBOQE6ATsBPAE+AT8BQAFCAUQBRQFGAUcBSwFMAU0BTgFQAVIBVAFVAVYBWAFZAVoBWwFcAV0BXgFiAWMBZAFlAWYBZwFoAWkBagFrAWwBbwFzAXYBdwF4AXkBegF8AX0BfgF/AYABggGDAYQBhgGHAYoBiwGMAY0BjgGPAZEBkgGTAZQBlQGWAZcBmQGaAZsBnAGdAZ8BoAGiAaMBpAGlAaYBpwGoAakBqgGrAawBrQGvAbIBtAG1AbYBtwG4AboBuwG9Ab8BwAHCAcQBxQHGAccByAHJAcoBywHOAc8B0AHRAdIB0wHVAdYB1wHYAdkB2gHbAdwB3QHeAeAB4QHiAeMB5AHlAeYB6AHqAesB7QHuAe8B8AHxAfQB9gH4AfkB+gH7AfwB/gH/AQECAwIGAgcCCAIKAgsCDAINAg4CDwIQAhECEgITAhQCFgIZAhoCGwIcAh0CHgIfAiACIQIiAiMCJAIlAiYCJwIoAikCKgIrAiwCLQIuAi8CMAIxAjgC",
          "dtype": "i2"
         },
         "xaxis": "x19",
         "y": {
          "bdata": "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",
          "dtype": "f8"
         },
         "yaxis": "y19"
        },
        {
         "marker": {
          "color": "#FF5733"
         },
         "mode": "markers",
         "name": "Maligno",
         "showlegend": false,
         "type": "scatter",
         "x": {
          "bdata": "AAABAAIAAwAEAAUABgAHAAgACQAKAAsADAANAA4ADwAQABEAEgAWABcAGAAZABoAGwAcAB0AHgAfACAAIQAiACMAJAAmACcAKAApACoAKwAsAC0ALwA1ADYAOAA5AD4AQABBAEYASABJAEsATQBOAFIAUwBVAFYAVwBbAF4AXwBjAGQAaQBsAHUAdgB3AHkAegB+AH8AgQCDAIQAhgCHAIoAjQCSAJwAoQCiAKQApwCoAKsArACxALQAtQC2ALgAugC+AMEAwgDEAMUAxgDHAMkAygDLAM0AzwDSANQA1QDWANcA2gDbAN8A5QDmAOkA7ADtAO8A9AD6APwA/QD+AP8AAAEBAQIBAwEEAQUBBgEHAQgBCQEQARIBFQEYARoBGwEpASwBLgE9AUEBQwFIAUkBSgFPAVEBUwFXAV8BYAFhAW0BbgFwAXEBcgF0AXUBewGBAYUBiAGJAZABmAGeAaEBrgGwAbEBswG5AbwBvgHBAcMBzAHNAdQB3wHnAekB7AHyAfMB9QH3Af0BAAICAgQCBQIJAhUCFwIYAjICMwI0AjUCNgI3Ag==",
          "dtype": "i2"
         },
         "xaxis": "x20",
         "y": {
          "bdata": "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",
          "dtype": "f8"
         },
         "yaxis": "y20"
        },
        {
         "marker": {
          "color": "#33C1FF"
         },
         "mode": "markers",
         "name": "Benigno",
         "showlegend": false,
         "type": "scatter",
         "x": {
          "bdata": "EwAUABUAJQAuADAAMQAyADMANAA3ADoAOwA8AD0APwBCAEMARABFAEcASgBMAE8AUABRAFQAWABZAFoAXABdAGAAYQBiAGUAZgBnAGgAagBrAG0AbgBvAHAAcQByAHMAdAB4AHsAfAB9AIAAggCFAIgAiQCLAIwAjgCPAJAAkQCTAJQAlQCWAJcAmACZAJoAmwCdAJ4AnwCgAKMApQCmAKkAqgCtAK4ArwCwALIAswC3ALkAuwC8AL0AvwDAAMMAyADMAM4A0ADRANMA2ADZANwA3QDeAOAA4QDiAOMA5ADnAOgA6gDrAO4A8ADxAPIA8wD1APYA9wD4APkA+wAKAQsBDAENAQ4BDwERARMBFAEWARcBGQEcAR0BHgEfASABIQEiASMBJAElASYBJwEoASoBKwEtAS8BMAExATIBMwE0ATUBNgE3ATgBOQE6ATsBPAE+AT8BQAFCAUQBRQFGAUcBSwFMAU0BTgFQAVIBVAFVAVYBWAFZAVoBWwFcAV0BXgFiAWMBZAFlAWYBZwFoAWkBagFrAWwBbwFzAXYBdwF4AXkBegF8AX0BfgF/AYABggGDAYQBhgGHAYoBiwGMAY0BjgGPAZEBkgGTAZQBlQGWAZcBmQGaAZsBnAGdAZ8BoAGiAaMBpAGlAaYBpwGoAakBqgGrAawBrQGvAbIBtAG1AbYBtwG4AboBuwG9Ab8BwAHCAcQBxQHGAccByAHJAcoBywHOAc8B0AHRAdIB0wHVAdYB1wHYAdkB2gHbAdwB3QHeAeAB4QHiAeMB5AHlAeYB6AHqAesB7QHuAe8B8AHxAfQB9gH4AfkB+gH7AfwB/gH/AQECAwIGAgcCCAIKAgsCDAINAg4CDwIQAhECEgITAhQCFgIZAhoCGwIcAh0CHgIfAiACIQIiAiMCJAIlAiYCJwIoAikCKgIrAiwCLQIuAi8CMAIxAjgC",
          "dtype": "i2"
         },
         "xaxis": "x20",
         "y": {
          "bdata": "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",
          "dtype": "f8"
         },
         "yaxis": "y20"
        },
        {
         "marker": {
          "color": "#FF5733"
         },
         "mode": "markers",
         "name": "Maligno",
         "showlegend": false,
         "type": "scatter",
         "x": {
          "bdata": "AAABAAIAAwAEAAUABgAHAAgACQAKAAsADAANAA4ADwAQABEAEgAWABcAGAAZABoAGwAcAB0AHgAfACAAIQAiACMAJAAmACcAKAApACoAKwAsAC0ALwA1ADYAOAA5AD4AQABBAEYASABJAEsATQBOAFIAUwBVAFYAVwBbAF4AXwBjAGQAaQBsAHUAdgB3AHkAegB+AH8AgQCDAIQAhgCHAIoAjQCSAJwAoQCiAKQApwCoAKsArACxALQAtQC2ALgAugC+AMEAwgDEAMUAxgDHAMkAygDLAM0AzwDSANQA1QDWANcA2gDbAN8A5QDmAOkA7ADtAO8A9AD6APwA/QD+AP8AAAEBAQIBAwEEAQUBBgEHAQgBCQEQARIBFQEYARoBGwEpASwBLgE9AUEBQwFIAUkBSgFPAVEBUwFXAV8BYAFhAW0BbgFwAXEBcgF0AXUBewGBAYUBiAGJAZABmAGeAaEBrgGwAbEBswG5AbwBvgHBAcMBzAHNAdQB3wHnAekB7AHyAfMB9QH3Af0BAAICAgQCBQIJAhUCFwIYAjICMwI0AjUCNgI3Ag==",
          "dtype": "i2"
         },
         "xaxis": "x21",
         "y": {
          "bdata": "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",
          "dtype": "f8"
         },
         "yaxis": "y21"
        },
        {
         "marker": {
          "color": "#33C1FF"
         },
         "mode": "markers",
         "name": "Benigno",
         "showlegend": false,
         "type": "scatter",
         "x": {
          "bdata": "EwAUABUAJQAuADAAMQAyADMANAA3ADoAOwA8AD0APwBCAEMARABFAEcASgBMAE8AUABRAFQAWABZAFoAXABdAGAAYQBiAGUAZgBnAGgAagBrAG0AbgBvAHAAcQByAHMAdAB4AHsAfAB9AIAAggCFAIgAiQCLAIwAjgCPAJAAkQCTAJQAlQCWAJcAmACZAJoAmwCdAJ4AnwCgAKMApQCmAKkAqgCtAK4ArwCwALIAswC3ALkAuwC8AL0AvwDAAMMAyADMAM4A0ADRANMA2ADZANwA3QDeAOAA4QDiAOMA5ADnAOgA6gDrAO4A8ADxAPIA8wD1APYA9wD4APkA+wAKAQsBDAENAQ4BDwERARMBFAEWARcBGQEcAR0BHgEfASABIQEiASMBJAElASYBJwEoASoBKwEtAS8BMAExATIBMwE0ATUBNgE3ATgBOQE6ATsBPAE+AT8BQAFCAUQBRQFGAUcBSwFMAU0BTgFQAVIBVAFVAVYBWAFZAVoBWwFcAV0BXgFiAWMBZAFlAWYBZwFoAWkBagFrAWwBbwFzAXYBdwF4AXkBegF8AX0BfgF/AYABggGDAYQBhgGHAYoBiwGMAY0BjgGPAZEBkgGTAZQBlQGWAZcBmQGaAZsBnAGdAZ8BoAGiAaMBpAGlAaYBpwGoAakBqgGrAawBrQGvAbIBtAG1AbYBtwG4AboBuwG9Ab8BwAHCAcQBxQHGAccByAHJAcoBywHOAc8B0AHRAdIB0wHVAdYB1wHYAdkB2gHbAdwB3QHeAeAB4QHiAeMB5AHlAeYB6AHqAesB7QHuAe8B8AHxAfQB9gH4AfkB+gH7AfwB/gH/AQECAwIGAgcCCAIKAgsCDAINAg4CDwIQAhECEgITAhQCFgIZAhoCGwIcAh0CHgIfAiACIQIiAiMCJAIlAiYCJwIoAikCKgIrAiwCLQIuAi8CMAIxAjgC",
          "dtype": "i2"
         },
         "xaxis": "x21",
         "y": {
          "bdata": "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",
          "dtype": "f8"
         },
         "yaxis": "y21"
        },
        {
         "marker": {
          "color": "#FF5733"
         },
         "mode": "markers",
         "name": "Maligno",
         "showlegend": false,
         "type": "scatter",
         "x": {
          "bdata": "AAABAAIAAwAEAAUABgAHAAgACQAKAAsADAANAA4ADwAQABEAEgAWABcAGAAZABoAGwAcAB0AHgAfACAAIQAiACMAJAAmACcAKAApACoAKwAsAC0ALwA1ADYAOAA5AD4AQABBAEYASABJAEsATQBOAFIAUwBVAFYAVwBbAF4AXwBjAGQAaQBsAHUAdgB3AHkAegB+AH8AgQCDAIQAhgCHAIoAjQCSAJwAoQCiAKQApwCoAKsArACxALQAtQC2ALgAugC+AMEAwgDEAMUAxgDHAMkAygDLAM0AzwDSANQA1QDWANcA2gDbAN8A5QDmAOkA7ADtAO8A9AD6APwA/QD+AP8AAAEBAQIBAwEEAQUBBgEHAQgBCQEQARIBFQEYARoBGwEpASwBLgE9AUEBQwFIAUkBSgFPAVEBUwFXAV8BYAFhAW0BbgFwAXEBcgF0AXUBewGBAYUBiAGJAZABmAGeAaEBrgGwAbEBswG5AbwBvgHBAcMBzAHNAdQB3wHnAekB7AHyAfMB9QH3Af0BAAICAgQCBQIJAhUCFwIYAjICMwI0AjUCNgI3Ag==",
          "dtype": "i2"
         },
         "xaxis": "x22",
         "y": {
          "bdata": "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",
          "dtype": "f8"
         },
         "yaxis": "y22"
        },
        {
         "marker": {
          "color": "#33C1FF"
         },
         "mode": "markers",
         "name": "Benigno",
         "showlegend": false,
         "type": "scatter",
         "x": {
          "bdata": "EwAUABUAJQAuADAAMQAyADMANAA3ADoAOwA8AD0APwBCAEMARABFAEcASgBMAE8AUABRAFQAWABZAFoAXABdAGAAYQBiAGUAZgBnAGgAagBrAG0AbgBvAHAAcQByAHMAdAB4AHsAfAB9AIAAggCFAIgAiQCLAIwAjgCPAJAAkQCTAJQAlQCWAJcAmACZAJoAmwCdAJ4AnwCgAKMApQCmAKkAqgCtAK4ArwCwALIAswC3ALkAuwC8AL0AvwDAAMMAyADMAM4A0ADRANMA2ADZANwA3QDeAOAA4QDiAOMA5ADnAOgA6gDrAO4A8ADxAPIA8wD1APYA9wD4APkA+wAKAQsBDAENAQ4BDwERARMBFAEWARcBGQEcAR0BHgEfASABIQEiASMBJAElASYBJwEoASoBKwEtAS8BMAExATIBMwE0ATUBNgE3ATgBOQE6ATsBPAE+AT8BQAFCAUQBRQFGAUcBSwFMAU0BTgFQAVIBVAFVAVYBWAFZAVoBWwFcAV0BXgFiAWMBZAFlAWYBZwFoAWkBagFrAWwBbwFzAXYBdwF4AXkBegF8AX0BfgF/AYABggGDAYQBhgGHAYoBiwGMAY0BjgGPAZEBkgGTAZQBlQGWAZcBmQGaAZsBnAGdAZ8BoAGiAaMBpAGlAaYBpwGoAakBqgGrAawBrQGvAbIBtAG1AbYBtwG4AboBuwG9Ab8BwAHCAcQBxQHGAccByAHJAcoBywHOAc8B0AHRAdIB0wHVAdYB1wHYAdkB2gHbAdwB3QHeAeAB4QHiAeMB5AHlAeYB6AHqAesB7QHuAe8B8AHxAfQB9gH4AfkB+gH7AfwB/gH/AQECAwIGAgcCCAIKAgsCDAINAg4CDwIQAhECEgITAhQCFgIZAhoCGwIcAh0CHgIfAiACIQIiAiMCJAIlAiYCJwIoAikCKgIrAiwCLQIuAi8CMAIxAjgC",
          "dtype": "i2"
         },
         "xaxis": "x22",
         "y": {
          "bdata": "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",
          "dtype": "f8"
         },
         "yaxis": "y22"
        },
        {
         "marker": {
          "color": "#FF5733"
         },
         "mode": "markers",
         "name": "Maligno",
         "showlegend": false,
         "type": "scatter",
         "x": {
          "bdata": "AAABAAIAAwAEAAUABgAHAAgACQAKAAsADAANAA4ADwAQABEAEgAWABcAGAAZABoAGwAcAB0AHgAfACAAIQAiACMAJAAmACcAKAApACoAKwAsAC0ALwA1ADYAOAA5AD4AQABBAEYASABJAEsATQBOAFIAUwBVAFYAVwBbAF4AXwBjAGQAaQBsAHUAdgB3AHkAegB+AH8AgQCDAIQAhgCHAIoAjQCSAJwAoQCiAKQApwCoAKsArACxALQAtQC2ALgAugC+AMEAwgDEAMUAxgDHAMkAygDLAM0AzwDSANQA1QDWANcA2gDbAN8A5QDmAOkA7ADtAO8A9AD6APwA/QD+AP8AAAEBAQIBAwEEAQUBBgEHAQgBCQEQARIBFQEYARoBGwEpASwBLgE9AUEBQwFIAUkBSgFPAVEBUwFXAV8BYAFhAW0BbgFwAXEBcgF0AXUBewGBAYUBiAGJAZABmAGeAaEBrgGwAbEBswG5AbwBvgHBAcMBzAHNAdQB3wHnAekB7AHyAfMB9QH3Af0BAAICAgQCBQIJAhUCFwIYAjICMwI0AjUCNgI3Ag==",
          "dtype": "i2"
         },
         "xaxis": "x23",
         "y": {
          "bdata": "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",
          "dtype": "f8"
         },
         "yaxis": "y23"
        },
        {
         "marker": {
          "color": "#33C1FF"
         },
         "mode": "markers",
         "name": "Benigno",
         "showlegend": false,
         "type": "scatter",
         "x": {
          "bdata": "EwAUABUAJQAuADAAMQAyADMANAA3ADoAOwA8AD0APwBCAEMARABFAEcASgBMAE8AUABRAFQAWABZAFoAXABdAGAAYQBiAGUAZgBnAGgAagBrAG0AbgBvAHAAcQByAHMAdAB4AHsAfAB9AIAAggCFAIgAiQCLAIwAjgCPAJAAkQCTAJQAlQCWAJcAmACZAJoAmwCdAJ4AnwCgAKMApQCmAKkAqgCtAK4ArwCwALIAswC3ALkAuwC8AL0AvwDAAMMAyADMAM4A0ADRANMA2ADZANwA3QDeAOAA4QDiAOMA5ADnAOgA6gDrAO4A8ADxAPIA8wD1APYA9wD4APkA+wAKAQsBDAENAQ4BDwERARMBFAEWARcBGQEcAR0BHgEfASABIQEiASMBJAElASYBJwEoASoBKwEtAS8BMAExATIBMwE0ATUBNgE3ATgBOQE6ATsBPAE+AT8BQAFCAUQBRQFGAUcBSwFMAU0BTgFQAVIBVAFVAVYBWAFZAVoBWwFcAV0BXgFiAWMBZAFlAWYBZwFoAWkBagFrAWwBbwFzAXYBdwF4AXkBegF8AX0BfgF/AYABggGDAYQBhgGHAYoBiwGMAY0BjgGPAZEBkgGTAZQBlQGWAZcBmQGaAZsBnAGdAZ8BoAGiAaMBpAGlAaYBpwGoAakBqgGrAawBrQGvAbIBtAG1AbYBtwG4AboBuwG9Ab8BwAHCAcQBxQHGAccByAHJAcoBywHOAc8B0AHRAdIB0wHVAdYB1wHYAdkB2gHbAdwB3QHeAeAB4QHiAeMB5AHlAeYB6AHqAesB7QHuAe8B8AHxAfQB9gH4AfkB+gH7AfwB/gH/AQECAwIGAgcCCAIKAgsCDAINAg4CDwIQAhECEgITAhQCFgIZAhoCGwIcAh0CHgIfAiACIQIiAiMCJAIlAiYCJwIoAikCKgIrAiwCLQIuAi8CMAIxAjgC",
          "dtype": "i2"
         },
         "xaxis": "x23",
         "y": {
          "bdata": "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",
          "dtype": "f8"
         },
         "yaxis": "y23"
        },
        {
         "marker": {
          "color": "#FF5733"
         },
         "mode": "markers",
         "name": "Maligno",
         "showlegend": false,
         "type": "scatter",
         "x": {
          "bdata": "AAABAAIAAwAEAAUABgAHAAgACQAKAAsADAANAA4ADwAQABEAEgAWABcAGAAZABoAGwAcAB0AHgAfACAAIQAiACMAJAAmACcAKAApACoAKwAsAC0ALwA1ADYAOAA5AD4AQABBAEYASABJAEsATQBOAFIAUwBVAFYAVwBbAF4AXwBjAGQAaQBsAHUAdgB3AHkAegB+AH8AgQCDAIQAhgCHAIoAjQCSAJwAoQCiAKQApwCoAKsArACxALQAtQC2ALgAugC+AMEAwgDEAMUAxgDHAMkAygDLAM0AzwDSANQA1QDWANcA2gDbAN8A5QDmAOkA7ADtAO8A9AD6APwA/QD+AP8AAAEBAQIBAwEEAQUBBgEHAQgBCQEQARIBFQEYARoBGwEpASwBLgE9AUEBQwFIAUkBSgFPAVEBUwFXAV8BYAFhAW0BbgFwAXEBcgF0AXUBewGBAYUBiAGJAZABmAGeAaEBrgGwAbEBswG5AbwBvgHBAcMBzAHNAdQB3wHnAekB7AHyAfMB9QH3Af0BAAICAgQCBQIJAhUCFwIYAjICMwI0AjUCNgI3Ag==",
          "dtype": "i2"
         },
         "xaxis": "x24",
         "y": {
          "bdata": "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",
          "dtype": "f8"
         },
         "yaxis": "y24"
        },
        {
         "marker": {
          "color": "#33C1FF"
         },
         "mode": "markers",
         "name": "Benigno",
         "showlegend": false,
         "type": "scatter",
         "x": {
          "bdata": "EwAUABUAJQAuADAAMQAyADMANAA3ADoAOwA8AD0APwBCAEMARABFAEcASgBMAE8AUABRAFQAWABZAFoAXABdAGAAYQBiAGUAZgBnAGgAagBrAG0AbgBvAHAAcQByAHMAdAB4AHsAfAB9AIAAggCFAIgAiQCLAIwAjgCPAJAAkQCTAJQAlQCWAJcAmACZAJoAmwCdAJ4AnwCgAKMApQCmAKkAqgCtAK4ArwCwALIAswC3ALkAuwC8AL0AvwDAAMMAyADMAM4A0ADRANMA2ADZANwA3QDeAOAA4QDiAOMA5ADnAOgA6gDrAO4A8ADxAPIA8wD1APYA9wD4APkA+wAKAQsBDAENAQ4BDwERARMBFAEWARcBGQEcAR0BHgEfASABIQEiASMBJAElASYBJwEoASoBKwEtAS8BMAExATIBMwE0ATUBNgE3ATgBOQE6ATsBPAE+AT8BQAFCAUQBRQFGAUcBSwFMAU0BTgFQAVIBVAFVAVYBWAFZAVoBWwFcAV0BXgFiAWMBZAFlAWYBZwFoAWkBagFrAWwBbwFzAXYBdwF4AXkBegF8AX0BfgF/AYABggGDAYQBhgGHAYoBiwGMAY0BjgGPAZEBkgGTAZQBlQGWAZcBmQGaAZsBnAGdAZ8BoAGiAaMBpAGlAaYBpwGoAakBqgGrAawBrQGvAbIBtAG1AbYBtwG4AboBuwG9Ab8BwAHCAcQBxQHGAccByAHJAcoBywHOAc8B0AHRAdIB0wHVAdYB1wHYAdkB2gHbAdwB3QHeAeAB4QHiAeMB5AHlAeYB6AHqAesB7QHuAe8B8AHxAfQB9gH4AfkB+gH7AfwB/gH/AQECAwIGAgcCCAIKAgsCDAINAg4CDwIQAhECEgITAhQCFgIZAhoCGwIcAh0CHgIfAiACIQIiAiMCJAIlAiYCJwIoAikCKgIrAiwCLQIuAi8CMAIxAjgC",
          "dtype": "i2"
         },
         "xaxis": "x24",
         "y": {
          "bdata": "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",
          "dtype": "f8"
         },
         "yaxis": "y24"
        },
        {
         "marker": {
          "color": "#FF5733"
         },
         "mode": "markers",
         "name": "Maligno",
         "showlegend": false,
         "type": "scatter",
         "x": {
          "bdata": "AAABAAIAAwAEAAUABgAHAAgACQAKAAsADAANAA4ADwAQABEAEgAWABcAGAAZABoAGwAcAB0AHgAfACAAIQAiACMAJAAmACcAKAApACoAKwAsAC0ALwA1ADYAOAA5AD4AQABBAEYASABJAEsATQBOAFIAUwBVAFYAVwBbAF4AXwBjAGQAaQBsAHUAdgB3AHkAegB+AH8AgQCDAIQAhgCHAIoAjQCSAJwAoQCiAKQApwCoAKsArACxALQAtQC2ALgAugC+AMEAwgDEAMUAxgDHAMkAygDLAM0AzwDSANQA1QDWANcA2gDbAN8A5QDmAOkA7ADtAO8A9AD6APwA/QD+AP8AAAEBAQIBAwEEAQUBBgEHAQgBCQEQARIBFQEYARoBGwEpASwBLgE9AUEBQwFIAUkBSgFPAVEBUwFXAV8BYAFhAW0BbgFwAXEBcgF0AXUBewGBAYUBiAGJAZABmAGeAaEBrgGwAbEBswG5AbwBvgHBAcMBzAHNAdQB3wHnAekB7AHyAfMB9QH3Af0BAAICAgQCBQIJAhUCFwIYAjICMwI0AjUCNgI3Ag==",
          "dtype": "i2"
         },
         "xaxis": "x25",
         "y": {
          "bdata": "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",
          "dtype": "f8"
         },
         "yaxis": "y25"
        },
        {
         "marker": {
          "color": "#33C1FF"
         },
         "mode": "markers",
         "name": "Benigno",
         "showlegend": false,
         "type": "scatter",
         "x": {
          "bdata": "EwAUABUAJQAuADAAMQAyADMANAA3ADoAOwA8AD0APwBCAEMARABFAEcASgBMAE8AUABRAFQAWABZAFoAXABdAGAAYQBiAGUAZgBnAGgAagBrAG0AbgBvAHAAcQByAHMAdAB4AHsAfAB9AIAAggCFAIgAiQCLAIwAjgCPAJAAkQCTAJQAlQCWAJcAmACZAJoAmwCdAJ4AnwCgAKMApQCmAKkAqgCtAK4ArwCwALIAswC3ALkAuwC8AL0AvwDAAMMAyADMAM4A0ADRANMA2ADZANwA3QDeAOAA4QDiAOMA5ADnAOgA6gDrAO4A8ADxAPIA8wD1APYA9wD4APkA+wAKAQsBDAENAQ4BDwERARMBFAEWARcBGQEcAR0BHgEfASABIQEiASMBJAElASYBJwEoASoBKwEtAS8BMAExATIBMwE0ATUBNgE3ATgBOQE6ATsBPAE+AT8BQAFCAUQBRQFGAUcBSwFMAU0BTgFQAVIBVAFVAVYBWAFZAVoBWwFcAV0BXgFiAWMBZAFlAWYBZwFoAWkBagFrAWwBbwFzAXYBdwF4AXkBegF8AX0BfgF/AYABggGDAYQBhgGHAYoBiwGMAY0BjgGPAZEBkgGTAZQBlQGWAZcBmQGaAZsBnAGdAZ8BoAGiAaMBpAGlAaYBpwGoAakBqgGrAawBrQGvAbIBtAG1AbYBtwG4AboBuwG9Ab8BwAHCAcQBxQHGAccByAHJAcoBywHOAc8B0AHRAdIB0wHVAdYB1wHYAdkB2gHbAdwB3QHeAeAB4QHiAeMB5AHlAeYB6AHqAesB7QHuAe8B8AHxAfQB9gH4AfkB+gH7AfwB/gH/AQECAwIGAgcCCAIKAgsCDAINAg4CDwIQAhECEgITAhQCFgIZAhoCGwIcAh0CHgIfAiACIQIiAiMCJAIlAiYCJwIoAikCKgIrAiwCLQIuAi8CMAIxAjgC",
          "dtype": "i2"
         },
         "xaxis": "x25",
         "y": {
          "bdata": "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",
          "dtype": "f8"
         },
         "yaxis": "y25"
        },
        {
         "marker": {
          "color": "#FF5733"
         },
         "mode": "markers",
         "name": "Maligno",
         "showlegend": false,
         "type": "scatter",
         "x": {
          "bdata": "AAABAAIAAwAEAAUABgAHAAgACQAKAAsADAANAA4ADwAQABEAEgAWABcAGAAZABoAGwAcAB0AHgAfACAAIQAiACMAJAAmACcAKAApACoAKwAsAC0ALwA1ADYAOAA5AD4AQABBAEYASABJAEsATQBOAFIAUwBVAFYAVwBbAF4AXwBjAGQAaQBsAHUAdgB3AHkAegB+AH8AgQCDAIQAhgCHAIoAjQCSAJwAoQCiAKQApwCoAKsArACxALQAtQC2ALgAugC+AMEAwgDEAMUAxgDHAMkAygDLAM0AzwDSANQA1QDWANcA2gDbAN8A5QDmAOkA7ADtAO8A9AD6APwA/QD+AP8AAAEBAQIBAwEEAQUBBgEHAQgBCQEQARIBFQEYARoBGwEpASwBLgE9AUEBQwFIAUkBSgFPAVEBUwFXAV8BYAFhAW0BbgFwAXEBcgF0AXUBewGBAYUBiAGJAZABmAGeAaEBrgGwAbEBswG5AbwBvgHBAcMBzAHNAdQB3wHnAekB7AHyAfMB9QH3Af0BAAICAgQCBQIJAhUCFwIYAjICMwI0AjUCNgI3Ag==",
          "dtype": "i2"
         },
         "xaxis": "x26",
         "y": {
          "bdata": "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",
          "dtype": "f8"
         },
         "yaxis": "y26"
        },
        {
         "marker": {
          "color": "#33C1FF"
         },
         "mode": "markers",
         "name": "Benigno",
         "showlegend": false,
         "type": "scatter",
         "x": {
          "bdata": "EwAUABUAJQAuADAAMQAyADMANAA3ADoAOwA8AD0APwBCAEMARABFAEcASgBMAE8AUABRAFQAWABZAFoAXABdAGAAYQBiAGUAZgBnAGgAagBrAG0AbgBvAHAAcQByAHMAdAB4AHsAfAB9AIAAggCFAIgAiQCLAIwAjgCPAJAAkQCTAJQAlQCWAJcAmACZAJoAmwCdAJ4AnwCgAKMApQCmAKkAqgCtAK4ArwCwALIAswC3ALkAuwC8AL0AvwDAAMMAyADMAM4A0ADRANMA2ADZANwA3QDeAOAA4QDiAOMA5ADnAOgA6gDrAO4A8ADxAPIA8wD1APYA9wD4APkA+wAKAQsBDAENAQ4BDwERARMBFAEWARcBGQEcAR0BHgEfASABIQEiASMBJAElASYBJwEoASoBKwEtAS8BMAExATIBMwE0ATUBNgE3ATgBOQE6ATsBPAE+AT8BQAFCAUQBRQFGAUcBSwFMAU0BTgFQAVIBVAFVAVYBWAFZAVoBWwFcAV0BXgFiAWMBZAFlAWYBZwFoAWkBagFrAWwBbwFzAXYBdwF4AXkBegF8AX0BfgF/AYABggGDAYQBhgGHAYoBiwGMAY0BjgGPAZEBkgGTAZQBlQGWAZcBmQGaAZsBnAGdAZ8BoAGiAaMBpAGlAaYBpwGoAakBqgGrAawBrQGvAbIBtAG1AbYBtwG4AboBuwG9Ab8BwAHCAcQBxQHGAccByAHJAcoBywHOAc8B0AHRAdIB0wHVAdYB1wHYAdkB2gHbAdwB3QHeAeAB4QHiAeMB5AHlAeYB6AHqAesB7QHuAe8B8AHxAfQB9gH4AfkB+gH7AfwB/gH/AQECAwIGAgcCCAIKAgsCDAINAg4CDwIQAhECEgITAhQCFgIZAhoCGwIcAh0CHgIfAiACIQIiAiMCJAIlAiYCJwIoAikCKgIrAiwCLQIuAi8CMAIxAjgC",
          "dtype": "i2"
         },
         "xaxis": "x26",
         "y": {
          "bdata": "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",
          "dtype": "f8"
         },
         "yaxis": "y26"
        },
        {
         "marker": {
          "color": "#FF5733"
         },
         "mode": "markers",
         "name": "Maligno",
         "showlegend": false,
         "type": "scatter",
         "x": {
          "bdata": "AAABAAIAAwAEAAUABgAHAAgACQAKAAsADAANAA4ADwAQABEAEgAWABcAGAAZABoAGwAcAB0AHgAfACAAIQAiACMAJAAmACcAKAApACoAKwAsAC0ALwA1ADYAOAA5AD4AQABBAEYASABJAEsATQBOAFIAUwBVAFYAVwBbAF4AXwBjAGQAaQBsAHUAdgB3AHkAegB+AH8AgQCDAIQAhgCHAIoAjQCSAJwAoQCiAKQApwCoAKsArACxALQAtQC2ALgAugC+AMEAwgDEAMUAxgDHAMkAygDLAM0AzwDSANQA1QDWANcA2gDbAN8A5QDmAOkA7ADtAO8A9AD6APwA/QD+AP8AAAEBAQIBAwEEAQUBBgEHAQgBCQEQARIBFQEYARoBGwEpASwBLgE9AUEBQwFIAUkBSgFPAVEBUwFXAV8BYAFhAW0BbgFwAXEBcgF0AXUBewGBAYUBiAGJAZABmAGeAaEBrgGwAbEBswG5AbwBvgHBAcMBzAHNAdQB3wHnAekB7AHyAfMB9QH3Af0BAAICAgQCBQIJAhUCFwIYAjICMwI0AjUCNgI3Ag==",
          "dtype": "i2"
         },
         "xaxis": "x27",
         "y": {
          "bdata": "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",
          "dtype": "f8"
         },
         "yaxis": "y27"
        },
        {
         "marker": {
          "color": "#33C1FF"
         },
         "mode": "markers",
         "name": "Benigno",
         "showlegend": false,
         "type": "scatter",
         "x": {
          "bdata": "EwAUABUAJQAuADAAMQAyADMANAA3ADoAOwA8AD0APwBCAEMARABFAEcASgBMAE8AUABRAFQAWABZAFoAXABdAGAAYQBiAGUAZgBnAGgAagBrAG0AbgBvAHAAcQByAHMAdAB4AHsAfAB9AIAAggCFAIgAiQCLAIwAjgCPAJAAkQCTAJQAlQCWAJcAmACZAJoAmwCdAJ4AnwCgAKMApQCmAKkAqgCtAK4ArwCwALIAswC3ALkAuwC8AL0AvwDAAMMAyADMAM4A0ADRANMA2ADZANwA3QDeAOAA4QDiAOMA5ADnAOgA6gDrAO4A8ADxAPIA8wD1APYA9wD4APkA+wAKAQsBDAENAQ4BDwERARMBFAEWARcBGQEcAR0BHgEfASABIQEiASMBJAElASYBJwEoASoBKwEtAS8BMAExATIBMwE0ATUBNgE3ATgBOQE6ATsBPAE+AT8BQAFCAUQBRQFGAUcBSwFMAU0BTgFQAVIBVAFVAVYBWAFZAVoBWwFcAV0BXgFiAWMBZAFlAWYBZwFoAWkBagFrAWwBbwFzAXYBdwF4AXkBegF8AX0BfgF/AYABggGDAYQBhgGHAYoBiwGMAY0BjgGPAZEBkgGTAZQBlQGWAZcBmQGaAZsBnAGdAZ8BoAGiAaMBpAGlAaYBpwGoAakBqgGrAawBrQGvAbIBtAG1AbYBtwG4AboBuwG9Ab8BwAHCAcQBxQHGAccByAHJAcoBywHOAc8B0AHRAdIB0wHVAdYB1wHYAdkB2gHbAdwB3QHeAeAB4QHiAeMB5AHlAeYB6AHqAesB7QHuAe8B8AHxAfQB9gH4AfkB+gH7AfwB/gH/AQECAwIGAgcCCAIKAgsCDAINAg4CDwIQAhECEgITAhQCFgIZAhoCGwIcAh0CHgIfAiACIQIiAiMCJAIlAiYCJwIoAikCKgIrAiwCLQIuAi8CMAIxAjgC",
          "dtype": "i2"
         },
         "xaxis": "x27",
         "y": {
          "bdata": "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",
          "dtype": "f8"
         },
         "yaxis": "y27"
        },
        {
         "marker": {
          "color": "#FF5733"
         },
         "mode": "markers",
         "name": "Maligno",
         "showlegend": false,
         "type": "scatter",
         "x": {
          "bdata": "AAABAAIAAwAEAAUABgAHAAgACQAKAAsADAANAA4ADwAQABEAEgAWABcAGAAZABoAGwAcAB0AHgAfACAAIQAiACMAJAAmACcAKAApACoAKwAsAC0ALwA1ADYAOAA5AD4AQABBAEYASABJAEsATQBOAFIAUwBVAFYAVwBbAF4AXwBjAGQAaQBsAHUAdgB3AHkAegB+AH8AgQCDAIQAhgCHAIoAjQCSAJwAoQCiAKQApwCoAKsArACxALQAtQC2ALgAugC+AMEAwgDEAMUAxgDHAMkAygDLAM0AzwDSANQA1QDWANcA2gDbAN8A5QDmAOkA7ADtAO8A9AD6APwA/QD+AP8AAAEBAQIBAwEEAQUBBgEHAQgBCQEQARIBFQEYARoBGwEpASwBLgE9AUEBQwFIAUkBSgFPAVEBUwFXAV8BYAFhAW0BbgFwAXEBcgF0AXUBewGBAYUBiAGJAZABmAGeAaEBrgGwAbEBswG5AbwBvgHBAcMBzAHNAdQB3wHnAekB7AHyAfMB9QH3Af0BAAICAgQCBQIJAhUCFwIYAjICMwI0AjUCNgI3Ag==",
          "dtype": "i2"
         },
         "xaxis": "x28",
         "y": {
          "bdata": "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",
          "dtype": "f8"
         },
         "yaxis": "y28"
        },
        {
         "marker": {
          "color": "#33C1FF"
         },
         "mode": "markers",
         "name": "Benigno",
         "showlegend": false,
         "type": "scatter",
         "x": {
          "bdata": "EwAUABUAJQAuADAAMQAyADMANAA3ADoAOwA8AD0APwBCAEMARABFAEcASgBMAE8AUABRAFQAWABZAFoAXABdAGAAYQBiAGUAZgBnAGgAagBrAG0AbgBvAHAAcQByAHMAdAB4AHsAfAB9AIAAggCFAIgAiQCLAIwAjgCPAJAAkQCTAJQAlQCWAJcAmACZAJoAmwCdAJ4AnwCgAKMApQCmAKkAqgCtAK4ArwCwALIAswC3ALkAuwC8AL0AvwDAAMMAyADMAM4A0ADRANMA2ADZANwA3QDeAOAA4QDiAOMA5ADnAOgA6gDrAO4A8ADxAPIA8wD1APYA9wD4APkA+wAKAQsBDAENAQ4BDwERARMBFAEWARcBGQEcAR0BHgEfASABIQEiASMBJAElASYBJwEoASoBKwEtAS8BMAExATIBMwE0ATUBNgE3ATgBOQE6ATsBPAE+AT8BQAFCAUQBRQFGAUcBSwFMAU0BTgFQAVIBVAFVAVYBWAFZAVoBWwFcAV0BXgFiAWMBZAFlAWYBZwFoAWkBagFrAWwBbwFzAXYBdwF4AXkBegF8AX0BfgF/AYABggGDAYQBhgGHAYoBiwGMAY0BjgGPAZEBkgGTAZQBlQGWAZcBmQGaAZsBnAGdAZ8BoAGiAaMBpAGlAaYBpwGoAakBqgGrAawBrQGvAbIBtAG1AbYBtwG4AboBuwG9Ab8BwAHCAcQBxQHGAccByAHJAcoBywHOAc8B0AHRAdIB0wHVAdYB1wHYAdkB2gHbAdwB3QHeAeAB4QHiAeMB5AHlAeYB6AHqAesB7QHuAe8B8AHxAfQB9gH4AfkB+gH7AfwB/gH/AQECAwIGAgcCCAIKAgsCDAINAg4CDwIQAhECEgITAhQCFgIZAhoCGwIcAh0CHgIfAiACIQIiAiMCJAIlAiYCJwIoAikCKgIrAiwCLQIuAi8CMAIxAjgC",
          "dtype": "i2"
         },
         "xaxis": "x28",
         "y": {
          "bdata": "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",
          "dtype": "f8"
         },
         "yaxis": "y28"
        },
        {
         "marker": {
          "color": "#FF5733"
         },
         "mode": "markers",
         "name": "Maligno",
         "showlegend": false,
         "type": "scatter",
         "x": {
          "bdata": "AAABAAIAAwAEAAUABgAHAAgACQAKAAsADAANAA4ADwAQABEAEgAWABcAGAAZABoAGwAcAB0AHgAfACAAIQAiACMAJAAmACcAKAApACoAKwAsAC0ALwA1ADYAOAA5AD4AQABBAEYASABJAEsATQBOAFIAUwBVAFYAVwBbAF4AXwBjAGQAaQBsAHUAdgB3AHkAegB+AH8AgQCDAIQAhgCHAIoAjQCSAJwAoQCiAKQApwCoAKsArACxALQAtQC2ALgAugC+AMEAwgDEAMUAxgDHAMkAygDLAM0AzwDSANQA1QDWANcA2gDbAN8A5QDmAOkA7ADtAO8A9AD6APwA/QD+AP8AAAEBAQIBAwEEAQUBBgEHAQgBCQEQARIBFQEYARoBGwEpASwBLgE9AUEBQwFIAUkBSgFPAVEBUwFXAV8BYAFhAW0BbgFwAXEBcgF0AXUBewGBAYUBiAGJAZABmAGeAaEBrgGwAbEBswG5AbwBvgHBAcMBzAHNAdQB3wHnAekB7AHyAfMB9QH3Af0BAAICAgQCBQIJAhUCFwIYAjICMwI0AjUCNgI3Ag==",
          "dtype": "i2"
         },
         "xaxis": "x29",
         "y": {
          "bdata": "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",
          "dtype": "f8"
         },
         "yaxis": "y29"
        },
        {
         "marker": {
          "color": "#33C1FF"
         },
         "mode": "markers",
         "name": "Benigno",
         "showlegend": false,
         "type": "scatter",
         "x": {
          "bdata": "EwAUABUAJQAuADAAMQAyADMANAA3ADoAOwA8AD0APwBCAEMARABFAEcASgBMAE8AUABRAFQAWABZAFoAXABdAGAAYQBiAGUAZgBnAGgAagBrAG0AbgBvAHAAcQByAHMAdAB4AHsAfAB9AIAAggCFAIgAiQCLAIwAjgCPAJAAkQCTAJQAlQCWAJcAmACZAJoAmwCdAJ4AnwCgAKMApQCmAKkAqgCtAK4ArwCwALIAswC3ALkAuwC8AL0AvwDAAMMAyADMAM4A0ADRANMA2ADZANwA3QDeAOAA4QDiAOMA5ADnAOgA6gDrAO4A8ADxAPIA8wD1APYA9wD4APkA+wAKAQsBDAENAQ4BDwERARMBFAEWARcBGQEcAR0BHgEfASABIQEiASMBJAElASYBJwEoASoBKwEtAS8BMAExATIBMwE0ATUBNgE3ATgBOQE6ATsBPAE+AT8BQAFCAUQBRQFGAUcBSwFMAU0BTgFQAVIBVAFVAVYBWAFZAVoBWwFcAV0BXgFiAWMBZAFlAWYBZwFoAWkBagFrAWwBbwFzAXYBdwF4AXkBegF8AX0BfgF/AYABggGDAYQBhgGHAYoBiwGMAY0BjgGPAZEBkgGTAZQBlQGWAZcBmQGaAZsBnAGdAZ8BoAGiAaMBpAGlAaYBpwGoAakBqgGrAawBrQGvAbIBtAG1AbYBtwG4AboBuwG9Ab8BwAHCAcQBxQHGAccByAHJAcoBywHOAc8B0AHRAdIB0wHVAdYB1wHYAdkB2gHbAdwB3QHeAeAB4QHiAeMB5AHlAeYB6AHqAesB7QHuAe8B8AHxAfQB9gH4AfkB+gH7AfwB/gH/AQECAwIGAgcCCAIKAgsCDAINAg4CDwIQAhECEgITAhQCFgIZAhoCGwIcAh0CHgIfAiACIQIiAiMCJAIlAiYCJwIoAikCKgIrAiwCLQIuAi8CMAIxAjgC",
          "dtype": "i2"
         },
         "xaxis": "x29",
         "y": {
          "bdata": "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",
          "dtype": "f8"
         },
         "yaxis": "y29"
        },
        {
         "marker": {
          "color": "#FF5733"
         },
         "mode": "markers",
         "name": "Maligno",
         "showlegend": false,
         "type": "scatter",
         "x": {
          "bdata": "AAABAAIAAwAEAAUABgAHAAgACQAKAAsADAANAA4ADwAQABEAEgAWABcAGAAZABoAGwAcAB0AHgAfACAAIQAiACMAJAAmACcAKAApACoAKwAsAC0ALwA1ADYAOAA5AD4AQABBAEYASABJAEsATQBOAFIAUwBVAFYAVwBbAF4AXwBjAGQAaQBsAHUAdgB3AHkAegB+AH8AgQCDAIQAhgCHAIoAjQCSAJwAoQCiAKQApwCoAKsArACxALQAtQC2ALgAugC+AMEAwgDEAMUAxgDHAMkAygDLAM0AzwDSANQA1QDWANcA2gDbAN8A5QDmAOkA7ADtAO8A9AD6APwA/QD+AP8AAAEBAQIBAwEEAQUBBgEHAQgBCQEQARIBFQEYARoBGwEpASwBLgE9AUEBQwFIAUkBSgFPAVEBUwFXAV8BYAFhAW0BbgFwAXEBcgF0AXUBewGBAYUBiAGJAZABmAGeAaEBrgGwAbEBswG5AbwBvgHBAcMBzAHNAdQB3wHnAekB7AHyAfMB9QH3Af0BAAICAgQCBQIJAhUCFwIYAjICMwI0AjUCNgI3Ag==",
          "dtype": "i2"
         },
         "xaxis": "x30",
         "y": {
          "bdata": "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",
          "dtype": "f8"
         },
         "yaxis": "y30"
        },
        {
         "marker": {
          "color": "#33C1FF"
         },
         "mode": "markers",
         "name": "Benigno",
         "showlegend": false,
         "type": "scatter",
         "x": {
          "bdata": "EwAUABUAJQAuADAAMQAyADMANAA3ADoAOwA8AD0APwBCAEMARABFAEcASgBMAE8AUABRAFQAWABZAFoAXABdAGAAYQBiAGUAZgBnAGgAagBrAG0AbgBvAHAAcQByAHMAdAB4AHsAfAB9AIAAggCFAIgAiQCLAIwAjgCPAJAAkQCTAJQAlQCWAJcAmACZAJoAmwCdAJ4AnwCgAKMApQCmAKkAqgCtAK4ArwCwALIAswC3ALkAuwC8AL0AvwDAAMMAyADMAM4A0ADRANMA2ADZANwA3QDeAOAA4QDiAOMA5ADnAOgA6gDrAO4A8ADxAPIA8wD1APYA9wD4APkA+wAKAQsBDAENAQ4BDwERARMBFAEWARcBGQEcAR0BHgEfASABIQEiASMBJAElASYBJwEoASoBKwEtAS8BMAExATIBMwE0ATUBNgE3ATgBOQE6ATsBPAE+AT8BQAFCAUQBRQFGAUcBSwFMAU0BTgFQAVIBVAFVAVYBWAFZAVoBWwFcAV0BXgFiAWMBZAFlAWYBZwFoAWkBagFrAWwBbwFzAXYBdwF4AXkBegF8AX0BfgF/AYABggGDAYQBhgGHAYoBiwGMAY0BjgGPAZEBkgGTAZQBlQGWAZcBmQGaAZsBnAGdAZ8BoAGiAaMBpAGlAaYBpwGoAakBqgGrAawBrQGvAbIBtAG1AbYBtwG4AboBuwG9Ab8BwAHCAcQBxQHGAccByAHJAcoBywHOAc8B0AHRAdIB0wHVAdYB1wHYAdkB2gHbAdwB3QHeAeAB4QHiAeMB5AHlAeYB6AHqAesB7QHuAe8B8AHxAfQB9gH4AfkB+gH7AfwB/gH/AQECAwIGAgcCCAIKAgsCDAINAg4CDwIQAhECEgITAhQCFgIZAhoCGwIcAh0CHgIfAiACIQIiAiMCJAIlAiYCJwIoAikCKgIrAiwCLQIuAi8CMAIxAjgC",
          "dtype": "i2"
         },
         "xaxis": "x30",
         "y": {
          "bdata": "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",
          "dtype": "f8"
         },
         "yaxis": "y30"
        }
       ],
       "layout": {
        "annotations": [
         {
          "font": {
           "size": 16
          },
          "showarrow": false,
          "text": "radius_mean",
          "x": 0.13333333333333333,
          "xanchor": "center",
          "xref": "paper",
          "y": 0.9999999999999999,
          "yanchor": "bottom",
          "yref": "paper"
         },
         {
          "font": {
           "size": 16
          },
          "showarrow": false,
          "text": "texture_mean",
          "x": 0.5,
          "xanchor": "center",
          "xref": "paper",
          "y": 0.9999999999999999,
          "yanchor": "bottom",
          "yref": "paper"
         },
         {
          "font": {
           "size": 16
          },
          "showarrow": false,
          "text": "perimeter_mean",
          "x": 0.8666666666666667,
          "xanchor": "center",
          "xref": "paper",
          "y": 0.9999999999999999,
          "yanchor": "bottom",
          "yref": "paper"
         },
         {
          "font": {
           "size": 16
          },
          "showarrow": false,
          "text": "area_mean",
          "x": 0.13333333333333333,
          "xanchor": "center",
          "xref": "paper",
          "y": 0.8969999999999999,
          "yanchor": "bottom",
          "yref": "paper"
         },
         {
          "font": {
           "size": 16
          },
          "showarrow": false,
          "text": "smoothness_mean",
          "x": 0.5,
          "xanchor": "center",
          "xref": "paper",
          "y": 0.8969999999999999,
          "yanchor": "bottom",
          "yref": "paper"
         },
         {
          "font": {
           "size": 16
          },
          "showarrow": false,
          "text": "compactness_mean",
          "x": 0.8666666666666667,
          "xanchor": "center",
          "xref": "paper",
          "y": 0.8969999999999999,
          "yanchor": "bottom",
          "yref": "paper"
         },
         {
          "font": {
           "size": 16
          },
          "showarrow": false,
          "text": "concavity_mean",
          "x": 0.13333333333333333,
          "xanchor": "center",
          "xref": "paper",
          "y": 0.7939999999999999,
          "yanchor": "bottom",
          "yref": "paper"
         },
         {
          "font": {
           "size": 16
          },
          "showarrow": false,
          "text": "concave points_mean",
          "x": 0.5,
          "xanchor": "center",
          "xref": "paper",
          "y": 0.7939999999999999,
          "yanchor": "bottom",
          "yref": "paper"
         },
         {
          "font": {
           "size": 16
          },
          "showarrow": false,
          "text": "symmetry_mean",
          "x": 0.8666666666666667,
          "xanchor": "center",
          "xref": "paper",
          "y": 0.7939999999999999,
          "yanchor": "bottom",
          "yref": "paper"
         },
         {
          "font": {
           "size": 16
          },
          "showarrow": false,
          "text": "fractal_dimension_mean",
          "x": 0.13333333333333333,
          "xanchor": "center",
          "xref": "paper",
          "y": 0.691,
          "yanchor": "bottom",
          "yref": "paper"
         },
         {
          "font": {
           "size": 16
          },
          "showarrow": false,
          "text": "radius_se",
          "x": 0.5,
          "xanchor": "center",
          "xref": "paper",
          "y": 0.691,
          "yanchor": "bottom",
          "yref": "paper"
         },
         {
          "font": {
           "size": 16
          },
          "showarrow": false,
          "text": "texture_se",
          "x": 0.8666666666666667,
          "xanchor": "center",
          "xref": "paper",
          "y": 0.691,
          "yanchor": "bottom",
          "yref": "paper"
         },
         {
          "font": {
           "size": 16
          },
          "showarrow": false,
          "text": "perimeter_se",
          "x": 0.13333333333333333,
          "xanchor": "center",
          "xref": "paper",
          "y": 0.588,
          "yanchor": "bottom",
          "yref": "paper"
         },
         {
          "font": {
           "size": 16
          },
          "showarrow": false,
          "text": "area_se",
          "x": 0.5,
          "xanchor": "center",
          "xref": "paper",
          "y": 0.588,
          "yanchor": "bottom",
          "yref": "paper"
         },
         {
          "font": {
           "size": 16
          },
          "showarrow": false,
          "text": "smoothness_se",
          "x": 0.8666666666666667,
          "xanchor": "center",
          "xref": "paper",
          "y": 0.588,
          "yanchor": "bottom",
          "yref": "paper"
         },
         {
          "font": {
           "size": 16
          },
          "showarrow": false,
          "text": "compactness_se",
          "x": 0.13333333333333333,
          "xanchor": "center",
          "xref": "paper",
          "y": 0.485,
          "yanchor": "bottom",
          "yref": "paper"
         },
         {
          "font": {
           "size": 16
          },
          "showarrow": false,
          "text": "concavity_se",
          "x": 0.5,
          "xanchor": "center",
          "xref": "paper",
          "y": 0.485,
          "yanchor": "bottom",
          "yref": "paper"
         },
         {
          "font": {
           "size": 16
          },
          "showarrow": false,
          "text": "concave points_se",
          "x": 0.8666666666666667,
          "xanchor": "center",
          "xref": "paper",
          "y": 0.485,
          "yanchor": "bottom",
          "yref": "paper"
         },
         {
          "font": {
           "size": 16
          },
          "showarrow": false,
          "text": "symmetry_se",
          "x": 0.13333333333333333,
          "xanchor": "center",
          "xref": "paper",
          "y": 0.38199999999999995,
          "yanchor": "bottom",
          "yref": "paper"
         },
         {
          "font": {
           "size": 16
          },
          "showarrow": false,
          "text": "fractal_dimension_se",
          "x": 0.5,
          "xanchor": "center",
          "xref": "paper",
          "y": 0.38199999999999995,
          "yanchor": "bottom",
          "yref": "paper"
         },
         {
          "font": {
           "size": 16
          },
          "showarrow": false,
          "text": "radius_worst",
          "x": 0.8666666666666667,
          "xanchor": "center",
          "xref": "paper",
          "y": 0.38199999999999995,
          "yanchor": "bottom",
          "yref": "paper"
         },
         {
          "font": {
           "size": 16
          },
          "showarrow": false,
          "text": "texture_worst",
          "x": 0.13333333333333333,
          "xanchor": "center",
          "xref": "paper",
          "y": 0.27899999999999997,
          "yanchor": "bottom",
          "yref": "paper"
         },
         {
          "font": {
           "size": 16
          },
          "showarrow": false,
          "text": "perimeter_worst",
          "x": 0.5,
          "xanchor": "center",
          "xref": "paper",
          "y": 0.27899999999999997,
          "yanchor": "bottom",
          "yref": "paper"
         },
         {
          "font": {
           "size": 16
          },
          "showarrow": false,
          "text": "area_worst",
          "x": 0.8666666666666667,
          "xanchor": "center",
          "xref": "paper",
          "y": 0.27899999999999997,
          "yanchor": "bottom",
          "yref": "paper"
         },
         {
          "font": {
           "size": 16
          },
          "showarrow": false,
          "text": "smoothness_worst",
          "x": 0.13333333333333333,
          "xanchor": "center",
          "xref": "paper",
          "y": 0.176,
          "yanchor": "bottom",
          "yref": "paper"
         },
         {
          "font": {
           "size": 16
          },
          "showarrow": false,
          "text": "compactness_worst",
          "x": 0.5,
          "xanchor": "center",
          "xref": "paper",
          "y": 0.176,
          "yanchor": "bottom",
          "yref": "paper"
         },
         {
          "font": {
           "size": 16
          },
          "showarrow": false,
          "text": "concavity_worst",
          "x": 0.8666666666666667,
          "xanchor": "center",
          "xref": "paper",
          "y": 0.176,
          "yanchor": "bottom",
          "yref": "paper"
         },
         {
          "font": {
           "size": 16
          },
          "showarrow": false,
          "text": "concave points_worst",
          "x": 0.13333333333333333,
          "xanchor": "center",
          "xref": "paper",
          "y": 0.073,
          "yanchor": "bottom",
          "yref": "paper"
         },
         {
          "font": {
           "size": 16
          },
          "showarrow": false,
          "text": "symmetry_worst",
          "x": 0.5,
          "xanchor": "center",
          "xref": "paper",
          "y": 0.073,
          "yanchor": "bottom",
          "yref": "paper"
         },
         {
          "font": {
           "size": 16
          },
          "showarrow": false,
          "text": "fractal_dimension_worst",
          "x": 0.8666666666666667,
          "xanchor": "center",
          "xref": "paper",
          "y": 0.073,
          "yanchor": "bottom",
          "yref": "paper"
         }
        ],
        "height": 3000,
        "showlegend": true,
        "template": {
         "data": {
          "bar": [
           {
            "error_x": {
             "color": "#2a3f5f"
            },
            "error_y": {
             "color": "#2a3f5f"
            },
            "marker": {
             "line": {
              "color": "#E5ECF6",
              "width": 0.5
             },
             "pattern": {
              "fillmode": "overlay",
              "size": 10,
              "solidity": 0.2
             }
            },
            "type": "bar"
           }
          ],
          "barpolar": [
           {
            "marker": {
             "line": {
              "color": "#E5ECF6",
              "width": 0.5
             },
             "pattern": {
              "fillmode": "overlay",
              "size": 10,
              "solidity": 0.2
             }
            },
            "type": "barpolar"
           }
          ],
          "carpet": [
           {
            "aaxis": {
             "endlinecolor": "#2a3f5f",
             "gridcolor": "white",
             "linecolor": "white",
             "minorgridcolor": "white",
             "startlinecolor": "#2a3f5f"
            },
            "baxis": {
             "endlinecolor": "#2a3f5f",
             "gridcolor": "white",
             "linecolor": "white",
             "minorgridcolor": "white",
             "startlinecolor": "#2a3f5f"
            },
            "type": "carpet"
           }
          ],
          "choropleth": [
           {
            "colorbar": {
             "outlinewidth": 0,
             "ticks": ""
            },
            "type": "choropleth"
           }
          ],
          "contour": [
           {
            "colorbar": {
             "outlinewidth": 0,
             "ticks": ""
            },
            "colorscale": [
             [
              0,
              "#0d0887"
             ],
             [
              0.1111111111111111,
              "#46039f"
             ],
             [
              0.2222222222222222,
              "#7201a8"
             ],
             [
              0.3333333333333333,
              "#9c179e"
             ],
             [
              0.4444444444444444,
              "#bd3786"
             ],
             [
              0.5555555555555556,
              "#d8576b"
             ],
             [
              0.6666666666666666,
              "#ed7953"
             ],
             [
              0.7777777777777778,
              "#fb9f3a"
             ],
             [
              0.8888888888888888,
              "#fdca26"
             ],
             [
              1,
              "#f0f921"
             ]
            ],
            "type": "contour"
           }
          ],
          "contourcarpet": [
           {
            "colorbar": {
             "outlinewidth": 0,
             "ticks": ""
            },
            "type": "contourcarpet"
           }
          ],
          "heatmap": [
           {
            "colorbar": {
             "outlinewidth": 0,
             "ticks": ""
            },
            "colorscale": [
             [
              0,
              "#0d0887"
             ],
             [
              0.1111111111111111,
              "#46039f"
             ],
             [
              0.2222222222222222,
              "#7201a8"
             ],
             [
              0.3333333333333333,
              "#9c179e"
             ],
             [
              0.4444444444444444,
              "#bd3786"
             ],
             [
              0.5555555555555556,
              "#d8576b"
             ],
             [
              0.6666666666666666,
              "#ed7953"
             ],
             [
              0.7777777777777778,
              "#fb9f3a"
             ],
             [
              0.8888888888888888,
              "#fdca26"
             ],
             [
              1,
              "#f0f921"
             ]
            ],
            "type": "heatmap"
           }
          ],
          "histogram": [
           {
            "marker": {
             "pattern": {
              "fillmode": "overlay",
              "size": 10,
              "solidity": 0.2
             }
            },
            "type": "histogram"
           }
          ],
          "histogram2d": [
           {
            "colorbar": {
             "outlinewidth": 0,
             "ticks": ""
            },
            "colorscale": [
             [
              0,
              "#0d0887"
             ],
             [
              0.1111111111111111,
              "#46039f"
             ],
             [
              0.2222222222222222,
              "#7201a8"
             ],
             [
              0.3333333333333333,
              "#9c179e"
             ],
             [
              0.4444444444444444,
              "#bd3786"
             ],
             [
              0.5555555555555556,
              "#d8576b"
             ],
             [
              0.6666666666666666,
              "#ed7953"
             ],
             [
              0.7777777777777778,
              "#fb9f3a"
             ],
             [
              0.8888888888888888,
              "#fdca26"
             ],
             [
              1,
              "#f0f921"
             ]
            ],
            "type": "histogram2d"
           }
          ],
          "histogram2dcontour": [
           {
            "colorbar": {
             "outlinewidth": 0,
             "ticks": ""
            },
            "colorscale": [
             [
              0,
              "#0d0887"
             ],
             [
              0.1111111111111111,
              "#46039f"
             ],
             [
              0.2222222222222222,
              "#7201a8"
             ],
             [
              0.3333333333333333,
              "#9c179e"
             ],
             [
              0.4444444444444444,
              "#bd3786"
             ],
             [
              0.5555555555555556,
              "#d8576b"
             ],
             [
              0.6666666666666666,
              "#ed7953"
             ],
             [
              0.7777777777777778,
              "#fb9f3a"
             ],
             [
              0.8888888888888888,
              "#fdca26"
             ],
             [
              1,
              "#f0f921"
             ]
            ],
            "type": "histogram2dcontour"
           }
          ],
          "mesh3d": [
           {
            "colorbar": {
             "outlinewidth": 0,
             "ticks": ""
            },
            "type": "mesh3d"
           }
          ],
          "parcoords": [
           {
            "line": {
             "colorbar": {
              "outlinewidth": 0,
              "ticks": ""
             }
            },
            "type": "parcoords"
           }
          ],
          "pie": [
           {
            "automargin": true,
            "type": "pie"
           }
          ],
          "scatter": [
           {
            "fillpattern": {
             "fillmode": "overlay",
             "size": 10,
             "solidity": 0.2
            },
            "type": "scatter"
           }
          ],
          "scatter3d": [
           {
            "line": {
             "colorbar": {
              "outlinewidth": 0,
              "ticks": ""
             }
            },
            "marker": {
             "colorbar": {
              "outlinewidth": 0,
              "ticks": ""
             }
            },
            "type": "scatter3d"
           }
          ],
          "scattercarpet": [
           {
            "marker": {
             "colorbar": {
              "outlinewidth": 0,
              "ticks": ""
             }
            },
            "type": "scattercarpet"
           }
          ],
          "scattergeo": [
           {
            "marker": {
             "colorbar": {
              "outlinewidth": 0,
              "ticks": ""
             }
            },
            "type": "scattergeo"
           }
          ],
          "scattergl": [
           {
            "marker": {
             "colorbar": {
              "outlinewidth": 0,
              "ticks": ""
             }
            },
            "type": "scattergl"
           }
          ],
          "scattermap": [
           {
            "marker": {
             "colorbar": {
              "outlinewidth": 0,
              "ticks": ""
             }
            },
            "type": "scattermap"
           }
          ],
          "scattermapbox": [
           {
            "marker": {
             "colorbar": {
              "outlinewidth": 0,
              "ticks": ""
             }
            },
            "type": "scattermapbox"
           }
          ],
          "scatterpolar": [
           {
            "marker": {
             "colorbar": {
              "outlinewidth": 0,
              "ticks": ""
             }
            },
            "type": "scatterpolar"
           }
          ],
          "scatterpolargl": [
           {
            "marker": {
             "colorbar": {
              "outlinewidth": 0,
              "ticks": ""
             }
            },
            "type": "scatterpolargl"
           }
          ],
          "scatterternary": [
           {
            "marker": {
             "colorbar": {
              "outlinewidth": 0,
              "ticks": ""
             }
            },
            "type": "scatterternary"
           }
          ],
          "surface": [
           {
            "colorbar": {
             "outlinewidth": 0,
             "ticks": ""
            },
            "colorscale": [
             [
              0,
              "#0d0887"
             ],
             [
              0.1111111111111111,
              "#46039f"
             ],
             [
              0.2222222222222222,
              "#7201a8"
             ],
             [
              0.3333333333333333,
              "#9c179e"
             ],
             [
              0.4444444444444444,
              "#bd3786"
             ],
             [
              0.5555555555555556,
              "#d8576b"
             ],
             [
              0.6666666666666666,
              "#ed7953"
             ],
             [
              0.7777777777777778,
              "#fb9f3a"
             ],
             [
              0.8888888888888888,
              "#fdca26"
             ],
             [
              1,
              "#f0f921"
             ]
            ],
            "type": "surface"
           }
          ],
          "table": [
           {
            "cells": {
             "fill": {
              "color": "#EBF0F8"
             },
             "line": {
              "color": "white"
             }
            },
            "header": {
             "fill": {
              "color": "#C8D4E3"
             },
             "line": {
              "color": "white"
             }
            },
            "type": "table"
           }
          ]
         },
         "layout": {
          "annotationdefaults": {
           "arrowcolor": "#2a3f5f",
           "arrowhead": 0,
           "arrowwidth": 1
          },
          "autotypenumbers": "strict",
          "coloraxis": {
           "colorbar": {
            "outlinewidth": 0,
            "ticks": ""
           }
          },
          "colorscale": {
           "diverging": [
            [
             0,
             "#8e0152"
            ],
            [
             0.1,
             "#c51b7d"
            ],
            [
             0.2,
             "#de77ae"
            ],
            [
             0.3,
             "#f1b6da"
            ],
            [
             0.4,
             "#fde0ef"
            ],
            [
             0.5,
             "#f7f7f7"
            ],
            [
             0.6,
             "#e6f5d0"
            ],
            [
             0.7,
             "#b8e186"
            ],
            [
             0.8,
             "#7fbc41"
            ],
            [
             0.9,
             "#4d9221"
            ],
            [
             1,
             "#276419"
            ]
           ],
           "sequential": [
            [
             0,
             "#0d0887"
            ],
            [
             0.1111111111111111,
             "#46039f"
            ],
            [
             0.2222222222222222,
             "#7201a8"
            ],
            [
             0.3333333333333333,
             "#9c179e"
            ],
            [
             0.4444444444444444,
             "#bd3786"
            ],
            [
             0.5555555555555556,
             "#d8576b"
            ],
            [
             0.6666666666666666,
             "#ed7953"
            ],
            [
             0.7777777777777778,
             "#fb9f3a"
            ],
            [
             0.8888888888888888,
             "#fdca26"
            ],
            [
             1,
             "#f0f921"
            ]
           ],
           "sequentialminus": [
            [
             0,
             "#0d0887"
            ],
            [
             0.1111111111111111,
             "#46039f"
            ],
            [
             0.2222222222222222,
             "#7201a8"
            ],
            [
             0.3333333333333333,
             "#9c179e"
            ],
            [
             0.4444444444444444,
             "#bd3786"
            ],
            [
             0.5555555555555556,
             "#d8576b"
            ],
            [
             0.6666666666666666,
             "#ed7953"
            ],
            [
             0.7777777777777778,
             "#fb9f3a"
            ],
            [
             0.8888888888888888,
             "#fdca26"
            ],
            [
             1,
             "#f0f921"
            ]
           ]
          },
          "colorway": [
           "#636efa",
           "#EF553B",
           "#00cc96",
           "#ab63fa",
           "#FFA15A",
           "#19d3f3",
           "#FF6692",
           "#B6E880",
           "#FF97FF",
           "#FECB52"
          ],
          "font": {
           "color": "#2a3f5f"
          },
          "geo": {
           "bgcolor": "white",
           "lakecolor": "white",
           "landcolor": "#E5ECF6",
           "showlakes": true,
           "showland": true,
           "subunitcolor": "white"
          },
          "hoverlabel": {
           "align": "left"
          },
          "hovermode": "closest",
          "mapbox": {
           "style": "light"
          },
          "paper_bgcolor": "white",
          "plot_bgcolor": "#E5ECF6",
          "polar": {
           "angularaxis": {
            "gridcolor": "white",
            "linecolor": "white",
            "ticks": ""
           },
           "bgcolor": "#E5ECF6",
           "radialaxis": {
            "gridcolor": "white",
            "linecolor": "white",
            "ticks": ""
           }
          },
          "scene": {
           "xaxis": {
            "backgroundcolor": "#E5ECF6",
            "gridcolor": "white",
            "gridwidth": 2,
            "linecolor": "white",
            "showbackground": true,
            "ticks": "",
            "zerolinecolor": "white"
           },
           "yaxis": {
            "backgroundcolor": "#E5ECF6",
            "gridcolor": "white",
            "gridwidth": 2,
            "linecolor": "white",
            "showbackground": true,
            "ticks": "",
            "zerolinecolor": "white"
           },
           "zaxis": {
            "backgroundcolor": "#E5ECF6",
            "gridcolor": "white",
            "gridwidth": 2,
            "linecolor": "white",
            "showbackground": true,
            "ticks": "",
            "zerolinecolor": "white"
           }
          },
          "shapedefaults": {
           "line": {
            "color": "#2a3f5f"
           }
          },
          "ternary": {
           "aaxis": {
            "gridcolor": "white",
            "linecolor": "white",
            "ticks": ""
           },
           "baxis": {
            "gridcolor": "white",
            "linecolor": "white",
            "ticks": ""
           },
           "bgcolor": "#E5ECF6",
           "caxis": {
            "gridcolor": "white",
            "linecolor": "white",
            "ticks": ""
           }
          },
          "title": {
           "x": 0.05
          },
          "xaxis": {
           "automargin": true,
           "gridcolor": "white",
           "linecolor": "white",
           "ticks": "",
           "title": {
            "standoff": 15
           },
           "zerolinecolor": "white",
           "zerolinewidth": 2
          },
          "yaxis": {
           "automargin": true,
           "gridcolor": "white",
           "linecolor": "white",
           "ticks": "",
           "title": {
            "standoff": 15
           },
           "zerolinecolor": "white",
           "zerolinewidth": 2
          }
         }
        },
        "title": {
         "text": "Scatter Plots de todas as variáveis por Diagnóstico"
        },
        "xaxis": {
         "anchor": "y",
         "domain": [
          0,
          0.26666666666666666
         ]
        },
        "xaxis10": {
         "anchor": "y10",
         "domain": [
          0,
          0.26666666666666666
         ]
        },
        "xaxis11": {
         "anchor": "y11",
         "domain": [
          0.3666666666666667,
          0.6333333333333333
         ]
        },
        "xaxis12": {
         "anchor": "y12",
         "domain": [
          0.7333333333333334,
          1
         ]
        },
        "xaxis13": {
         "anchor": "y13",
         "domain": [
          0,
          0.26666666666666666
         ]
        },
        "xaxis14": {
         "anchor": "y14",
         "domain": [
          0.3666666666666667,
          0.6333333333333333
         ]
        },
        "xaxis15": {
         "anchor": "y15",
         "domain": [
          0.7333333333333334,
          1
         ]
        },
        "xaxis16": {
         "anchor": "y16",
         "domain": [
          0,
          0.26666666666666666
         ]
        },
        "xaxis17": {
         "anchor": "y17",
         "domain": [
          0.3666666666666667,
          0.6333333333333333
         ]
        },
        "xaxis18": {
         "anchor": "y18",
         "domain": [
          0.7333333333333334,
          1
         ]
        },
        "xaxis19": {
         "anchor": "y19",
         "domain": [
          0,
          0.26666666666666666
         ]
        },
        "xaxis2": {
         "anchor": "y2",
         "domain": [
          0.3666666666666667,
          0.6333333333333333
         ]
        },
        "xaxis20": {
         "anchor": "y20",
         "domain": [
          0.3666666666666667,
          0.6333333333333333
         ]
        },
        "xaxis21": {
         "anchor": "y21",
         "domain": [
          0.7333333333333334,
          1
         ]
        },
        "xaxis22": {
         "anchor": "y22",
         "domain": [
          0,
          0.26666666666666666
         ]
        },
        "xaxis23": {
         "anchor": "y23",
         "domain": [
          0.3666666666666667,
          0.6333333333333333
         ]
        },
        "xaxis24": {
         "anchor": "y24",
         "domain": [
          0.7333333333333334,
          1
         ]
        },
        "xaxis25": {
         "anchor": "y25",
         "domain": [
          0,
          0.26666666666666666
         ]
        },
        "xaxis26": {
         "anchor": "y26",
         "domain": [
          0.3666666666666667,
          0.6333333333333333
         ]
        },
        "xaxis27": {
         "anchor": "y27",
         "domain": [
          0.7333333333333334,
          1
         ]
        },
        "xaxis28": {
         "anchor": "y28",
         "domain": [
          0,
          0.26666666666666666
         ]
        },
        "xaxis29": {
         "anchor": "y29",
         "domain": [
          0.3666666666666667,
          0.6333333333333333
         ]
        },
        "xaxis3": {
         "anchor": "y3",
         "domain": [
          0.7333333333333334,
          1
         ]
        },
        "xaxis30": {
         "anchor": "y30",
         "domain": [
          0.7333333333333334,
          1
         ]
        },
        "xaxis4": {
         "anchor": "y4",
         "domain": [
          0,
          0.26666666666666666
         ]
        },
        "xaxis5": {
         "anchor": "y5",
         "domain": [
          0.3666666666666667,
          0.6333333333333333
         ]
        },
        "xaxis6": {
         "anchor": "y6",
         "domain": [
          0.7333333333333334,
          1
         ]
        },
        "xaxis7": {
         "anchor": "y7",
         "domain": [
          0,
          0.26666666666666666
         ]
        },
        "xaxis8": {
         "anchor": "y8",
         "domain": [
          0.3666666666666667,
          0.6333333333333333
         ]
        },
        "xaxis9": {
         "anchor": "y9",
         "domain": [
          0.7333333333333334,
          1
         ]
        },
        "yaxis": {
         "anchor": "x",
         "domain": [
          0.9269999999999999,
          0.9999999999999999
         ]
        },
        "yaxis10": {
         "anchor": "x10",
         "domain": [
          0.618,
          0.691
         ]
        },
        "yaxis11": {
         "anchor": "x11",
         "domain": [
          0.618,
          0.691
         ]
        },
        "yaxis12": {
         "anchor": "x12",
         "domain": [
          0.618,
          0.691
         ]
        },
        "yaxis13": {
         "anchor": "x13",
         "domain": [
          0.515,
          0.588
         ]
        },
        "yaxis14": {
         "anchor": "x14",
         "domain": [
          0.515,
          0.588
         ]
        },
        "yaxis15": {
         "anchor": "x15",
         "domain": [
          0.515,
          0.588
         ]
        },
        "yaxis16": {
         "anchor": "x16",
         "domain": [
          0.412,
          0.485
         ]
        },
        "yaxis17": {
         "anchor": "x17",
         "domain": [
          0.412,
          0.485
         ]
        },
        "yaxis18": {
         "anchor": "x18",
         "domain": [
          0.412,
          0.485
         ]
        },
        "yaxis19": {
         "anchor": "x19",
         "domain": [
          0.30899999999999994,
          0.38199999999999995
         ]
        },
        "yaxis2": {
         "anchor": "x2",
         "domain": [
          0.9269999999999999,
          0.9999999999999999
         ]
        },
        "yaxis20": {
         "anchor": "x20",
         "domain": [
          0.30899999999999994,
          0.38199999999999995
         ]
        },
        "yaxis21": {
         "anchor": "x21",
         "domain": [
          0.30899999999999994,
          0.38199999999999995
         ]
        },
        "yaxis22": {
         "anchor": "x22",
         "domain": [
          0.206,
          0.27899999999999997
         ]
        },
        "yaxis23": {
         "anchor": "x23",
         "domain": [
          0.206,
          0.27899999999999997
         ]
        },
        "yaxis24": {
         "anchor": "x24",
         "domain": [
          0.206,
          0.27899999999999997
         ]
        },
        "yaxis25": {
         "anchor": "x25",
         "domain": [
          0.103,
          0.176
         ]
        },
        "yaxis26": {
         "anchor": "x26",
         "domain": [
          0.103,
          0.176
         ]
        },
        "yaxis27": {
         "anchor": "x27",
         "domain": [
          0.103,
          0.176
         ]
        },
        "yaxis28": {
         "anchor": "x28",
         "domain": [
          0,
          0.073
         ]
        },
        "yaxis29": {
         "anchor": "x29",
         "domain": [
          0,
          0.073
         ]
        },
        "yaxis3": {
         "anchor": "x3",
         "domain": [
          0.9269999999999999,
          0.9999999999999999
         ]
        },
        "yaxis30": {
         "anchor": "x30",
         "domain": [
          0,
          0.073
         ]
        },
        "yaxis4": {
         "anchor": "x4",
         "domain": [
          0.824,
          0.8969999999999999
         ]
        },
        "yaxis5": {
         "anchor": "x5",
         "domain": [
          0.824,
          0.8969999999999999
         ]
        },
        "yaxis6": {
         "anchor": "x6",
         "domain": [
          0.824,
          0.8969999999999999
         ]
        },
        "yaxis7": {
         "anchor": "x7",
         "domain": [
          0.721,
          0.7939999999999999
         ]
        },
        "yaxis8": {
         "anchor": "x8",
         "domain": [
          0.721,
          0.7939999999999999
         ]
        },
        "yaxis9": {
         "anchor": "x9",
         "domain": [
          0.721,
          0.7939999999999999
         ]
        }
       }
      }
     },
     "metadata": {},
     "output_type": "display_data"
    }
   ],
   "source": [
    "# Scatter plots em subplots para todas as variáveis\n",
    "colunas_numericas = [col for col in df_dataset.select_dtypes(include=['float64', 'int64']).columns if col != 'id']\n",
    "colunas_scatter = colunas_numericas\n",
    "\n",
    "n_cols = 3\n",
    "n_rows = (len(colunas_scatter) + n_cols - 1) // n_cols\n",
    "\n",
    "fig = make_subplots(\n",
    "    rows=n_rows,\n",
    "    cols=n_cols,\n",
    "    subplot_titles=colunas_scatter,\n",
    "    vertical_spacing=0.03,    # Reduzido para caber em 15 linhas (< 0.071429)\n",
    "    horizontal_spacing=0.1\n",
    ")\n",
    "\n",
    "for idx, coluna in enumerate(colunas_scatter):\n",
    "    row = idx // n_cols + 1\n",
    "    col = idx % n_cols + 1\n",
    "    \n",
    "    for diagnosis in df_dataset['diagnosis'].unique():\n",
    "        df_filtrado = df_dataset[df_dataset['diagnosis'] == diagnosis]\n",
    "        color = '#FF5733' if diagnosis == 'Maligno' else '#33C1FF'\n",
    "        \n",
    "        fig.add_trace(\n",
    "            go.Scatter(\n",
    "                x=df_filtrado.index,\n",
    "                y=df_filtrado[coluna],\n",
    "                mode='markers',\n",
    "                name=diagnosis,\n",
    "                marker=dict(color=color),\n",
    "                showlegend=(idx == 0)\n",
    "            ),\n",
    "            row=row,\n",
    "            col=col\n",
    "        )\n",
    "\n",
    "fig.update_layout(\n",
    "    height=300 * n_rows, \n",
    "    title_text=\"Scatter Plots de todas as variáveis por Diagnóstico\",\n",
    "    showlegend=True\n",
    ")\n",
    "fig.show()"
   ]
  },
  {
   "cell_type": "code",
   "execution_count": 156,
   "id": "e53fd7c9",
   "metadata": {},
   "outputs": [
    {
     "data": {
      "application/vnd.plotly.v1+json": {
       "config": {
        "plotlyServerURL": "https://plot.ly"
       },
       "data": [
        {
         "coloraxis": "coloraxis",
         "hovertemplate": "x: %{x}<br>y: %{y}<br>color: %{z}<extra></extra>",
         "name": "0",
         "texttemplate": "%{z}",
         "type": "heatmap",
         "x": [
          "diagnosis",
          "radius_mean",
          "texture_mean",
          "perimeter_mean",
          "area_mean",
          "smoothness_mean",
          "compactness_mean",
          "concavity_mean",
          "concave points_mean",
          "symmetry_mean",
          "fractal_dimension_mean",
          "radius_se",
          "texture_se",
          "perimeter_se",
          "area_se",
          "smoothness_se",
          "compactness_se",
          "concavity_se",
          "concave points_se",
          "symmetry_se",
          "fractal_dimension_se",
          "radius_worst",
          "texture_worst",
          "perimeter_worst",
          "area_worst",
          "smoothness_worst",
          "compactness_worst",
          "concavity_worst",
          "concave points_worst",
          "symmetry_worst",
          "fractal_dimension_worst"
         ],
         "xaxis": "x",
         "y": [
          "diagnosis",
          "radius_mean",
          "texture_mean",
          "perimeter_mean",
          "area_mean",
          "smoothness_mean",
          "compactness_mean",
          "concavity_mean",
          "concave points_mean",
          "symmetry_mean",
          "fractal_dimension_mean",
          "radius_se",
          "texture_se",
          "perimeter_se",
          "area_se",
          "smoothness_se",
          "compactness_se",
          "concavity_se",
          "concave points_se",
          "symmetry_se",
          "fractal_dimension_se",
          "radius_worst",
          "texture_worst",
          "perimeter_worst",
          "area_worst",
          "smoothness_worst",
          "compactness_worst",
          "concavity_worst",
          "concave points_worst",
          "symmetry_worst",
          "fractal_dimension_worst"
         ],
         "yaxis": "y",
         "z": {
          "bdata": "AAAAAAAA8D8uKrDAZFznP+9dJ11lkto/lKQglqvD5z8I3PDe/q/mPyy87H6l8tY/rYl7y80W4z9oxhEnlEjmP7VHkEQF2ug/9bR7aOMm1T8mjv3dmUqKv9e5nNP1JeI/4paQfFYBgb8SzqaW58vhP66MPxkmi+E/Uk6/FfYnsb/STPPmf8DSP6EzusUbPdA/AamZll0d2j/OstSCjrZ6v9BjrhYA9rM/dHs9mLXY6D84XNZU5T3dP2iY1/KhDek/YBq/o3575z9iYKzAR/naP6PF8CJ16eI/2pc034Yb5T/b1lqP5GTpPzS93eSQpNo/1fOoalK61D8uKrDAZFznPwAAAAAAAPA/+JUkrte41D9wBAUzbu7vPwmoWxBumO8/XDHMtprVxT9huqYSKjLgP0e1gQgMqOU/rMP1VSdS6j+Gd1BdL+nCP3cg22vC8dO/R+bvwxu75T/iJqPDy+m4v1clM1rQkuU/vQr68zGM5z97NZUvKX7Mv07yaRU1Xso/XEBDEKrbyD+QE+L0JhPYP83I+vXFtLq/zfCckBPVpb+NAHKYdgbvP9BXZVksAtM/prlz+GXi7j+mXFj2WB3uPzB9CdEpn74/TBzKxSx22j/DfQ9tddzgP5LoIUua0Oc/uo/PQWz8xD+Ic3E/HvF8P+9dJ11lkto/+JUkrte41D8AAAAAAADwP26egNMRF9U/Qy/4BKuM1D8LxEK9KPOXvzGYWSdCTM4/gcQvTtBa0z+ze7xxHcjSP9YDFKxVR7I/uasbI2ORs79SDooX1afRPxpeilIVutg/dRoLrO4G0j+NRuHdTKHQPyWf/FYMF3s/Zz2mwp+SyD9OCMlybVfCP/QOggUS+cQ/1ZcauEOxgj+AwyMj2+GrPzjAXR+OkNY/KwcyIngv7T/cv2HSHurWP/K19SOo/NU/YKB4l0LXsz/yuWPF9cfRP7cG5Ez/Q9M/RhRIbHTm0j/j3qBkzOG6P0E4wu09hL4/lKQglqvD5z9wBAUzbu7vP26egNMRF9U/AAAAAAAA8D+MlY23dpHvP+YoHUMXiMo/t/J142vS4T9fIJhPlermP4d8OjQ0O+s/xfMoiW9txz9TdjOkCbzQv+6VtGHwIuY/xjPqWfk1tr9GbUk4KS7mP9B5avLl1uc/qN4Fu+Dxyb9MaB05LwzQP+NfIWPNMc0/HOQlitcP2j84QfvZqOW0vzXgPv+xn3a/jKZqS/MF7z//WNEN+2TTP50XCs1oDe8/fpkdEC0h7j+eqvzvM0XDP1gx8qpnK90/22FwhkwL4j8WovQpAa7oP4jm+/DrNMg/0tdNyRkfqj8I3PDe/q/mPwmoWxBumO8/Qy/4BKuM1D+MlY23dpHvPwAAAAAAAPA/qotiqd2oxj8+HnaZc+ffP+Tvx0KS8+U/AatV9DdY6j/UkUhVkl3DP5gMmZ14HtK/TaDnViZx5z+0tc11vfewvzqpBg2KQOc/QCA2yk2a6T+I0mQU8FjFvy4Gpq/nNcs/TaA62JqUyj9l3Q9zGNTXP9rrcOsij7K/zHHYgj9dlL9Hkz3h0M7uP2xV3bI2ZtI/zOWZiBux7j8OuPEk4LHuPxfQQgYzn78/FPCNhXv82D8fSAGIRGfgP5WbnpzCGuc/rOprun9gwj/I7n9MT55uPyy87H6l8tY/XDHMtprVxT8LxEK9KPOXv+YoHUMXiMo/qotiqd2oxj8AAAAAAADwP1hgrJGJF+U/+gRsTRe04D+YZlzw3rfhP+bNKYNK2eE/+sxqt5224j8AUPSnPEvTP0sSu8EVg7E/zMUYlCvz0j9FdmCzB4/PP0COCqajRdU/lTEoJZFp1D8BGcj8bcvPP1byyZL9XNg/PgU6ifmyyT+h3cu1nCbSP//ux1OFR8s/qTovuAB4oj/n5RANuZLOP81FNFG/dco/8WxKPzfF6T+gto1I7DzeP2DBO6rS1ds/9PyRWAMZ4D+/ljjWXTzZP/fuXaTM9N8/rYl7y80W4z9huqYSKjLgPzGYWSdCTM4/t/J142vS4T8+HnaZc+ffP1hgrJGJF+U/AAAAAAAA8D8Sp5pHhkLsP3czmoSomOo/fB9E4dVI4z8pjvEFgBfiP6QUZN2a1t8/9Diw2Siopz/yWwDGoZDhP7l+Z5RqKd0/gR/5hHxRwT8n4+3gm6PnP5qwG5msQeI/ZYisuWiN5D+aOit432/NP7mRdjnzO+A/pHsMwk0h4T8Qw/4R0cLPP62mm/oA4+I/pjrZo6xO4D8r7cPJ6RjiPywF0Si1tOs/epzNRe0e6j8hHlcELRnqP+1YJRbAU+A/vXKCNgn/5T9oxhEnlEjmP0e1gQgMqOU/gcQvTtBa0z9fIJhPlermP+Tvx0KS8+U/+gRsTRe04D8Sp5pHhkLsPwAAAAAAAPA/lwCkCAl87T+MW1r/dQXgP6NDo8rbjdU/KhuUZ7o45D+Sr5iwC4OzP9MVOdzrIeU/Ae5Y3PXB4z+SScdAeTu5P/hg4ZPscuU/IlbDsuIe5j/40YLmQ93lP6kZNHcBycY/CFTP7VfB3D8G4NdbCAbmP2g28Tg3MdM/JXYXhphY5z+3JF/5r6HlPz8KKxKAudw/4QE7r7Io6D8T9yaekUrsPzuHmFL1j+s/3vYXBqk02j8phABATnrgP7VHkEQF2ug/rMP1VSdS6j+ze7xxHcjSP4d8OjQ0O+s/AatV9DdY6j+YZlzw3rfhP3czmoSomOo/lwCkCAl87T8AAAAAAADwP118YaWOmd0/pgIMf4xdxT9W5MOabFbmP5Iwkle+/pU/FKCvzKS95j+GzZf27BbmP8iGmBwmUZw/3txKZBxj3z/57yQxUBvcP+gdUFlGs+M/EH5Tv+houD9KFIaJQHzQP+9K3kf2keo/ryBMrnG80j+pQmfmuGPrP6BPbGB86Ok/iT038uf53D/k9jHQx1vlP8uPcxyoE+g/fS2mCf4f7T8SgRAsMQzYPwurJ94kmNc/9bR7aOMm1T+Gd1BdL+nCP9YDFKxVR7I/xfMoiW9txz/UkUhVkl3DP+bNKYNK2eE/fB9E4dVI4z+MW1r/dQXgP118YaWOmd0/AAAAAAAA8D/oME70B7fePwugcNuQatM/eO1kzQlkwD+DnoSp0RbUP+mc1l8Oq8w/dblS0yP6xz+fh5yldvzaP7MOtuSZ7dU/pVuN1sor2T+3K0Eyp77cP3eS4PX7O9U/iJycUe3Fxz8WJdIs4jS3P5HC2CC3Dcw/MNxxyEWuxj9V+BXFpE7bP8eNVrXoSN4/ewfMwRXC2z94qHLM+onbP6fcOBL5ZOY/7XJ8ffcO3D8mjv3dmUqKv3cg22vC8dO/uasbI2ORs79TdjOkCbzQv5gMmZ14HtK/+sxqt5224j8pjvEFgBfiP6NDo8rbjdU/pgIMf4xdxT/oME70B7fePwAAAAAAAPA/MLDt08AYHT90CCMLpwPFPxj6AbuWZKQ/SSYsuGUVt78KNV3/yLnZP0EyqqIu6uE/7YBGWJeV3D8NRIlSMNbVP7gQ5+eZFNY/nPCQgywF5j9RLXFAezzQv+NwFPT0P6q/A+CNF2VCyr97LZkaaK3Nv2lTgEh8KOA/bKCW8fJc3T8fqushsijWP8//U3cQccY/9CzZ5o9g1T+F96T5sY3oP9e5nNP1JeI/R+bvwxu75T9SDooX1afRP+6VtGHwIuY/TaDnViZx5z8AUPSnPEvTP6QUZN2a1t8/KhuUZ7o45D9W5MOabFbmPwugcNuQatM/MLDt08AYHT8AAAAAAADwP471uVGwS8s/sUSRNCAh7z/Jq1tsZHXuP3NX6UzNDsU/GjLLEsPJ1j9JpKaMWEXVP/GkL4RVbeA/16AaTenKzj+j8y8bByfNP5yhc2fQ4eY/JZ90uyjvyD9udwZUpgfnP6hRymOvDOg/ZZO9G2Mqwj8AVLX05V/SP0LKxad/W9g/nTREbHb+4D8jf3F89TO4PxmOSZvaX6k/4paQfFYBgb/iJqPDy+m4vxpeilIVutg/xjPqWfk1tr+0tc11vfewv0sSu8EVg7E/9Diw2Siopz+Sr5iwC4OzP5Iwkle+/pU/eO1kzQlkwD90CCMLpwPFP471uVGwS8s/AAAAAAAA8D8tW3LC25DMP6kxG86rj7w/x3oqSW1s2T8sSczyVajNP+N3z6219cg/ZF/0Ku15zT+xkPND/lfaPzKtWT365tE/js0mgryXvL+nDlPwGS3aP9plyc6GLLq/N/MpS0RMtb+Gg/B0OtuyvyxNpwAbqre/ilAaaB2nsb++lEKRkKC+v1GvyldXacC//acKHglgp78SzqaW58vhP1clM1rQkuU/dRoLrO4G0j9GbUk4KS7mPzqpBg2KQOc/zMUYlCvz0j/yWwDGoZDhP9MVOdzrIeU/FKCvzKS95j+DnoSp0RbUPxj6AbuWZKQ/sUSRNCAh7z8tW3LC25DMPwAAAAAAAPA/Wy156UUB7j9X4WK7b1bDP9O8x5IGpdo/FkBQ8+Uy1z9xhedV6szhPwotF+AfDtE/8VewBRJAzz9plQ+ed0/mP2DpaYzApck/kG/5QLAS5z+TcEssAGLnP/q5JlCfpcA/HxfvGALi1T/+Vnn6PM/aP2ANRta3weE/oNXbo2YkvD8VG/+26N61P66MPxkmi+E/vQr68zGM5z+NRuHdTKHQP9B5avLl1uc/QCA2yk2a6T9FdmCzB4/PP7l+Z5RqKd0/Ae5Y3PXB4z+GzZf27BbmP+mc1l8Oq8w/SSYsuGUVt7/Jq1tsZHXuP6kxG86rj7w/Wy156UUB7j8AAAAAAADwPx1uhHQNPbM/UNjbydE60j/rcmnVVlbRP8KpCDFQm9o/m4bwqHsqwT8LKUj+20PAP9l3qbJmPOg/m0nFXM0myT/i8yaa2lvoP1tO/dMN9+k/l1Oqx8IMwD8XgEYH4CDSP58sBQp7pdg/u7a/j6g44T98mDHO8PmyPyE29CvS9ZE/Uk6/FfYnsb97NZUvKX7MvyWf/FYMF3s/qN4Fu+Dxyb+I0mQU8FjFv0COCqajRdU/gR/5hHxRwT+SScdAeTu5P8iGmBwmUZw/dblS0yP6xz8KNV3/yLnZP3NX6UzNDsU/x3oqSW1s2T9X4WK7b1bDPx1uhHQNPbM/AAAAAAAA8D/VlZ23bYzVP1ZwJZAhMtE/Uu9tKf0E1T+gqx1l4nbaPwLqQVgZWts/01Ej70WHzb9XcsDdWiKzv88RnQOc0Mu/3RffcS5Sx7/s8VoqEiDUP6uUnckdcqy/RgDyQEnZrb+yOD0OHh26v3wIfY/Feru/yKBLKp36uT/STPPmf8DSP07yaRU1Xso/Zz2mwp+SyD9MaB05LwzQPy4Gpq/nNcs/lTEoJZFp1D8n4+3gm6PnP/hg4ZPscuU/3txKZBxj3z+fh5yldvzaP0EyqqIu6uE/GjLLEsPJ1j8sSczyVajNP9O8x5IGpdo/UNjbydE60j/VlZ23bYzVPwAAAAAAAPA/JDPsgf2j6T8Ps2h0hs/nP/dRJ5/5Qtk/yh+4zmC06T9exiJPkTDKP73SP53oTcI/w/vXoEqs0D/XXBrt/4TJPzuBhhNBG80/H0/mk5G45T+CqIbG43PkP6G8N57i7N4/4rgLncLI0T91Hfm1P+niP6EzusUbPdA/XEBDEKrbyD9OCMlybVfCP+NfIWPNMc0/TaA62JqUyj8BGcj8bcvPP5qwG5msQeI/IlbDsuIe5j/57yQxUBvcP7MOtuSZ7dU/7YBGWJeV3D9JpKaMWEXVP+N3z6219cg/FkBQ8+Uy1z/rcmnVVlbRP1ZwJZAhMtE/JDPsgf2j6T8AAAAAAADwP6LXo0qesug/Oga5ha3N0z8wRrkHokbnP+htsFN07Mc/+wLromSpuT9NNEc73QPNP3hxa5DwG8g/X5VkwcuQxT/sKkoD6QffP0GvvbK5M+U/Ywglk7Iw3D8EjjiBHFHJPw9aLYL4Hdw/AamZll0d2j+QE+L0JhPYP/QOggUS+cQ/HOQlitcP2j9l3Q9zGNTXP1byyZL9XNg/ZYisuWiN5D/40YLmQ93lP+gdUFlGs+M/pVuN1sor2T8NRIlSMNbVP/GkL4RVbeA/ZF/0Ku15zT9xhedV6szhP8KpCDFQm9o/Uu9tKf0E1T8Ps2h0hs/nP6LXo0qesug/AAAAAAAA8D9gXmFXlwTUP3uvYXCsjeM/0c0NH4zr1j8Gi+sDrDS2P0giFPGqR9k/rFPjTcXn1T9izz+9m5DLP3uyYogf/Nw/+4O4v0KW4T88Zl1lREfjP9x8KT6dUcI/UUDBoMPh0z/OstSCjrZ6v83I+vXFtLq/1ZcauEOxgj84QfvZqOW0v9rrcOsij7K/PgU6ifmyyT+aOit432/NP6kZNHcBycY/EH5Tv+houD+3K0Eyp77cP7gQ5+eZFNY/16AaTenKzj+xkPND/lfaPwotF+AfDtE/m4bwqHsqwT+gqx1l4nbaP/dRJ5/5Qtk/Oga5ha3N0z9gXmFXlwTUPwAAAAAAAPA/inlurvme1z/Aio3oQmbAv3L4/01M1bO/kuMqOo+Pur9MTBYIbD+8v9ZJWvht7om/C9N0QbrZrj8bNZeXRAGjPxik/3uwJJ+/XOJjZvjr2D9TdRQ9BP2zP9BjrhYA9rM/zfCckBPVpb+AwyMj2+GrPzXgPv+xn3a/zHHYgj9dlL+h3cu1nCbSP7mRdjnzO+A/CFTP7VfB3D9KFIaJQHzQP3eS4PX7O9U/nPCQgywF5j+j8y8bByfNPzKtWT365tE/8VewBRJAzz8LKUj+20PAPwLqQVgZWts/yh+4zmC06T8wRrkHokbnP3uvYXCsjeM/inlurvme1z8AAAAAAADwPwdEc7mTMaO/hGzxD3Ysar8fnInF+GNQv2fbgwQlSJe/MlNgvS7VxT/UesDKXPjYP7ETET6BUdg/DDiRG86Lyz8PDcFKp3C8P4MN59Uo7OI/dHs9mLXY6D+NAHKYdgbvPzjAXR+OkNY/jKZqS/MF7z9Hkz3h0M7uP//ux1OFR8s/pHsMwk0h4T8G4NdbCAbmP+9K3kf2keo/iJycUe3Fxz9RLXFAezzQv5yhc2fQ4eY/js0mgryXvL9plQ+ed0/mP9l3qbJmPOg/01Ej70WHzb9exiJPkTDKP+htsFN07Mc/0c0NH4zr1j/Aio3oQmbAvwdEc7mTMaO/AAAAAAAA8D/U/CEP8QjXPwIILot0zO8/B3akHAx97z8zgbQBtrjLP4wP6+LVc94/n5AANQBe4j/AOGaBkzLpPxKrBgj3K88/nq3dHhfvtz84XNZU5T3dP9BXZVksAtM/KwcyIngv7T//WNEN+2TTP2xV3bI2ZtI/qTovuAB4oj8Qw/4R0cLPP2g28Tg3MdM/ryBMrnG80j8WJdIs4jS3P+NwFPT0P6q/JZ90uyjvyD+nDlPwGS3aP2DpaYzApck/m0nFXM0myT9XcsDdWiKzv73SP53oTcI/+wLromSpuT8Gi+sDrDS2P3L4/01M1bO/hGzxD3Ysar/U/CEP8QjXPwAAAAAAAPA/Hdn2B8Vd1z+Os0GrRyLWP0fcS/7e2sw/AoVnheAX1z+yvkBXTZPXP6aynzI4Btc//B/9BtjTzT+LnJchNAzMP2iY1/KhDek/prlz+GXi7j/cv2HSHurWP50XCs1oDe8/zOWZiBux7j/n5RANuZLOP62mm/oA4+I/JXYXhphY5z+pQmfmuGPrP5HC2CC3Dcw/A+CNF2VCyr9udwZUpgfnP9plyc6GLLq/kG/5QLAS5z/i8yaa2lvoP88RnQOc0Mu/w/vXoEqs0D9NNEc73QPNP0giFPGqR9k/kuMqOo+Pur8fnInF+GNQvwIILot0zO8/Hdn2B8Vd1z8AAAAAAADwP4sMfNlRSO8/IWUbVqFOzj/cLnBl6PDgP4yx6IV5yeM/5v83h08f6j9oTW6ZXj/RPz5Wl6RWycE/YBq/o3575z+mXFj2WB3uP/K19SOo/NU/fpkdEC0h7j8OuPEk4LHuP81FNFG/dco/pjrZo6xO4D+3JF/5r6HlP6BPbGB86Ok/MNxxyEWuxj97LZkaaK3Nv6hRymOvDOg/N/MpS0RMtb+TcEssAGLnP1tO/dMN9+k/3RffcS5Sx7/XXBrt/4TJP3hxa5DwG8g/rFPjTcXn1T9MTBYIbD+8v2fbgwQlSJe/B3akHAx97z+Os0GrRyLWP4sMfNlRSO8/AAAAAAAA8D/zQ044RsXKP7awMtsLDdw/BuSxsvZi4T8niwzW2urnP6xbUK9Hxco/ggBcfr9jtD9iYKzAR/naPzB9CdEpn74/YKB4l0LXsz+eqvzvM0XDPxfQQgYzn78/8WxKPzfF6T8r7cPJ6RjiPz8KKxKAudw/iT038uf53D9V+BXFpE7bP2lTgEh8KOA/ZZO9G2Mqwj+Gg/B0Otuyv/q5JlCfpcA/l1Oqx8IMwD/s8VoqEiDUPzuBhhNBG80/X5VkwcuQxT9izz+9m5DLP9ZJWvht7om/MlNgvS7VxT8zgbQBtrjLP0fcS/7e2sw/IWUbVqFOzj/zQ044RsXKPwAAAAAAAPA/uitmfZUu4j9vFSIpvpfgP7ONjxKvhuE/4+x3FQyb3z8EHQzPk8PjP6PF8CJ16eI/TBzKxSx22j/yuWPF9cfRP1gx8qpnK90/FPCNhXv82D+gto1I7DzePywF0Si1tOs/4QE7r7Io6D/k9jHQx1vlP8eNVrXoSN4/bKCW8fJc3T8AVLX05V/SPyxNpwAbqre/HxfvGALi1T8XgEYH4CDSP6uUnckdcqy/H0/mk5G45T/sKkoD6QffP3uyYogf/Nw/C9N0QbrZrj/UesDKXPjYP4wP6+LVc94/AoVnheAX1z/cLnBl6PDgP7awMtsLDdw/uitmfZUu4j8AAAAAAADwP+/Sd7pmjew/82/ySXOi6T+dxTggf6njP5/E1wU/7+k/2pc034Yb5T/DfQ9tddzgP7cG5Ez/Q9M/22FwhkwL4j8fSAGIRGfgP2DBO6rS1ds/epzNRe0e6j8T9yaekUrsP8uPcxyoE+g/ewfMwRXC2z8fqushsijWP0LKxad/W9g/ilAaaB2nsb/+Vnn6PM/aP58sBQp7pdg/RgDyQEnZrb+CqIbG43PkP0GvvbK5M+U/+4O4v0KW4T8bNZeXRAGjP7ETET6BUdg/n5AANQBe4j+yvkBXTZPXP4yx6IV5yeM/BuSxsvZi4T9vFSIpvpfgP+/Sd7pmjew/AAAAAAAA8D8uMcLUtl/rP384odBmCuE/Hf5iwOX35T/b1lqP5GTpP5LoIUua0Oc/RhRIbHTm0j8WovQpAa7oP5WbnpzCGuc/9PyRWAMZ4D8hHlcELRnqPzuHmFL1j+s/fS2mCf4f7T94qHLM+onbP8//U3cQccY/nTREbHb+4D++lEKRkKC+v2ANRta3weE/u7a/j6g44T+yOD0OHh26v6G8N57i7N4/Ywglk7Iw3D88Zl1lREfjPxik/3uwJJ+/DDiRG86Lyz/AOGaBkzLpP6aynzI4Btc/5v83h08f6j8niwzW2urnP7ONjxKvhuE/82/ySXOi6T8uMcLUtl/rPwAAAAAAAPA/mfPJorYU4D+IWqMNDFvgPzS93eSQpNo/uo/PQWz8xD/j3qBkzOG6P4jm+/DrNMg/rOprun9gwj+/ljjWXTzZP+1YJRbAU+A/3vYXBqk02j8SgRAsMQzYP6fcOBL5ZOY/9CzZ5o9g1T8jf3F89TO4P1GvyldXacC/oNXbo2YkvD98mDHO8PmyP3wIfY/Feru/4rgLncLI0T8EjjiBHFHJP9x8KT6dUcI/XOJjZvjr2D8PDcFKp3C8PxKrBgj3K88//B/9BtjTzT9oTW6ZXj/RP6xbUK9Hxco/4+x3FQyb3z+dxTggf6njP384odBmCuE/mfPJorYU4D8AAAAAAADwP9ZJAnENNuE/1fOoalK61D+Ic3E/HvF8P0E4wu09hL4/0tdNyRkfqj/I7n9MT55uP/fuXaTM9N8/vXKCNgn/5T8phABATnrgPwurJ94kmNc/7XJ8ffcO3D+F96T5sY3oPxmOSZvaX6k//acKHglgp78VG/+26N61PyE29CvS9ZE/yKBLKp36uT91Hfm1P+niPw9aLYL4Hdw/UUDBoMPh0z9TdRQ9BP2zP4MN59Uo7OI/nq3dHhfvtz+LnJchNAzMPz5Wl6RWycE/ggBcfr9jtD8EHQzPk8PjP5/E1wU/7+k/Hf5iwOX35T+IWqMNDFvgP9ZJAnENNuE/AAAAAAAA8D8=",
          "dtype": "f8",
          "shape": "31, 31"
         }
        }
       ],
       "layout": {
        "coloraxis": {
         "colorscale": [
          [
           0,
           "#0d0887"
          ],
          [
           0.1111111111111111,
           "#46039f"
          ],
          [
           0.2222222222222222,
           "#7201a8"
          ],
          [
           0.3333333333333333,
           "#9c179e"
          ],
          [
           0.4444444444444444,
           "#bd3786"
          ],
          [
           0.5555555555555556,
           "#d8576b"
          ],
          [
           0.6666666666666666,
           "#ed7953"
          ],
          [
           0.7777777777777778,
           "#fb9f3a"
          ],
          [
           0.8888888888888888,
           "#fdca26"
          ],
          [
           1,
           "#f0f921"
          ]
         ]
        },
        "height": 1000,
        "template": {
         "data": {
          "bar": [
           {
            "error_x": {
             "color": "#2a3f5f"
            },
            "error_y": {
             "color": "#2a3f5f"
            },
            "marker": {
             "line": {
              "color": "#E5ECF6",
              "width": 0.5
             },
             "pattern": {
              "fillmode": "overlay",
              "size": 10,
              "solidity": 0.2
             }
            },
            "type": "bar"
           }
          ],
          "barpolar": [
           {
            "marker": {
             "line": {
              "color": "#E5ECF6",
              "width": 0.5
             },
             "pattern": {
              "fillmode": "overlay",
              "size": 10,
              "solidity": 0.2
             }
            },
            "type": "barpolar"
           }
          ],
          "carpet": [
           {
            "aaxis": {
             "endlinecolor": "#2a3f5f",
             "gridcolor": "white",
             "linecolor": "white",
             "minorgridcolor": "white",
             "startlinecolor": "#2a3f5f"
            },
            "baxis": {
             "endlinecolor": "#2a3f5f",
             "gridcolor": "white",
             "linecolor": "white",
             "minorgridcolor": "white",
             "startlinecolor": "#2a3f5f"
            },
            "type": "carpet"
           }
          ],
          "choropleth": [
           {
            "colorbar": {
             "outlinewidth": 0,
             "ticks": ""
            },
            "type": "choropleth"
           }
          ],
          "contour": [
           {
            "colorbar": {
             "outlinewidth": 0,
             "ticks": ""
            },
            "colorscale": [
             [
              0,
              "#0d0887"
             ],
             [
              0.1111111111111111,
              "#46039f"
             ],
             [
              0.2222222222222222,
              "#7201a8"
             ],
             [
              0.3333333333333333,
              "#9c179e"
             ],
             [
              0.4444444444444444,
              "#bd3786"
             ],
             [
              0.5555555555555556,
              "#d8576b"
             ],
             [
              0.6666666666666666,
              "#ed7953"
             ],
             [
              0.7777777777777778,
              "#fb9f3a"
             ],
             [
              0.8888888888888888,
              "#fdca26"
             ],
             [
              1,
              "#f0f921"
             ]
            ],
            "type": "contour"
           }
          ],
          "contourcarpet": [
           {
            "colorbar": {
             "outlinewidth": 0,
             "ticks": ""
            },
            "type": "contourcarpet"
           }
          ],
          "heatmap": [
           {
            "colorbar": {
             "outlinewidth": 0,
             "ticks": ""
            },
            "colorscale": [
             [
              0,
              "#0d0887"
             ],
             [
              0.1111111111111111,
              "#46039f"
             ],
             [
              0.2222222222222222,
              "#7201a8"
             ],
             [
              0.3333333333333333,
              "#9c179e"
             ],
             [
              0.4444444444444444,
              "#bd3786"
             ],
             [
              0.5555555555555556,
              "#d8576b"
             ],
             [
              0.6666666666666666,
              "#ed7953"
             ],
             [
              0.7777777777777778,
              "#fb9f3a"
             ],
             [
              0.8888888888888888,
              "#fdca26"
             ],
             [
              1,
              "#f0f921"
             ]
            ],
            "type": "heatmap"
           }
          ],
          "histogram": [
           {
            "marker": {
             "pattern": {
              "fillmode": "overlay",
              "size": 10,
              "solidity": 0.2
             }
            },
            "type": "histogram"
           }
          ],
          "histogram2d": [
           {
            "colorbar": {
             "outlinewidth": 0,
             "ticks": ""
            },
            "colorscale": [
             [
              0,
              "#0d0887"
             ],
             [
              0.1111111111111111,
              "#46039f"
             ],
             [
              0.2222222222222222,
              "#7201a8"
             ],
             [
              0.3333333333333333,
              "#9c179e"
             ],
             [
              0.4444444444444444,
              "#bd3786"
             ],
             [
              0.5555555555555556,
              "#d8576b"
             ],
             [
              0.6666666666666666,
              "#ed7953"
             ],
             [
              0.7777777777777778,
              "#fb9f3a"
             ],
             [
              0.8888888888888888,
              "#fdca26"
             ],
             [
              1,
              "#f0f921"
             ]
            ],
            "type": "histogram2d"
           }
          ],
          "histogram2dcontour": [
           {
            "colorbar": {
             "outlinewidth": 0,
             "ticks": ""
            },
            "colorscale": [
             [
              0,
              "#0d0887"
             ],
             [
              0.1111111111111111,
              "#46039f"
             ],
             [
              0.2222222222222222,
              "#7201a8"
             ],
             [
              0.3333333333333333,
              "#9c179e"
             ],
             [
              0.4444444444444444,
              "#bd3786"
             ],
             [
              0.5555555555555556,
              "#d8576b"
             ],
             [
              0.6666666666666666,
              "#ed7953"
             ],
             [
              0.7777777777777778,
              "#fb9f3a"
             ],
             [
              0.8888888888888888,
              "#fdca26"
             ],
             [
              1,
              "#f0f921"
             ]
            ],
            "type": "histogram2dcontour"
           }
          ],
          "mesh3d": [
           {
            "colorbar": {
             "outlinewidth": 0,
             "ticks": ""
            },
            "type": "mesh3d"
           }
          ],
          "parcoords": [
           {
            "line": {
             "colorbar": {
              "outlinewidth": 0,
              "ticks": ""
             }
            },
            "type": "parcoords"
           }
          ],
          "pie": [
           {
            "automargin": true,
            "type": "pie"
           }
          ],
          "scatter": [
           {
            "fillpattern": {
             "fillmode": "overlay",
             "size": 10,
             "solidity": 0.2
            },
            "type": "scatter"
           }
          ],
          "scatter3d": [
           {
            "line": {
             "colorbar": {
              "outlinewidth": 0,
              "ticks": ""
             }
            },
            "marker": {
             "colorbar": {
              "outlinewidth": 0,
              "ticks": ""
             }
            },
            "type": "scatter3d"
           }
          ],
          "scattercarpet": [
           {
            "marker": {
             "colorbar": {
              "outlinewidth": 0,
              "ticks": ""
             }
            },
            "type": "scattercarpet"
           }
          ],
          "scattergeo": [
           {
            "marker": {
             "colorbar": {
              "outlinewidth": 0,
              "ticks": ""
             }
            },
            "type": "scattergeo"
           }
          ],
          "scattergl": [
           {
            "marker": {
             "colorbar": {
              "outlinewidth": 0,
              "ticks": ""
             }
            },
            "type": "scattergl"
           }
          ],
          "scattermap": [
           {
            "marker": {
             "colorbar": {
              "outlinewidth": 0,
              "ticks": ""
             }
            },
            "type": "scattermap"
           }
          ],
          "scattermapbox": [
           {
            "marker": {
             "colorbar": {
              "outlinewidth": 0,
              "ticks": ""
             }
            },
            "type": "scattermapbox"
           }
          ],
          "scatterpolar": [
           {
            "marker": {
             "colorbar": {
              "outlinewidth": 0,
              "ticks": ""
             }
            },
            "type": "scatterpolar"
           }
          ],
          "scatterpolargl": [
           {
            "marker": {
             "colorbar": {
              "outlinewidth": 0,
              "ticks": ""
             }
            },
            "type": "scatterpolargl"
           }
          ],
          "scatterternary": [
           {
            "marker": {
             "colorbar": {
              "outlinewidth": 0,
              "ticks": ""
             }
            },
            "type": "scatterternary"
           }
          ],
          "surface": [
           {
            "colorbar": {
             "outlinewidth": 0,
             "ticks": ""
            },
            "colorscale": [
             [
              0,
              "#0d0887"
             ],
             [
              0.1111111111111111,
              "#46039f"
             ],
             [
              0.2222222222222222,
              "#7201a8"
             ],
             [
              0.3333333333333333,
              "#9c179e"
             ],
             [
              0.4444444444444444,
              "#bd3786"
             ],
             [
              0.5555555555555556,
              "#d8576b"
             ],
             [
              0.6666666666666666,
              "#ed7953"
             ],
             [
              0.7777777777777778,
              "#fb9f3a"
             ],
             [
              0.8888888888888888,
              "#fdca26"
             ],
             [
              1,
              "#f0f921"
             ]
            ],
            "type": "surface"
           }
          ],
          "table": [
           {
            "cells": {
             "fill": {
              "color": "#EBF0F8"
             },
             "line": {
              "color": "white"
             }
            },
            "header": {
             "fill": {
              "color": "#C8D4E3"
             },
             "line": {
              "color": "white"
             }
            },
            "type": "table"
           }
          ]
         },
         "layout": {
          "annotationdefaults": {
           "arrowcolor": "#2a3f5f",
           "arrowhead": 0,
           "arrowwidth": 1
          },
          "autotypenumbers": "strict",
          "coloraxis": {
           "colorbar": {
            "outlinewidth": 0,
            "ticks": ""
           }
          },
          "colorscale": {
           "diverging": [
            [
             0,
             "#8e0152"
            ],
            [
             0.1,
             "#c51b7d"
            ],
            [
             0.2,
             "#de77ae"
            ],
            [
             0.3,
             "#f1b6da"
            ],
            [
             0.4,
             "#fde0ef"
            ],
            [
             0.5,
             "#f7f7f7"
            ],
            [
             0.6,
             "#e6f5d0"
            ],
            [
             0.7,
             "#b8e186"
            ],
            [
             0.8,
             "#7fbc41"
            ],
            [
             0.9,
             "#4d9221"
            ],
            [
             1,
             "#276419"
            ]
           ],
           "sequential": [
            [
             0,
             "#0d0887"
            ],
            [
             0.1111111111111111,
             "#46039f"
            ],
            [
             0.2222222222222222,
             "#7201a8"
            ],
            [
             0.3333333333333333,
             "#9c179e"
            ],
            [
             0.4444444444444444,
             "#bd3786"
            ],
            [
             0.5555555555555556,
             "#d8576b"
            ],
            [
             0.6666666666666666,
             "#ed7953"
            ],
            [
             0.7777777777777778,
             "#fb9f3a"
            ],
            [
             0.8888888888888888,
             "#fdca26"
            ],
            [
             1,
             "#f0f921"
            ]
           ],
           "sequentialminus": [
            [
             0,
             "#0d0887"
            ],
            [
             0.1111111111111111,
             "#46039f"
            ],
            [
             0.2222222222222222,
             "#7201a8"
            ],
            [
             0.3333333333333333,
             "#9c179e"
            ],
            [
             0.4444444444444444,
             "#bd3786"
            ],
            [
             0.5555555555555556,
             "#d8576b"
            ],
            [
             0.6666666666666666,
             "#ed7953"
            ],
            [
             0.7777777777777778,
             "#fb9f3a"
            ],
            [
             0.8888888888888888,
             "#fdca26"
            ],
            [
             1,
             "#f0f921"
            ]
           ]
          },
          "colorway": [
           "#636efa",
           "#EF553B",
           "#00cc96",
           "#ab63fa",
           "#FFA15A",
           "#19d3f3",
           "#FF6692",
           "#B6E880",
           "#FF97FF",
           "#FECB52"
          ],
          "font": {
           "color": "#2a3f5f"
          },
          "geo": {
           "bgcolor": "white",
           "lakecolor": "white",
           "landcolor": "#E5ECF6",
           "showlakes": true,
           "showland": true,
           "subunitcolor": "white"
          },
          "hoverlabel": {
           "align": "left"
          },
          "hovermode": "closest",
          "mapbox": {
           "style": "light"
          },
          "paper_bgcolor": "white",
          "plot_bgcolor": "#E5ECF6",
          "polar": {
           "angularaxis": {
            "gridcolor": "white",
            "linecolor": "white",
            "ticks": ""
           },
           "bgcolor": "#E5ECF6",
           "radialaxis": {
            "gridcolor": "white",
            "linecolor": "white",
            "ticks": ""
           }
          },
          "scene": {
           "xaxis": {
            "backgroundcolor": "#E5ECF6",
            "gridcolor": "white",
            "gridwidth": 2,
            "linecolor": "white",
            "showbackground": true,
            "ticks": "",
            "zerolinecolor": "white"
           },
           "yaxis": {
            "backgroundcolor": "#E5ECF6",
            "gridcolor": "white",
            "gridwidth": 2,
            "linecolor": "white",
            "showbackground": true,
            "ticks": "",
            "zerolinecolor": "white"
           },
           "zaxis": {
            "backgroundcolor": "#E5ECF6",
            "gridcolor": "white",
            "gridwidth": 2,
            "linecolor": "white",
            "showbackground": true,
            "ticks": "",
            "zerolinecolor": "white"
           }
          },
          "shapedefaults": {
           "line": {
            "color": "#2a3f5f"
           }
          },
          "ternary": {
           "aaxis": {
            "gridcolor": "white",
            "linecolor": "white",
            "ticks": ""
           },
           "baxis": {
            "gridcolor": "white",
            "linecolor": "white",
            "ticks": ""
           },
           "bgcolor": "#E5ECF6",
           "caxis": {
            "gridcolor": "white",
            "linecolor": "white",
            "ticks": ""
           }
          },
          "title": {
           "x": 0.05
          },
          "xaxis": {
           "automargin": true,
           "gridcolor": "white",
           "linecolor": "white",
           "ticks": "",
           "title": {
            "standoff": 15
           },
           "zerolinecolor": "white",
           "zerolinewidth": 2
          },
          "yaxis": {
           "automargin": true,
           "gridcolor": "white",
           "linecolor": "white",
           "ticks": "",
           "title": {
            "standoff": 15
           },
           "zerolinecolor": "white",
           "zerolinewidth": 2
          }
         }
        },
        "title": {
         "text": "Matriz de Correlação"
        },
        "width": 1000,
        "xaxis": {
         "anchor": "y",
         "domain": [
          0,
          1
         ]
        },
        "yaxis": {
         "anchor": "x",
         "autorange": "reversed",
         "domain": [
          0,
          1
         ]
        }
       }
      }
     },
     "metadata": {},
     "output_type": "display_data"
    }
   ],
   "source": [
    "# Criar cópia e converter diagnosis para numérico\n",
    "df_numeric = df_dataset.copy()\n",
    "df_numeric['diagnosis'] = df_numeric['diagnosis'].map({'Maligno': 1, 'Benigno': 0}).astype(int)\n",
    "\n",
    "# Remover coluna 'id' se existir\n",
    "if 'id' in df_numeric.columns:\n",
    "    df_numeric = df_numeric.drop('id', axis=1)\n",
    "\n",
    "fig = px.imshow(\n",
    "    df_numeric.corr(), \n",
    "    text_auto=True, \n",
    "    aspect=\"auto\", \n",
    "    title='Matriz de Correlação',\n",
    "    height=1000,\n",
    "    width=1000,\n",
    ")\n",
    "\n",
    "\n",
    "fig.show()"
   ]
  },
  {
   "cell_type": "code",
   "execution_count": 157,
   "id": "de33afd0",
   "metadata": {},
   "outputs": [
    {
     "data": {
      "application/vnd.plotly.v1+json": {
       "config": {
        "plotlyServerURL": "https://plot.ly"
       },
       "data": [
        {
         "coloraxis": "coloraxis",
         "hovertemplate": "x: %{x}<br>y: %{y}<br>color: %{z}<extra></extra>",
         "name": "0",
         "type": "heatmap",
         "x": [
          "concave points_worst",
          "perimeter_worst",
          "concave points_mean",
          "radius_worst",
          "perimeter_mean",
          "area_worst",
          "radius_mean",
          "area_mean",
          "concavity_mean",
          "concavity_worst",
          "compactness_mean",
          "compactness_worst",
          "radius_se",
          "perimeter_se",
          "area_se",
          "texture_worst",
          "smoothness_worst",
          "symmetry_worst",
          "texture_mean",
          "concave points_se",
          "smoothness_mean",
          "symmetry_mean",
          "fractal_dimension_worst",
          "compactness_se",
          "concavity_se",
          "fractal_dimension_se",
          "symmetry_se",
          "texture_se",
          "fractal_dimension_mean",
          "smoothness_se"
         ],
         "xaxis": "x",
         "y": [
          "diagnosis"
         ],
         "yaxis": "y",
         "z": {
          "bdata": "29Zaj+Rk6T9omNfyoQ3pP7VHkEQF2ug/dHs9mLXY6D+UpCCWq8PnP2Aav6N+e+c/LiqwwGRc5z8I3PDe/q/mP2jGESeUSOY/2pc034Yb5T+tiXvLzRbjP6PF8CJ16eI/17mc0/Ul4j8SzqaW58vhP66MPxkmi+E/OFzWVOU93T9iYKzAR/naPzS93eSQpNo/710nXWWS2j8BqZmWXR3aPyy87H6l8tY/9bR7aOMm1T/V86hqUrrUP9JM8+Z/wNI/oTO6xRs90D/QY64WAPazP86y1IKOtnq/4paQfFYBgb8mjv3dmUqKv1JOvxX2J7G/",
          "dtype": "f8",
          "shape": "1, 30"
         }
        }
       ],
       "layout": {
        "coloraxis": {
         "colorscale": [
          [
           0,
           "#0d0887"
          ],
          [
           0.1111111111111111,
           "#46039f"
          ],
          [
           0.2222222222222222,
           "#7201a8"
          ],
          [
           0.3333333333333333,
           "#9c179e"
          ],
          [
           0.4444444444444444,
           "#bd3786"
          ],
          [
           0.5555555555555556,
           "#d8576b"
          ],
          [
           0.6666666666666666,
           "#ed7953"
          ],
          [
           0.7777777777777778,
           "#fb9f3a"
          ],
          [
           0.8888888888888888,
           "#fdca26"
          ],
          [
           1,
           "#f0f921"
          ]
         ]
        },
        "template": {
         "data": {
          "bar": [
           {
            "error_x": {
             "color": "#2a3f5f"
            },
            "error_y": {
             "color": "#2a3f5f"
            },
            "marker": {
             "line": {
              "color": "#E5ECF6",
              "width": 0.5
             },
             "pattern": {
              "fillmode": "overlay",
              "size": 10,
              "solidity": 0.2
             }
            },
            "type": "bar"
           }
          ],
          "barpolar": [
           {
            "marker": {
             "line": {
              "color": "#E5ECF6",
              "width": 0.5
             },
             "pattern": {
              "fillmode": "overlay",
              "size": 10,
              "solidity": 0.2
             }
            },
            "type": "barpolar"
           }
          ],
          "carpet": [
           {
            "aaxis": {
             "endlinecolor": "#2a3f5f",
             "gridcolor": "white",
             "linecolor": "white",
             "minorgridcolor": "white",
             "startlinecolor": "#2a3f5f"
            },
            "baxis": {
             "endlinecolor": "#2a3f5f",
             "gridcolor": "white",
             "linecolor": "white",
             "minorgridcolor": "white",
             "startlinecolor": "#2a3f5f"
            },
            "type": "carpet"
           }
          ],
          "choropleth": [
           {
            "colorbar": {
             "outlinewidth": 0,
             "ticks": ""
            },
            "type": "choropleth"
           }
          ],
          "contour": [
           {
            "colorbar": {
             "outlinewidth": 0,
             "ticks": ""
            },
            "colorscale": [
             [
              0,
              "#0d0887"
             ],
             [
              0.1111111111111111,
              "#46039f"
             ],
             [
              0.2222222222222222,
              "#7201a8"
             ],
             [
              0.3333333333333333,
              "#9c179e"
             ],
             [
              0.4444444444444444,
              "#bd3786"
             ],
             [
              0.5555555555555556,
              "#d8576b"
             ],
             [
              0.6666666666666666,
              "#ed7953"
             ],
             [
              0.7777777777777778,
              "#fb9f3a"
             ],
             [
              0.8888888888888888,
              "#fdca26"
             ],
             [
              1,
              "#f0f921"
             ]
            ],
            "type": "contour"
           }
          ],
          "contourcarpet": [
           {
            "colorbar": {
             "outlinewidth": 0,
             "ticks": ""
            },
            "type": "contourcarpet"
           }
          ],
          "heatmap": [
           {
            "colorbar": {
             "outlinewidth": 0,
             "ticks": ""
            },
            "colorscale": [
             [
              0,
              "#0d0887"
             ],
             [
              0.1111111111111111,
              "#46039f"
             ],
             [
              0.2222222222222222,
              "#7201a8"
             ],
             [
              0.3333333333333333,
              "#9c179e"
             ],
             [
              0.4444444444444444,
              "#bd3786"
             ],
             [
              0.5555555555555556,
              "#d8576b"
             ],
             [
              0.6666666666666666,
              "#ed7953"
             ],
             [
              0.7777777777777778,
              "#fb9f3a"
             ],
             [
              0.8888888888888888,
              "#fdca26"
             ],
             [
              1,
              "#f0f921"
             ]
            ],
            "type": "heatmap"
           }
          ],
          "histogram": [
           {
            "marker": {
             "pattern": {
              "fillmode": "overlay",
              "size": 10,
              "solidity": 0.2
             }
            },
            "type": "histogram"
           }
          ],
          "histogram2d": [
           {
            "colorbar": {
             "outlinewidth": 0,
             "ticks": ""
            },
            "colorscale": [
             [
              0,
              "#0d0887"
             ],
             [
              0.1111111111111111,
              "#46039f"
             ],
             [
              0.2222222222222222,
              "#7201a8"
             ],
             [
              0.3333333333333333,
              "#9c179e"
             ],
             [
              0.4444444444444444,
              "#bd3786"
             ],
             [
              0.5555555555555556,
              "#d8576b"
             ],
             [
              0.6666666666666666,
              "#ed7953"
             ],
             [
              0.7777777777777778,
              "#fb9f3a"
             ],
             [
              0.8888888888888888,
              "#fdca26"
             ],
             [
              1,
              "#f0f921"
             ]
            ],
            "type": "histogram2d"
           }
          ],
          "histogram2dcontour": [
           {
            "colorbar": {
             "outlinewidth": 0,
             "ticks": ""
            },
            "colorscale": [
             [
              0,
              "#0d0887"
             ],
             [
              0.1111111111111111,
              "#46039f"
             ],
             [
              0.2222222222222222,
              "#7201a8"
             ],
             [
              0.3333333333333333,
              "#9c179e"
             ],
             [
              0.4444444444444444,
              "#bd3786"
             ],
             [
              0.5555555555555556,
              "#d8576b"
             ],
             [
              0.6666666666666666,
              "#ed7953"
             ],
             [
              0.7777777777777778,
              "#fb9f3a"
             ],
             [
              0.8888888888888888,
              "#fdca26"
             ],
             [
              1,
              "#f0f921"
             ]
            ],
            "type": "histogram2dcontour"
           }
          ],
          "mesh3d": [
           {
            "colorbar": {
             "outlinewidth": 0,
             "ticks": ""
            },
            "type": "mesh3d"
           }
          ],
          "parcoords": [
           {
            "line": {
             "colorbar": {
              "outlinewidth": 0,
              "ticks": ""
             }
            },
            "type": "parcoords"
           }
          ],
          "pie": [
           {
            "automargin": true,
            "type": "pie"
           }
          ],
          "scatter": [
           {
            "fillpattern": {
             "fillmode": "overlay",
             "size": 10,
             "solidity": 0.2
            },
            "type": "scatter"
           }
          ],
          "scatter3d": [
           {
            "line": {
             "colorbar": {
              "outlinewidth": 0,
              "ticks": ""
             }
            },
            "marker": {
             "colorbar": {
              "outlinewidth": 0,
              "ticks": ""
             }
            },
            "type": "scatter3d"
           }
          ],
          "scattercarpet": [
           {
            "marker": {
             "colorbar": {
              "outlinewidth": 0,
              "ticks": ""
             }
            },
            "type": "scattercarpet"
           }
          ],
          "scattergeo": [
           {
            "marker": {
             "colorbar": {
              "outlinewidth": 0,
              "ticks": ""
             }
            },
            "type": "scattergeo"
           }
          ],
          "scattergl": [
           {
            "marker": {
             "colorbar": {
              "outlinewidth": 0,
              "ticks": ""
             }
            },
            "type": "scattergl"
           }
          ],
          "scattermap": [
           {
            "marker": {
             "colorbar": {
              "outlinewidth": 0,
              "ticks": ""
             }
            },
            "type": "scattermap"
           }
          ],
          "scattermapbox": [
           {
            "marker": {
             "colorbar": {
              "outlinewidth": 0,
              "ticks": ""
             }
            },
            "type": "scattermapbox"
           }
          ],
          "scatterpolar": [
           {
            "marker": {
             "colorbar": {
              "outlinewidth": 0,
              "ticks": ""
             }
            },
            "type": "scatterpolar"
           }
          ],
          "scatterpolargl": [
           {
            "marker": {
             "colorbar": {
              "outlinewidth": 0,
              "ticks": ""
             }
            },
            "type": "scatterpolargl"
           }
          ],
          "scatterternary": [
           {
            "marker": {
             "colorbar": {
              "outlinewidth": 0,
              "ticks": ""
             }
            },
            "type": "scatterternary"
           }
          ],
          "surface": [
           {
            "colorbar": {
             "outlinewidth": 0,
             "ticks": ""
            },
            "colorscale": [
             [
              0,
              "#0d0887"
             ],
             [
              0.1111111111111111,
              "#46039f"
             ],
             [
              0.2222222222222222,
              "#7201a8"
             ],
             [
              0.3333333333333333,
              "#9c179e"
             ],
             [
              0.4444444444444444,
              "#bd3786"
             ],
             [
              0.5555555555555556,
              "#d8576b"
             ],
             [
              0.6666666666666666,
              "#ed7953"
             ],
             [
              0.7777777777777778,
              "#fb9f3a"
             ],
             [
              0.8888888888888888,
              "#fdca26"
             ],
             [
              1,
              "#f0f921"
             ]
            ],
            "type": "surface"
           }
          ],
          "table": [
           {
            "cells": {
             "fill": {
              "color": "#EBF0F8"
             },
             "line": {
              "color": "white"
             }
            },
            "header": {
             "fill": {
              "color": "#C8D4E3"
             },
             "line": {
              "color": "white"
             }
            },
            "type": "table"
           }
          ]
         },
         "layout": {
          "annotationdefaults": {
           "arrowcolor": "#2a3f5f",
           "arrowhead": 0,
           "arrowwidth": 1
          },
          "autotypenumbers": "strict",
          "coloraxis": {
           "colorbar": {
            "outlinewidth": 0,
            "ticks": ""
           }
          },
          "colorscale": {
           "diverging": [
            [
             0,
             "#8e0152"
            ],
            [
             0.1,
             "#c51b7d"
            ],
            [
             0.2,
             "#de77ae"
            ],
            [
             0.3,
             "#f1b6da"
            ],
            [
             0.4,
             "#fde0ef"
            ],
            [
             0.5,
             "#f7f7f7"
            ],
            [
             0.6,
             "#e6f5d0"
            ],
            [
             0.7,
             "#b8e186"
            ],
            [
             0.8,
             "#7fbc41"
            ],
            [
             0.9,
             "#4d9221"
            ],
            [
             1,
             "#276419"
            ]
           ],
           "sequential": [
            [
             0,
             "#0d0887"
            ],
            [
             0.1111111111111111,
             "#46039f"
            ],
            [
             0.2222222222222222,
             "#7201a8"
            ],
            [
             0.3333333333333333,
             "#9c179e"
            ],
            [
             0.4444444444444444,
             "#bd3786"
            ],
            [
             0.5555555555555556,
             "#d8576b"
            ],
            [
             0.6666666666666666,
             "#ed7953"
            ],
            [
             0.7777777777777778,
             "#fb9f3a"
            ],
            [
             0.8888888888888888,
             "#fdca26"
            ],
            [
             1,
             "#f0f921"
            ]
           ],
           "sequentialminus": [
            [
             0,
             "#0d0887"
            ],
            [
             0.1111111111111111,
             "#46039f"
            ],
            [
             0.2222222222222222,
             "#7201a8"
            ],
            [
             0.3333333333333333,
             "#9c179e"
            ],
            [
             0.4444444444444444,
             "#bd3786"
            ],
            [
             0.5555555555555556,
             "#d8576b"
            ],
            [
             0.6666666666666666,
             "#ed7953"
            ],
            [
             0.7777777777777778,
             "#fb9f3a"
            ],
            [
             0.8888888888888888,
             "#fdca26"
            ],
            [
             1,
             "#f0f921"
            ]
           ]
          },
          "colorway": [
           "#636efa",
           "#EF553B",
           "#00cc96",
           "#ab63fa",
           "#FFA15A",
           "#19d3f3",
           "#FF6692",
           "#B6E880",
           "#FF97FF",
           "#FECB52"
          ],
          "font": {
           "color": "#2a3f5f"
          },
          "geo": {
           "bgcolor": "white",
           "lakecolor": "white",
           "landcolor": "#E5ECF6",
           "showlakes": true,
           "showland": true,
           "subunitcolor": "white"
          },
          "hoverlabel": {
           "align": "left"
          },
          "hovermode": "closest",
          "mapbox": {
           "style": "light"
          },
          "paper_bgcolor": "white",
          "plot_bgcolor": "#E5ECF6",
          "polar": {
           "angularaxis": {
            "gridcolor": "white",
            "linecolor": "white",
            "ticks": ""
           },
           "bgcolor": "#E5ECF6",
           "radialaxis": {
            "gridcolor": "white",
            "linecolor": "white",
            "ticks": ""
           }
          },
          "scene": {
           "xaxis": {
            "backgroundcolor": "#E5ECF6",
            "gridcolor": "white",
            "gridwidth": 2,
            "linecolor": "white",
            "showbackground": true,
            "ticks": "",
            "zerolinecolor": "white"
           },
           "yaxis": {
            "backgroundcolor": "#E5ECF6",
            "gridcolor": "white",
            "gridwidth": 2,
            "linecolor": "white",
            "showbackground": true,
            "ticks": "",
            "zerolinecolor": "white"
           },
           "zaxis": {
            "backgroundcolor": "#E5ECF6",
            "gridcolor": "white",
            "gridwidth": 2,
            "linecolor": "white",
            "showbackground": true,
            "ticks": "",
            "zerolinecolor": "white"
           }
          },
          "shapedefaults": {
           "line": {
            "color": "#2a3f5f"
           }
          },
          "ternary": {
           "aaxis": {
            "gridcolor": "white",
            "linecolor": "white",
            "ticks": ""
           },
           "baxis": {
            "gridcolor": "white",
            "linecolor": "white",
            "ticks": ""
           },
           "bgcolor": "#E5ECF6",
           "caxis": {
            "gridcolor": "white",
            "linecolor": "white",
            "ticks": ""
           }
          },
          "title": {
           "x": 0.05
          },
          "xaxis": {
           "automargin": true,
           "gridcolor": "white",
           "linecolor": "white",
           "ticks": "",
           "title": {
            "standoff": 15
           },
           "zerolinecolor": "white",
           "zerolinewidth": 2
          },
          "yaxis": {
           "automargin": true,
           "gridcolor": "white",
           "linecolor": "white",
           "ticks": "",
           "title": {
            "standoff": 15
           },
           "zerolinecolor": "white",
           "zerolinewidth": 2
          }
         }
        },
        "title": {
         "text": "Correlação das Features com Diagnosis (Ordenado)"
        },
        "xaxis": {
         "anchor": "y",
         "domain": [
          0,
          1
         ]
        },
        "yaxis": {
         "anchor": "x",
         "autorange": "reversed",
         "domain": [
          0,
          1
         ]
        }
       }
      }
     },
     "metadata": {},
     "output_type": "display_data"
    }
   ],
   "source": [
    "corr_diagnosis = df_numeric.corr()['diagnosis'].drop('diagnosis').sort_values(ascending=False)\n",
    "corr_df = pd.DataFrame({\n",
    "    'Feature': corr_diagnosis.index,\n",
    "    'Correlação': corr_diagnosis.values\n",
    "})\n",
    "\n",
    "fig = px.imshow(\n",
    "    corr_diagnosis.values.reshape(1, -1),\n",
    "    x=corr_diagnosis.index,\n",
    "    y=['diagnosis'],\n",
    "    aspect=\"auto\",\n",
    "    title='Correlação das Features com Diagnosis (Ordenado)',\n",
    ")\n",
    "\n",
    "fig.show()"
   ]
  },
  {
   "cell_type": "code",
   "execution_count": 158,
   "id": "b89b159a",
   "metadata": {},
   "outputs": [],
   "source": [
    "dados_normalizados = (df_numeric - df_numeric.min()) / (df_numeric.max() - df_numeric.min())\n",
    "dados_sem_normalizacao = df_numeric.copy()"
   ]
  },
  {
   "cell_type": "code",
   "execution_count": 159,
   "id": "d485eaed",
   "metadata": {},
   "outputs": [],
   "source": [
    "dados_normalizados_treino = dados_normalizados.sample(frac=0.8, random_state=42)\n",
    "dados_normalizados_teste = dados_normalizados.drop(dados_normalizados_treino.index)\n",
    "\n",
    "dados_sem_normalizacao_treino = dados_sem_normalizacao.sample(frac=0.8, random_state=42)\n",
    "dados_sem_normalizacao_teste = dados_sem_normalizacao.drop(dados_sem_normalizacao_treino.index)"
   ]
  },
  {
   "cell_type": "code",
   "execution_count": null,
   "id": "e3358af0",
   "metadata": {},
   "outputs": [],
   "source": []
  }
 ],
 "metadata": {
  "kernelspec": {
   "display_name": ".venv (3.10.0)",
   "language": "python",
   "name": "python3"
  },
  "language_info": {
   "codemirror_mode": {
    "name": "ipython",
    "version": 3
   },
   "file_extension": ".py",
   "mimetype": "text/x-python",
   "name": "python",
   "nbconvert_exporter": "python",
   "pygments_lexer": "ipython3",
   "version": "3.10.0"
  }
 },
 "nbformat": 4,
 "nbformat_minor": 5
}
